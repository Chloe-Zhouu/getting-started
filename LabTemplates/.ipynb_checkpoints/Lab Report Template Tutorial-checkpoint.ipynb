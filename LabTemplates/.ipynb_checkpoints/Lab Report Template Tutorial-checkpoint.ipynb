{
 "cells": [
  {
   "cell_type": "markdown",
   "metadata": {},
   "source": [
    "![alt text](https://github.com/callysto/callysto-sample-notebooks/blob/master/notebooks/images/Callysto_Notebook-Banner_Top_06.06.18.jpg?raw=true)"
   ]
  },
  {
   "cell_type": "markdown",
   "metadata": {
    "lang": "en"
   },
   "source": [
    "# Creating Interactive Tables\n",
    "\n",
    "In many lab reports it may be useful if your students to have a way to record data into Jupyter. This template will help you create your own lab assignments by simplifying the creation of interactive tables and graphs. We begin my importing  our helper functions below"
   ]
  },
  {
   "cell_type": "markdown",
   "metadata": {
    "lang": "fr"
   },
   "source": [
    "# Création de tables interactives\n",
    "\n",
    "Dans de nombreux rapports de laboratoire, il peut être utile que vos étudiants puissent enregistrer des données dans Jupyter. Ce modèle vous aidera à créer vos propres tâches de laboratoire en simplifiant la création de tableaux et de graphiques interactifs. Nous commençons mon importation de nos fonctions d'aide ci-dessous"
   ]
  },
  {
   "cell_type": "code",
   "execution_count": 1,
   "metadata": {},
   "outputs": [],
   "source": [
    "from lab_template_helpers import easy_table, graph_table"
   ]
  },
  {
   "cell_type": "markdown",
   "metadata": {
    "lang": "en"
   },
   "source": [
    "We now have access to two functions: `easy_table` and `graph_table`. The first function allows us to create or load custom tables, and the second allows us to graph those results interactively. \n",
    "\n",
    "## Creating A Blank Table For Data Entry. \n",
    "\n",
    "We will now use the `easy_table` function with its `create_table` method. The only information you need to provide this function is the filename that you want to save your table as. In this case, we'll call it \"`demonstration.csv`. Upon executing the cell below, you will need to provide some information to create your custom table(s).  You'll be asked to provide column names and if you want custom row names (and what those names are). If you do not want custom rows names, you will need to provide the number of rows you need. Please run the cell below and follow the prompts to create your blank table. "
   ]
  },
  {
   "cell_type": "markdown",
   "metadata": {
    "lang": "fr"
   },
   "source": [
    "Nous avons maintenant accès à deux fonctions: `easy _table` et` graph_ table`. La première fonction nous permet de créer ou de charger des tableaux personnalisés, et la seconde nous permet de représenter graphiquement ces résultats de manière interactive.\n",
    "\n",
    "## Création d'une table vide pour la saisie de données.\n",
    "\n",
    "Nous allons maintenant utiliser la fonction `easy _table` avec sa méthode` create_ table`. La seule information dont vous avez besoin pour fournir cette fonction est le nom de fichier sous lequel vous souhaitez enregistrer votre table. Dans ce cas, nous l'appellerons `` demonstration.csv`. Lors de l'exécution de la cellule ci-dessous, vous devrez fournir des informations pour créer votre (vos) table (s) personnalisée (s). voulez des noms de lignes personnalisés (et quels sont ces noms) Si vous ne voulez pas de noms de lignes personnalisés, vous devrez fournir le nombre de lignes dont vous avez besoin Veuillez exécuter la cellule ci-dessous et suivez les instructions pour créer votre tableau vide."
   ]
  },
  {
   "cell_type": "code",
   "execution_count": 2,
   "metadata": {
    "lang": "en"
   },
   "outputs": [
    {
     "name": "stdout",
     "output_type": "stream",
     "text": [
      "This will guide you through the creation of a custom empty table using your Jupyter notebook\n",
      "Please enter the names you would like to use for the columns of your table. Press enter on a blank entry when you're finished\n",
      "\n",
      "Continue to table creation (y/n)y\n",
      "Please enter a name for column 1 (Enter to finish): a\n",
      "Please enter a name for column 2 (Enter to finish): b\n",
      "Please enter a name for column 3 (Enter to finish): c\n",
      "Please enter a name for column 4 (Enter to finish): d\n",
      "Please enter a name for column 5 (Enter to finish): \n",
      "Do you want to have custom row names? (y/n):n\n",
      "How many rows does your table need? 4\n",
      "Sucessfully saved CSV for loading demonstration.csv\n"
     ]
    }
   ],
   "source": [
    "easy_table.create_table(\"demonstration.csv\")"
   ]
  },
  {
   "cell_type": "markdown",
   "metadata": {
    "lang": "fr"
   },
   "source": [
    "Table facile _table.create_ (\"demonstration.csv\")"
   ]
  },
  {
   "cell_type": "markdown",
   "metadata": {
    "lang": "en"
   },
   "source": [
    "Once we've created a table, we need to load it using the `load_table` method with the file we created using `create_table`. We also need to give our new table a name, in this case called `my_table`. "
   ]
  },
  {
   "cell_type": "markdown",
   "metadata": {
    "lang": "fr"
   },
   "source": [
    "Une fois que nous avons créé une table, nous devons la charger en utilisant la méthode `load _table` avec le fichier que nous avons créé en utilisant` create_ table`. Nous devons également donner un nom à notre nouvelle table, appelée dans ce cas `my_table`."
   ]
  },
  {
   "cell_type": "code",
   "execution_count": 3,
   "metadata": {
    "lang": "en"
   },
   "outputs": [
    {
     "data": {
      "application/vnd.jupyter.widget-view+json": {
       "model_id": "f2bf3289f4654370b18e8ff430dced0b",
       "version_major": 2,
       "version_minor": 0
      },
      "text/html": [
       "<p>Failed to display Jupyter Widget of type <code>QgridWidget</code>.</p>\n",
       "<p>\n",
       "  If you're reading this message in the Jupyter Notebook or JupyterLab Notebook, it may mean\n",
       "  that the widgets JavaScript is still loading. If this message persists, it\n",
       "  likely means that the widgets JavaScript library is either not installed or\n",
       "  not enabled. See the <a href=\"https://ipywidgets.readthedocs.io/en/stable/user_install.html\">Jupyter\n",
       "  Widgets Documentation</a> for setup instructions.\n",
       "</p>\n",
       "<p>\n",
       "  If you're reading this message in another frontend (for example, a static\n",
       "  rendering on GitHub or <a href=\"https://nbviewer.jupyter.org/\">NBViewer</a>),\n",
       "  it may mean that your frontend doesn't currently support widgets.\n",
       "</p>\n"
      ],
      "text/plain": [
       "QgridWidget(grid_options={'fullWidthRows': True, 'syncColumnCellResize': True, 'forceFitColumns': True, 'defaultColumnWidth': 150, 'rowHeight': 28, 'enableColumnReorder': False, 'enableTextSelectionOnCells': True, 'editable': True, 'autoEdit': False, 'explicitInitialization': True, 'maxVisibleRows': 15, 'minVisibleRows': 8, 'sortable': True, 'filterable': True, 'highlightSelectedCell': False, 'highlightSelectedRow': True}, precision=5, show_toolbar=True)"
      ]
     },
     "metadata": {},
     "output_type": "display_data"
    }
   ],
   "source": [
    "my_table = easy_table.load_table('demonstration.csv')\n",
    "my_table"
   ]
  },
  {
   "cell_type": "markdown",
   "metadata": {
    "lang": "en"
   },
   "source": [
    "Where this created table will only accept numerical entries. To modify the table, click on a cell and enter a new number. We do however note that using custom tables like this, it is not possible to type in your own \"text based\" results. These custom tables are for numbers only. \n",
    "\n",
    "Note you can sort and filter values in the table by clicking either the column name or the icon beside the column name respectively. \n",
    "\n",
    "\n",
    "## Loading A Preexisting File (Online or Local)\n",
    "\n",
    "If you don't want to create a blank table, you can load your own csv files, either from the internet or from your own Callysto directory. This is done using the `load_table` function. However, now we specify either a pre-filled csv file or one online. The example below shows how to load an online table. Note how we've also specified \"`external = True`\" to ensure that our loaded table will be properly indexed. \n",
    "\n",
    "### Note\n",
    "If this was a local file saved to your personal Callysto hub, we would type the file's path instead of a URL here. "
   ]
  },
  {
   "cell_type": "markdown",
   "metadata": {
    "lang": "fr"
   },
   "source": [
    "Où cette table créée acceptera uniquement les entrées numériques. Pour modifier la table, cliquez sur une cellule et entrez un nouveau numéro. Nous notons toutefois qu'en utilisant des tableaux personnalisés comme celui-ci, il n'est pas possible de saisir vos propres résultats \"basés sur du texte\". Ces tableaux personnalisés ne concernent que les nombres.\n",
    "\n",
    "Notez que vous pouvez trier et filtrer les valeurs dans la table en cliquant respectivement sur le nom de la colonne ou sur l'icône en regard du nom de la colonne.\n",
    "\n",
    "\n",
    "## Chargement d'un fichier préexistant (en ligne ou local)\n",
    "\n",
    "Si vous ne souhaitez pas créer de tableau vide, vous pouvez charger vos propres fichiers csv, depuis Internet ou depuis votre propre répertoire Callysto. Ceci est fait en utilisant la fonction `load_table`. Cependant, nous spécifions maintenant soit un fichier CSV prérempli, soit un fichier en ligne. L'exemple ci-dessous montre comment charger une table en ligne. Notez comment nous avons également spécifié \"` external = True` \"pour nous assurer que notre table chargée sera correctement indexée.\n",
    "\n",
    "### Remarque\n",
    "S'il s'agissait d'un fichier local enregistré sur votre hub Callysto personnel, vous devez taper le chemin du fichier au lieu d'une URL ici."
   ]
  },
  {
   "cell_type": "code",
   "execution_count": 4,
   "metadata": {},
   "outputs": [
    {
     "data": {
      "application/vnd.jupyter.widget-view+json": {
       "model_id": "9498008031504aa58655d4f95366eebb",
       "version_major": 2,
       "version_minor": 0
      },
      "text/html": [
       "<p>Failed to display Jupyter Widget of type <code>QgridWidget</code>.</p>\n",
       "<p>\n",
       "  If you're reading this message in the Jupyter Notebook or JupyterLab Notebook, it may mean\n",
       "  that the widgets JavaScript is still loading. If this message persists, it\n",
       "  likely means that the widgets JavaScript library is either not installed or\n",
       "  not enabled. See the <a href=\"https://ipywidgets.readthedocs.io/en/stable/user_install.html\">Jupyter\n",
       "  Widgets Documentation</a> for setup instructions.\n",
       "</p>\n",
       "<p>\n",
       "  If you're reading this message in another frontend (for example, a static\n",
       "  rendering on GitHub or <a href=\"https://nbviewer.jupyter.org/\">NBViewer</a>),\n",
       "  it may mean that your frontend doesn't currently support widgets.\n",
       "</p>\n"
      ],
      "text/plain": [
       "QgridWidget(grid_options={'fullWidthRows': True, 'syncColumnCellResize': True, 'forceFitColumns': True, 'defaultColumnWidth': 150, 'rowHeight': 28, 'enableColumnReorder': False, 'enableTextSelectionOnCells': True, 'editable': True, 'autoEdit': False, 'explicitInitialization': True, 'maxVisibleRows': 15, 'minVisibleRows': 8, 'sortable': True, 'filterable': True, 'highlightSelectedCell': False, 'highlightSelectedRow': True}, precision=5, show_toolbar=True)"
      ]
     },
     "metadata": {},
     "output_type": "display_data"
    }
   ],
   "source": [
    "online_table = easy_table.load_table(\"https://raw.githubusercontent.com/mwaskom/seaborn-data/master/iris.csv\", \n",
    "                                        external=True)\n",
    "online_table"
   ]
  },
  {
   "cell_type": "markdown",
   "metadata": {
    "lang": "en"
   },
   "source": [
    "Where conversely to the blank table, in the 'species' column, you are free to enter your own text. \n",
    "## Non-Comma Separated CSV files.\n",
    "\n",
    "In the event that you want to use a CSV with an alternative delimiter, we must specify the optional `sep` (for separator) argument. This allows us to properly read CSV files with delimiters such as\n",
    "\n",
    "1. tabs $\\rightarrow$ \"`\\t`\"\n",
    "2. Semicolons $\\rightarrow$ \"`;`\"\n",
    "3. Pipes $\\rightarrow$ \"`|`\"\n",
    "\n",
    "We demonstrate this below, first an example of if you do not specify your alternative delimiter"
   ]
  },
  {
   "cell_type": "markdown",
   "metadata": {
    "lang": "fr"
   },
   "source": [
    "Si, à l'inverse du tableau blanc, dans la colonne «espèces», vous êtes libre d'entrer votre propre texte.\n",
    "## Fichiers CSV non séparés par des virgules.\n",
    "\n",
    "Si vous souhaitez utiliser un CSV avec un autre délimiteur, vous devez spécifier l’argument optionnel `sep` (pour séparateur). Cela nous permet de lire correctement les fichiers CSV avec des délimiteurs tels que\n",
    "\n",
    "1. tabulations $\\rightarrow$ \"` \\ t` \"\n",
    "2. Point-virgule $\\rightarrow$ \"`; `\"\n",
    "3. Pipes $\\rightarrow$ \"` | `\"\n",
    "\n",
    "Nous montrons ceci ci-dessous, d'abord un exemple de si vous ne spécifiez pas votre délimiteur alternatif"
   ]
  },
  {
   "cell_type": "code",
   "execution_count": 5,
   "metadata": {},
   "outputs": [
    {
     "data": {
      "application/vnd.jupyter.widget-view+json": {
       "model_id": "3536a85b64dc429891ae96fd452f0080",
       "version_major": 2,
       "version_minor": 0
      },
      "text/html": [
       "<p>Failed to display Jupyter Widget of type <code>QgridWidget</code>.</p>\n",
       "<p>\n",
       "  If you're reading this message in the Jupyter Notebook or JupyterLab Notebook, it may mean\n",
       "  that the widgets JavaScript is still loading. If this message persists, it\n",
       "  likely means that the widgets JavaScript library is either not installed or\n",
       "  not enabled. See the <a href=\"https://ipywidgets.readthedocs.io/en/stable/user_install.html\">Jupyter\n",
       "  Widgets Documentation</a> for setup instructions.\n",
       "</p>\n",
       "<p>\n",
       "  If you're reading this message in another frontend (for example, a static\n",
       "  rendering on GitHub or <a href=\"https://nbviewer.jupyter.org/\">NBViewer</a>),\n",
       "  it may mean that your frontend doesn't currently support widgets.\n",
       "</p>\n"
      ],
      "text/plain": [
       "QgridWidget(grid_options={'fullWidthRows': True, 'syncColumnCellResize': True, 'forceFitColumns': True, 'defaultColumnWidth': 150, 'rowHeight': 28, 'enableColumnReorder': False, 'enableTextSelectionOnCells': True, 'editable': True, 'autoEdit': False, 'explicitInitialization': True, 'maxVisibleRows': 15, 'minVisibleRows': 8, 'sortable': True, 'filterable': True, 'highlightSelectedCell': False, 'highlightSelectedRow': True}, precision=5, show_toolbar=True)"
      ]
     },
     "metadata": {},
     "output_type": "display_data"
    }
   ],
   "source": [
    "tab_separated = easy_table.load_table(\"https://raw.githubusercontent.com/goodby/csv/master/src/Goodby/CSV/Import/Tests/Standard/Join/csv_files/tab-separated.csv\",\n",
    "                                        external = True)\n",
    "tab_separated"
   ]
  },
  {
   "cell_type": "markdown",
   "metadata": {
    "lang": "en"
   },
   "source": [
    "Note how all our values get parsed line-by-line, rather than into individual cells. If we specify the delimiter we get the following"
   ]
  },
  {
   "cell_type": "markdown",
   "metadata": {
    "lang": "fr"
   },
   "source": [
    "Notez que toutes nos valeurs sont analysées ligne par ligne plutôt que dans des cellules individuelles. Si nous spécifions le délimiteur, nous obtenons le suivant"
   ]
  },
  {
   "cell_type": "code",
   "execution_count": 6,
   "metadata": {},
   "outputs": [
    {
     "data": {
      "application/vnd.jupyter.widget-view+json": {
       "model_id": "5acf17ab44ae42beaf0095e194544b78",
       "version_major": 2,
       "version_minor": 0
      },
      "text/html": [
       "<p>Failed to display Jupyter Widget of type <code>QgridWidget</code>.</p>\n",
       "<p>\n",
       "  If you're reading this message in the Jupyter Notebook or JupyterLab Notebook, it may mean\n",
       "  that the widgets JavaScript is still loading. If this message persists, it\n",
       "  likely means that the widgets JavaScript library is either not installed or\n",
       "  not enabled. See the <a href=\"https://ipywidgets.readthedocs.io/en/stable/user_install.html\">Jupyter\n",
       "  Widgets Documentation</a> for setup instructions.\n",
       "</p>\n",
       "<p>\n",
       "  If you're reading this message in another frontend (for example, a static\n",
       "  rendering on GitHub or <a href=\"https://nbviewer.jupyter.org/\">NBViewer</a>),\n",
       "  it may mean that your frontend doesn't currently support widgets.\n",
       "</p>\n"
      ],
      "text/plain": [
       "QgridWidget(grid_options={'fullWidthRows': True, 'syncColumnCellResize': True, 'forceFitColumns': True, 'defaultColumnWidth': 150, 'rowHeight': 28, 'enableColumnReorder': False, 'enableTextSelectionOnCells': True, 'editable': True, 'autoEdit': False, 'explicitInitialization': True, 'maxVisibleRows': 15, 'minVisibleRows': 8, 'sortable': True, 'filterable': True, 'highlightSelectedCell': False, 'highlightSelectedRow': True}, precision=5, show_toolbar=True)"
      ]
     },
     "metadata": {},
     "output_type": "display_data"
    }
   ],
   "source": [
    "tab_separated = easy_table.load_table(\"https://raw.githubusercontent.com/goodby/csv/master/src/Goodby/CSV/Import/Tests/Standard/Join/csv_files/tab-separated.csv\",\n",
    "                                        external = True,\n",
    "                                        sep = '\\t')\n",
    "tab_separated"
   ]
  },
  {
   "cell_type": "markdown",
   "metadata": {
    "lang": "en"
   },
   "source": [
    "Which is the desired result. \n",
    "\n",
    "## Saving an Updated Table\n",
    "\n",
    "If your students have created their own data table/modified an existing one, it is possible to save their changes for later. To do this, use the `save_table` method of our `easy_table` function. In this case, feel free to change the entries of `my_table` to save your modifications. \n",
    "\n",
    "To use `save_table` we need to tell it which table we'd like to save, as well as provide a filename to save it as. We demonstrate this below."
   ]
  },
  {
   "cell_type": "markdown",
   "metadata": {
    "lang": "fr"
   },
   "source": [
    "Quel est le résultat souhaité.\n",
    "\n",
    "## Enregistrement d'une table mise à jour\n",
    "\n",
    "Si vos étudiants ont créé leur propre tableau de données / modifié un tableau existant, il est possible d'enregistrer leurs modifications pour plus tard. Pour ce faire, utilisez la méthode `save _table` de notre fonction` easy_ table`. Dans ce cas, n'hésitez pas à modifier les entrées de `ma _table` pour enregistrer vos modifications.\n",
    "\n",
    "Pour utiliser `save_ table`, nous devons lui indiquer la table que nous souhaitons enregistrer, ainsi que fournir un nom de fichier pour le sauvegarder. Nous démontrons ceci ci-dessous."
   ]
  },
  {
   "cell_type": "code",
   "execution_count": 7,
   "metadata": {},
   "outputs": [
    {
     "name": "stdout",
     "output_type": "stream",
     "text": [
      "Saved file updated_demonstration.csv successfully\n"
     ]
    }
   ],
   "source": [
    "easy_table.save_table(my_table, \"updated_demonstration.csv\")"
   ]
  },
  {
   "cell_type": "markdown",
   "metadata": {
    "lang": "en"
   },
   "source": [
    "We can now load our updated table and see the changes that we've made to our table. "
   ]
  },
  {
   "cell_type": "markdown",
   "metadata": {
    "lang": "fr"
   },
   "source": [
    "Nous pouvons maintenant charger notre tableau mis à jour et voir les modifications apportées à notre table."
   ]
  },
  {
   "cell_type": "code",
   "execution_count": 8,
   "metadata": {},
   "outputs": [
    {
     "data": {
      "application/vnd.jupyter.widget-view+json": {
       "model_id": "bed91acbb15546a79a2bc03949395867",
       "version_major": 2,
       "version_minor": 0
      },
      "text/html": [
       "<p>Failed to display Jupyter Widget of type <code>QgridWidget</code>.</p>\n",
       "<p>\n",
       "  If you're reading this message in the Jupyter Notebook or JupyterLab Notebook, it may mean\n",
       "  that the widgets JavaScript is still loading. If this message persists, it\n",
       "  likely means that the widgets JavaScript library is either not installed or\n",
       "  not enabled. See the <a href=\"https://ipywidgets.readthedocs.io/en/stable/user_install.html\">Jupyter\n",
       "  Widgets Documentation</a> for setup instructions.\n",
       "</p>\n",
       "<p>\n",
       "  If you're reading this message in another frontend (for example, a static\n",
       "  rendering on GitHub or <a href=\"https://nbviewer.jupyter.org/\">NBViewer</a>),\n",
       "  it may mean that your frontend doesn't currently support widgets.\n",
       "</p>\n"
      ],
      "text/plain": [
       "QgridWidget(grid_options={'fullWidthRows': True, 'syncColumnCellResize': True, 'forceFitColumns': True, 'defaultColumnWidth': 150, 'rowHeight': 28, 'enableColumnReorder': False, 'enableTextSelectionOnCells': True, 'editable': True, 'autoEdit': False, 'explicitInitialization': True, 'maxVisibleRows': 15, 'minVisibleRows': 8, 'sortable': True, 'filterable': True, 'highlightSelectedCell': False, 'highlightSelectedRow': True}, precision=5, show_toolbar=True)"
      ]
     },
     "metadata": {},
     "output_type": "display_data"
    }
   ],
   "source": [
    "easy_table.load_table(\"updated_demonstration.csv\")"
   ]
  },
  {
   "cell_type": "markdown",
   "metadata": {
    "lang": "en"
   },
   "source": [
    "## Special Note\n",
    "If you're creating a lab report for your students to use, they may never need to see the `create_table` function (unless of course you want them to). If you create the table yourself, you can distribute the created `CSV` file with the lab report and have your students load the file. Certainly, it may be easier to get students to create their own tables individually. \n",
    "\n",
    "\n",
    "\n",
    "\n",
    "# Interactive Graph Using Created/Loaded Tables\n",
    "\n",
    "To graph the data in a modified or downloaded table, we can use the `graph_from_table` method from the `graph_table` function. The `graph_from_table` method takes one argument which is the name of the table you created. For demonstration purposes, we will be using the `online_table` with `graph_from_table`."
   ]
  },
  {
   "cell_type": "markdown",
   "metadata": {
    "lang": "fr"
   },
   "source": [
    "## Note spéciale\n",
    "Si vous créez un rapport de laboratoire que vos étudiants pourront utiliser, ils n'auront peut-être jamais besoin de voir la fonction `create _table` (sauf si vous le souhaitez bien sûr). Si vous créez la table vous-même, vous pouvez distribuer le fichier CSV créé avec le rapport de laboratoire et demander à vos élèves de charger le fichier. Certes, il peut être plus facile d’inciter les élèves à créer leurs propres tables individuellement.\n",
    "\n",
    "\n",
    "\n",
    "\n",
    "# Graphique interactif utilisant des tables créées / chargées\n",
    "\n",
    "Pour représenter graphiquement les données dans une table modifiée ou téléchargée, nous pouvons utiliser la méthode `graph_ de _table` depuis la fonction` graph_ table`. La méthode `graph _de_ table` prend un argument qui est le nom de la table que vous avez créée. A des fins de démonstration, nous utiliserons la table `online _avec` graph_ from_table`."
   ]
  },
  {
   "cell_type": "code",
   "execution_count": 9,
   "metadata": {},
   "outputs": [
    {
     "data": {
      "text/html": [
       "<script>requirejs.config({paths: { 'plotly': ['https://cdn.plot.ly/plotly-latest.min']},});if(!window.Plotly) {{require(['plotly'],function(plotly) {window.Plotly=plotly;});}}</script>"
      ],
      "text/vnd.plotly.v1+html": [
       "<script>requirejs.config({paths: { 'plotly': ['https://cdn.plot.ly/plotly-latest.min']},});if(!window.Plotly) {{require(['plotly'],function(plotly) {window.Plotly=plotly;});}}</script>"
      ]
     },
     "metadata": {},
     "output_type": "display_data"
    },
    {
     "data": {
      "application/vnd.jupyter.widget-view+json": {
       "model_id": "cfcb9a6546c94c1c8b181ffb2603e99c",
       "version_major": 2,
       "version_minor": 0
      },
      "text/html": [
       "<p>Failed to display Jupyter Widget of type <code>interactive</code>.</p>\n",
       "<p>\n",
       "  If you're reading this message in the Jupyter Notebook or JupyterLab Notebook, it may mean\n",
       "  that the widgets JavaScript is still loading. If this message persists, it\n",
       "  likely means that the widgets JavaScript library is either not installed or\n",
       "  not enabled. See the <a href=\"https://ipywidgets.readthedocs.io/en/stable/user_install.html\">Jupyter\n",
       "  Widgets Documentation</a> for setup instructions.\n",
       "</p>\n",
       "<p>\n",
       "  If you're reading this message in another frontend (for example, a static\n",
       "  rendering on GitHub or <a href=\"https://nbviewer.jupyter.org/\">NBViewer</a>),\n",
       "  it may mean that your frontend doesn't currently support widgets.\n",
       "</p>\n"
      ],
      "text/plain": [
       "interactive(children=(VBox(children=(Output(), HBox(children=(VBox(children=(Dropdown(description='X axis data', options=('sepal_length', 'sepal_width', 'petal_length', 'petal_width', 'species'), value='sepal_length'), Dropdown(description='Y axis data', index=1, options=('sepal_length', 'sepal_width', 'petal_length', 'petal_width', 'species'), value='sepal_width'), Dropdown(description='Plot Type', options=('scatter', 'line', 'bar'), value='scatter'))), VBox(children=(Text(value='', continuous_update=False, description='Plot title:', placeholder='Enter plot title'), Text(value='', continuous_update=False, description='Y axis label:', placeholder='Y axis title'), Text(value='', continuous_update=False, description='X axis label:', placeholder='X axis title')))))), layout=Layout(align_items='center', border='solid', display='flex', flex_flow='column', width='100%')),), _dom_classes=('widget-interact',))"
      ]
     },
     "metadata": {},
     "output_type": "display_data"
    }
   ],
   "source": [
    "graph_table.graph_from_table(online_table)"
   ]
  },
  {
   "cell_type": "markdown",
   "metadata": {
    "lang": "en"
   },
   "source": [
    "In the widget above, you have three drop down menus with the following functions\n",
    "\n",
    "1. X axis data: This drop down selects which column of your data table to use as your $x$ points on the graph.\n",
    "2. Y axis data: This drop down selects which column of your data table to use as your $y$ points on the graph.\n",
    "3. Plot Type: This drop down allows to you to choose from a scatter plot, a line plot, or a bar graph to plot your data\n",
    "\n",
    "There are also three text entry boxes with the following function\n",
    "\n",
    "1. Plot title: Enter the title of your plot here\n",
    "2. Y axis label: Enter the title of the $y$ axis here\n",
    "3. X axis label: Enter the title of the $x$ axis here.\n",
    "\n",
    "### Note\n",
    "If you filter or sort your interactive table then re-run the plot cell, any sortation and filters will present in the data in the graph. \n",
    "\n",
    "### Other Plot Functionality\n",
    "\n",
    "If you hover your mouse of the plot you will be able to zoom on a highlighted area. There are several other functions along the top menu of the plot such as saving the image."
   ]
  },
  {
   "cell_type": "markdown",
   "metadata": {
    "lang": "fr"
   },
   "source": [
    "Dans le widget ci-dessus, vous avez trois menus déroulants avec les fonctions suivantes\n",
    "\n",
    "1. Données d'axe X: Cette liste déroulante sélectionne la colonne de votre tableau de données à utiliser comme points $x$ sur le graphique.\n",
    "2. Données d'axe Y: Cette liste déroulante sélectionne la colonne de votre tableau de données à utiliser comme points $y$ sur le graphique.\n",
    "3. Type de tracé: ce menu déroulant vous permet de choisir parmi un nuage de points, un tracé ou un graphique à barres pour tracer vos données.\n",
    "\n",
    "Il existe également trois zones de saisie de texte avec la fonction suivante\n",
    "\n",
    "1. Titre de la parcelle: Entrez le titre de votre parcelle ici\n",
    "2. Libellé de l'axe Y: entrez ici le titre de l'axe $y$\n",
    "3. Libellé de l'axe X: Entrez ici le titre de l'axe $x$.\n",
    "\n",
    "### Remarque\n",
    "Si vous filtrez ou triez votre tableau interactif, puis réexécutez la cellule de tracé, tous les tri et filtres seront présents dans les données du graphique.\n",
    "\n",
    "### Autre fonctionnalité du tracé\n",
    "\n",
    "Si vous passez votre souris sur le tracé, vous pourrez zoomer sur une zone en surbrillance. Il existe plusieurs autres fonctions dans le menu principal du tracé, telles que la sauvegarde de l'image."
   ]
  },
  {
   "cell_type": "markdown",
   "metadata": {},
   "source": [
    "![alt text](https://github.com/callysto/callysto-sample-notebooks/blob/master/notebooks/images/Callysto_Notebook-Banners_Bottom_06.06.18.jpg?raw=true)"
   ]
  }
 ],
 "metadata": {
  "kernelspec": {
   "display_name": "Python 3",
   "language": "python",
   "name": "python3"
  },
  "language_info": {
   "codemirror_mode": {
    "name": "ipython",
    "version": 3
   },
   "file_extension": ".py",
   "mimetype": "text/x-python",
   "name": "python",
   "nbconvert_exporter": "python",
   "pygments_lexer": "ipython3",
   "version": "3.6.3"
  },
  "nbTranslate": {
   "displayLangs": [
    "*"
   ],
   "hotkey": "alt-t",
   "langInMainMenu": true,
   "sourceLang": "en",
   "targetLang": "fr",
   "useGoogleTranslate": true
  }
 },
 "nbformat": 4,
 "nbformat_minor": 2
}
