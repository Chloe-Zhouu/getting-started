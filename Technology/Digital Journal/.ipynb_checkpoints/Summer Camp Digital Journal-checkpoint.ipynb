{
 "cells": [
  {
   "cell_type": "markdown",
   "metadata": {
    "lang": "en"
   },
   "source": [
    "# Summer Camp Digital Journal"
   ]
  },
  {
   "cell_type": "markdown",
   "metadata": {
    "lang": "fr"
   },
   "source": [
    "# Journal numérique du camp d'été"
   ]
  },
  {
   "cell_type": "markdown",
   "metadata": {
    "lang": "en"
   },
   "source": [
    "## Day 1 - Essential Question"
   ]
  },
  {
   "cell_type": "markdown",
   "metadata": {
    "lang": "fr"
   },
   "source": [
    "## Jour 1 - Question essentielle"
   ]
  },
  {
   "cell_type": "markdown",
   "metadata": {
    "lang": "en"
   },
   "source": [
    "_Enter essential question here_"
   ]
  },
  {
   "cell_type": "markdown",
   "metadata": {
    "lang": "fr"
   },
   "source": [
    "_Entrez la question essentielle ici_"
   ]
  },
  {
   "cell_type": "markdown",
   "metadata": {
    "lang": "en"
   },
   "source": [
    "### Description"
   ]
  },
  {
   "cell_type": "markdown",
   "metadata": {
    "lang": "en"
   },
   "source": [
    "### La description"
   ]
  },
  {
   "cell_type": "markdown",
   "metadata": {
    "lang": "en"
   },
   "source": [
    "_Enter description here_"
   ]
  },
  {
   "cell_type": "markdown",
   "metadata": {
    "lang": "fr"
   },
   "source": [
    "_Entrez la description ici_"
   ]
  },
  {
   "cell_type": "markdown",
   "metadata": {
    "lang": "en"
   },
   "source": [
    "### Scientific Evidence - Images and Video"
   ]
  },
  {
   "cell_type": "markdown",
   "metadata": {
    "lang": "fr"
   },
   "source": [
    "### Données scientifiques - Images et vidéo"
   ]
  },
  {
   "cell_type": "markdown",
   "metadata": {
    "lang": "en"
   },
   "source": [
    "#### Images\n",
    "\n",
    "To import an image modify the code below and then change the `src` parameter to the name of the image you uploaded (e.g. image.png). _Make sure you name your image without any spaces._ To adjust the image size change the value of the `width` paramter (e.g. 200). Run the cell with your code to see your image."
   ]
  },
  {
   "cell_type": "markdown",
   "metadata": {
    "lang": "fr"
   },
   "source": [
    "#### Images\n",
    "\n",
    "Pour importer une image, modifiez le code ci-dessous, puis remplacez le paramètre `src` par le nom de l'image que vous avez téléchargée (par exemple, image.png). _Assurez-vous de nommer votre image sans espaces._ Pour régler la taille de l'image, modifiez la valeur du paramètre `width` (par exemple 200). Exécutez la cellule avec votre code pour voir votre image."
   ]
  },
  {
   "cell_type": "markdown",
   "metadata": {},
   "source": [
    "<img src=\"media/image.png\" width=\"200\"/>"
   ]
  },
  {
   "cell_type": "markdown",
   "metadata": {
    "lang": "en"
   },
   "source": [
    "#### Video\n",
    "\n",
    "To import a video, modify the code below by changing the `src` parameter to the name of the video you uploaded (e.g. movie.mp4). _Make sure you name your video without any spaces._ To adjust the video size change the value of `width` and `height` parameters. Run the cell with your code to see your video."
   ]
  },
  {
   "cell_type": "markdown",
   "metadata": {
    "lang": "fr"
   },
   "source": [
    "#### Vidéo\n",
    "\n",
    "Pour importer une vidéo, modifiez le code ci-dessous en remplaçant le paramètre `src` par le nom de la vidéo que vous avez téléchargée (par exemple, movie.mp4). _Assurez-vous de nommer votre vidéo sans espaces._ Pour ajuster la taille de la vidéo, changez la valeur des paramètres `width` et` height`. Exécutez la cellule avec votre code pour voir votre vidéo."
   ]
  },
  {
   "cell_type": "code",
   "execution_count": null,
   "metadata": {},
   "outputs": [],
   "source": [
    "%%HTML\n",
    "<video width=\"400\" height=\"360\" controls> # change the video size\n",
    "  <source src=\"media/movie.mp4\" type=\"video/mp4\"> # change the filename here\n",
    "</video>"
   ]
  },
  {
   "cell_type": "markdown",
   "metadata": {
    "lang": "en"
   },
   "source": [
    "### YouTube Videos\n",
    "\n",
    "Importing YouTube videos can also be done easily. Simply use the two lines below. The only thing to customize is the link after `YouTubeVideo` which specifies which video to import. "
   ]
  },
  {
   "cell_type": "markdown",
   "metadata": {
    "lang": "fr"
   },
   "source": [
    "### Vidéos youtube\n",
    "\n",
    "L'importation de vidéos YouTube peut également être effectuée facilement. Utilisez simplement les deux lignes ci-dessous. La seule chose à personnaliser est le lien après YouTubeVideo qui spécifie la vidéo à importer."
   ]
  },
  {
   "cell_type": "code",
   "execution_count": null,
   "metadata": {},
   "outputs": [],
   "source": [
    "from IPython.display import YouTubeVideo\n",
    "YouTubeVideo('mbUawEZ2IZA')"
   ]
  },
  {
   "cell_type": "markdown",
   "metadata": {
    "lang": "en"
   },
   "source": [
    "### Summary and Plan for Tomorrow"
   ]
  },
  {
   "cell_type": "markdown",
   "metadata": {
    "lang": "fr"
   },
   "source": [
    "### Résumé et plan pour demain"
   ]
  },
  {
   "cell_type": "markdown",
   "metadata": {
    "lang": "en"
   },
   "source": [
    "_Enter summary and plan here_."
   ]
  },
  {
   "cell_type": "markdown",
   "metadata": {
    "lang": "fr"
   },
   "source": [
    "_Entrez le résumé et planifiez ici_."
   ]
  }
 ],
 "metadata": {
  "kernelspec": {
   "display_name": "Python 3",
   "language": "python",
   "name": "python3"
  },
  "language_info": {
   "codemirror_mode": {
    "name": "ipython",
    "version": 3
   },
   "file_extension": ".py",
   "mimetype": "text/x-python",
   "name": "python",
   "nbconvert_exporter": "python",
   "pygments_lexer": "ipython3",
   "version": "3.6.3"
  },
  "nbTranslate": {
   "displayLangs": [
    "*"
   ],
   "hotkey": "alt-t",
   "langInMainMenu": true,
   "sourceLang": "en",
   "targetLang": "fr",
   "useGoogleTranslate": true
  }
 },
 "nbformat": 4,
 "nbformat_minor": 2
}
