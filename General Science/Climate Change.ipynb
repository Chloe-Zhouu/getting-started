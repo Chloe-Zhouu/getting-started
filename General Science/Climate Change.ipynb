{
 "cells": [
  {
   "cell_type": "markdown",
   "metadata": {},
   "source": [
    "![alt text](https://github.com/callysto/callysto-sample-notebooks/blob/master/notebooks/images/Callysto_Notebook-Banner_Top_06.06.18.jpg?raw=true)"
   ]
  },
  {
   "cell_type": "markdown",
   "metadata": {
    "lang": "en"
   },
   "source": [
    "# Climate change"
   ]
  },
  {
   "cell_type": "markdown",
   "metadata": {
    "lang": "fr"
   },
   "source": [
    "# Changement climatique"
   ]
  },
  {
   "cell_type": "code",
   "execution_count": null,
   "metadata": {},
   "outputs": [],
   "source": [
    "%%html\n",
    "\n",
    "<script>\n",
    "  function code_toggle() {\n",
    "    if (code_shown){\n",
    "      $('div.input').hide('500');\n",
    "      $('#toggleButton').val('Show Code')\n",
    "    } else {\n",
    "      $('div.input').show('500');\n",
    "      $('#toggleButton').val('Hide Code')\n",
    "    }\n",
    "    code_shown = !code_shown\n",
    "  }\n",
    "\n",
    "  $( document ).ready(function(){\n",
    "    code_shown=false;\n",
    "    $('div.input').hide()\n",
    "  });\n",
    "</script>\n",
    "<form action=\"javascript:code_toggle()\"><input type=\"submit\" id=\"toggleButton\" value=\"Show Code\"></form>"
   ]
  },
  {
   "cell_type": "markdown",
   "metadata": {
    "lang": "en"
   },
   "source": [
    "## What do we know?\n",
    "\n",
    "The Earth's climate has been subject to changes throughout history. Most of these changes can be attributed to variations in Earth's orbit changing the amount of solar energy that the Earth receives. The reason behind the significant increase in warming since the industrial revolution is extremely likely to be the result of human activity. Most climate scientists agree that the major cause for global warming is due to expansion of greenhouse effect. The warming of Earth's surface as a result of the atmosphere trapping heat radiating from Earth towards space. \n",
    "\n",
    "Some of the gases in the atmosphere block heat from escaping. There are two types of green house gases; one that reacts physically or chemically to changes in temperature and one that doesn't. Long-lived gases like Carbon dioxide ($CO_{2}$), Methane, and Nitrous oxide are some of the important components of the Earth's atmosphere. These gases are \"forcing\"  climate change by responding to changes in temperatures. Short-lived gases like water vapour act as a feedback to the climate by increasing the possibility of clouds and precipitation."
   ]
  },
  {
   "cell_type": "markdown",
   "metadata": {
    "lang": "fr"
   },
   "source": [
    "## Que savons-nous?\n",
    "\n",
    "Le climat de la Terre a été soumis à des changements au cours de l'histoire. La plupart de ces changements peuvent être attribués à des variations de l'orbite terrestre modifiant la quantité d'énergie solaire reçue par la Terre. La raison de l'augmentation significative du réchauffement depuis la révolution industrielle est extrêmement susceptible d'être le résultat de l'activité humaine. La plupart des climatologues s'accordent à dire que la principale cause du réchauffement climatique est due à l'expansion de l'effet de serre. Le réchauffement de la surface de la Terre en raison du fait que l'atmosphère emprisonne la chaleur irradiant de la Terre vers l'espace.\n",
    "\n",
    "Certains gaz présents dans l'atmosphère empêchent la chaleur de s'échapper. Il existe deux types de gaz à effet de serre; celui qui réagit physiquement ou chimiquement aux changements de température et qui ne le fait pas. Les gaz à vie longue comme le dioxyde de carbone ($CO_{2}$), le méthane et l'oxyde nitreux sont quelques-uns des composants importants de l'atmosphère terrestre. Ces gaz forcent le changement climatique en réagissant aux changements de température. Les gaz à courte durée de vie, comme la vapeur d'eau, agissent comme une réaction au climat en augmentant la possibilité de nuages ​​et de précipitations."
   ]
  },
  {
   "cell_type": "markdown",
   "metadata": {
    "lang": "en"
   },
   "source": [
    "Over the last century the burning of fossil fuels like coal and oil has increased the concentration of $CO_{2}$ in the atmosphere. Earth is a complex integrated system of components and processes. A disturbance in one component can have unprecedented and irreversible effects over another component. Some consequences of changing the natural atmospheric greenhouse gas composition are warming of Earth in some regions. This may lead to an increase in precipitation, warming of oceans, and will cause melt glaciers and other ice."
   ]
  },
  {
   "cell_type": "markdown",
   "metadata": {
    "lang": "fr"
   },
   "source": [
    "Au cours du siècle dernier, la combustion de combustibles fossiles comme le charbon et le pétrole a augmenté la concentration de $CO_{2}$ dans l'atmosphère. La Terre est un système intégré complexe de composants et de processus. Une perturbation dans un composant peut avoir des effets sans précédent et irréversibles sur un autre composant. Certaines conséquences de la modification de la composition naturelle des gaz à effet de serre atmosphériques sont le réchauffement de la Terre dans certaines régions. Cela pourrait entraîner une augmentation des précipitations, un réchauffement des océans et causerait la fonte des glaciers et d’autres glaces."
   ]
  },
  {
   "cell_type": "markdown",
   "metadata": {
    "lang": "en"
   },
   "source": [
    "Below you will see a chart that represents monthly atmospheric $CO_{2}$ data collected from Mauna Loa Observatory, Hawaii from 2005 to present. It clearly shows the increase in $CO_{2}$ levels over in recent years."
   ]
  },
  {
   "cell_type": "markdown",
   "metadata": {
    "lang": "fr"
   },
   "source": [
    "Vous trouverez ci-dessous un graphique qui représente les données mensuelles de mathidés atmosphériques1 recueillies à l’observatoire de Mauna Loa, à Hawaii, de 2005 à ce jour. Il montre clairement l'augmentation des niveaux de $CO_{2}$ au cours des dernières années."
   ]
  },
  {
   "cell_type": "markdown",
   "metadata": {},
   "source": [
    " ![Rise in Carbon dioxide emission](images/CO2.png)"
   ]
  },
  {
   "cell_type": "markdown",
   "metadata": {
    "lang": "en"
   },
   "source": [
    "## How do we know?\n",
    "\n",
    "Earth-orbiting satellites and other scientific advancements have made it possible to understand Earth on a global scale. They have enabled scientists to collect many different types of information about the climate and use it to analyze how it has changed over the years. \n",
    "\n",
    "It is important to understand the evidence available for global climate change and the potential impacts it can cause to address the challenges that we may face. Knowing how these Earth systems have changed in the pastm and how they are changing in response to climate change now, will help us understand how they will likely change in the future.\n",
    "\n",
    "Scientists gather data on global temperature, carbon dioxide in the atmosphere, Arctic sea ice, land ice and sea level on a regular basis. They use this data to analyze and understand how climate is changing over the years.\n",
    "\n"
   ]
  },
  {
   "cell_type": "markdown",
   "metadata": {
    "lang": "fr"
   },
   "source": [
    "## Comment savons nous?\n",
    "\n",
    "Les satellites en orbite terrestre et d’autres avancées scientifiques ont permis de comprendre la Terre à l’échelle mondiale. Ils ont permis aux scientifiques de collecter de nombreux types d’informations sur le climat et de les utiliser pour analyser son évolution au fil des ans.\n",
    "\n",
    "Il est important de comprendre les preuves disponibles concernant le changement climatique mondial et les impacts potentiels qu’il peut engendrer pour relever les défis auxquels nous pourrions être confrontés. Savoir comment ces systèmes terrestres ont changé dans le pâturage et comment ils évoluent en réponse au changement climatique nous aidera à comprendre comment ils vont probablement changer à l’avenir.\n",
    "\n",
    "Les scientifiques recueillent régulièrement des données sur la température mondiale, le dioxyde de carbone dans l'atmosphère, la glace de mer de l'Arctique, la glace terrestre et le niveau de la mer. Ils utilisent ces données pour analyser et comprendre l'évolution du climat au fil des ans."
   ]
  },
  {
   "cell_type": "markdown",
   "metadata": {
    "lang": "en"
   },
   "source": [
    "## Evidence available for climate change"
   ]
  },
  {
   "cell_type": "markdown",
   "metadata": {
    "lang": "fr"
   },
   "source": [
    "## Des preuves disponibles pour le changement climatique"
   ]
  },
  {
   "cell_type": "markdown",
   "metadata": {
    "lang": "en"
   },
   "source": [
    "Let us put to use all the data collected by these Scientists to analyze and understand the evidences that are available to us for global climate change. In order to do that we shall pick three major evidences __Rise in Global Land-OCean temperature, decline in Arctic Sea Ice Extent and Area over the years and Sea level rise__.\n",
    "\n",
    "In order to verify these three evidences we will put to use the data collected by various scientists around the world, so in each section below we will first look for open data that is available free to use through various online sources, then download them. Once it's downloaded we will take a quick look at what we have in the dataset and use them to plot various graphs and make interesting visualizations that show the information thats hidden in these datasets."
   ]
  },
  {
   "cell_type": "markdown",
   "metadata": {
    "lang": "fr"
   },
   "source": [
    "Mettons à profit toutes les données collectées par ces scientifiques pour analyser et comprendre les preuves dont nous disposons pour le changement climatique mondial. Pour ce faire, nous choisirons trois preuves majeures __Hausse de la température mondiale terre-océan, le déclin de l'étendue et de la superficie de la glace de l'Arctique au fil des ans et l'élévation du niveau de la mer__.\n",
    "\n",
    "Afin de vérifier ces trois preuves, nous utiliserons les données collectées par divers scientifiques du monde entier. Dans chaque section ci-dessous, nous rechercherons d'abord des données ouvertes, disponibles gratuitement sur différentes sources en ligne, puis les téléchargerons. Une fois le téléchargement terminé, nous examinerons rapidement ce que nous avons dans le jeu de données et nous les utiliserons pour tracer différents graphiques et réaliser des visualisations intéressantes montrant les informations cachées dans ces jeux de données."
   ]
  },
  {
   "cell_type": "markdown",
   "metadata": {
    "lang": "en"
   },
   "source": [
    "### Evidence 1 : Global Land-Ocean Termperature index\n",
    "\n",
    "An increase in carbon dioxide and other human-made emissions into the atmosphere has caused our planet's average surface temperature to rise by 1.1 degrees celsius since the late 19th century\n",
    "\n",
    "The \"average\" global temperature concept is interesting because at this particular moment the highest and lowest temperatures recorded at different parts of the Earth are likely more than 55°C apart. Temperatures vary from Northern to Southern hemisphere based on seasonal extremeties and from night to day. Global average temperature is calculated by measuring termperatures at different locations around the globe, then track the changes in temperature. The difference between observed temperature and the long-term average temperature for each location and date the temperature anomalies of the location. Temperature anamoly value from each location is then used to calculate a global temperature average."
   ]
  },
  {
   "cell_type": "markdown",
   "metadata": {
    "lang": "fr"
   },
   "source": [
    "### Preuve 1: indice mondial de la terre et des océans\n",
    "\n",
    "Une augmentation des émissions de dioxyde de carbone et d’autres émissions anthropiques dans l’atmosphère a entraîné une hausse de 1,1 degré Celsius de la température moyenne à la surface de notre planète depuis la fin du XIX e siècle.\n",
    "\n",
    "Le concept de température globale «moyenne» est intéressant car, à ce moment précis, les températures les plus élevées et les plus basses enregistrées dans différentes parties de la Terre sont probablement séparées par plus de 55 ° C. Les températures varient du nord à l'hémisphère sud en fonction des extrémités saisonnières et de la nuit au jour. La température moyenne globale est calculée en mesurant les températures aux différents endroits du globe, puis en suivant l'évolution de la température. La différence entre la température observée et la température moyenne à long terme pour chaque emplacement et la date des anomalies de température de l'emplacement. La valeur anamolytique de température de chaque emplacement est ensuite utilisée pour calculer une moyenne de température globale."
   ]
  },
  {
   "cell_type": "markdown",
   "metadata": {
    "lang": "en"
   },
   "source": [
    "Below you can see a visualization created by NASA's scientific visualization studio showing the Global temperature anomalies from 1880 to 2017."
   ]
  },
  {
   "cell_type": "markdown",
   "metadata": {
    "lang": "fr"
   },
   "source": [
    "Ci-dessous vous pouvez voir une visualisation créée par le studio de visualisation scientifique de la NASA montrant les anomalies de température globales de 1880 à 2017."
   ]
  },
  {
   "cell_type": "code",
   "execution_count": null,
   "metadata": {},
   "outputs": [],
   "source": [
    "from IPython.display import YouTubeVideo\n",
    "YouTubeVideo('xlrFFiSROmg')"
   ]
  },
  {
   "cell_type": "markdown",
   "metadata": {
    "lang": "en"
   },
   "source": [
    "There are several sources from where you can download global surface temperature data, but NASA has data collected from various government organizations around the world in one place and they have nicely curated them so researchers and interested people can use them to do their own analysis.\n",
    "\n",
    "Data Source & Inspiration: NASA Global Climate Change, https://climate.nasa.gov/vital-signs/global-temperature/"
   ]
  },
  {
   "cell_type": "markdown",
   "metadata": {
    "lang": "fr"
   },
   "source": [
    "Il existe plusieurs sources pour télécharger des données de température de surface globale, mais la NASA dispose de données collectées auprès de diverses organisations gouvernementales à travers le monde et les a soigneusement organisées pour que les chercheurs et les personnes intéressées puissent les utiliser pour effectuer leurs propres analyses.\n",
    "\n",
    "Source de données et inspiration: NASA Global Climate Change, https://climate.nasa.gov/vital-signs/global-temperature/"
   ]
  },
  {
   "cell_type": "code",
   "execution_count": null,
   "metadata": {},
   "outputs": [],
   "source": [
    "import pandas as pd\n",
    "import matplotlib as mpl\n",
    "import matplotlib.pyplot as plt\n",
    "from plotly.offline import init_notebook_mode, iplot\n",
    "import plotly.graph_objs as go\n",
    "from plotly.graph_objs import *"
   ]
  },
  {
   "cell_type": "code",
   "execution_count": null,
   "metadata": {},
   "outputs": [],
   "source": [
    "url = 'https://climate.nasa.gov/system/internal_resources/details/original/647_Global_Temperature_Data_File.txt'\n",
    "\n",
    "global_temperature_df = pd.read_table(url, sep='\\s+', header=None, names=['Year','Annual Mean', 'Lowess smoothing'])"
   ]
  },
  {
   "cell_type": "markdown",
   "metadata": {
    "lang": "en"
   },
   "source": [
    "These are the last few rows of the Annual Mean temperature data from 2008 to 2017. "
   ]
  },
  {
   "cell_type": "markdown",
   "metadata": {
    "lang": "fr"
   },
   "source": [
    "Ce sont les dernières lignes des données de température moyenne annuelle de 2008 à 2017."
   ]
  },
  {
   "cell_type": "code",
   "execution_count": null,
   "metadata": {},
   "outputs": [],
   "source": [
    "global_temperature_df[['Year','Annual Mean']].tail(10)"
   ]
  },
  {
   "cell_type": "markdown",
   "metadata": {
    "lang": "en"
   },
   "source": [
    "Now lets use this data to create a line graph that will show us the global land and ocean surface temperature trend from 1880 to 2017. "
   ]
  },
  {
   "cell_type": "markdown",
   "metadata": {
    "lang": "fr"
   },
   "source": [
    "Nous allons maintenant utiliser ces données pour créer un graphique linéaire qui nous montrera la tendance globale de la température des terres et des océans de 1880 à 2017."
   ]
  },
  {
   "cell_type": "code",
   "execution_count": null,
   "metadata": {},
   "outputs": [],
   "source": [
    "init_notebook_mode(connected=True)\n",
    "\n",
    "trace0 = go.Scatter(\n",
    "    x = global_temperature_df['Year'],\n",
    "    y = global_temperature_df['Annual Mean'],\n",
    "    mode = 'lines+markers',\n",
    "    name = 'Annual Mean'\n",
    ")\n",
    "trace1 = go.Scatter(\n",
    "x = global_temperature_df['Year'],\n",
    "y = [0]*len(global_temperature_df['Annual Mean']),\n",
    "mode = 'lines',\n",
    "#opacity = 0.5,\n",
    "name='Reference value',\n",
    "hoverinfo = 'none'\n",
    ")\n",
    "\n",
    "data = [trace0,trace1]\n",
    "layout = go.Layout(dict(title='Global Land Ocean Temperature Index'),\n",
    "                   xaxis=dict(title='Year'),\n",
    "                   yaxis=dict(title='Temperature Anomaly')\n",
    ")\n",
    "fig = go.Figure(data=data,layout=layout)\n",
    "iplot(fig)"
   ]
  },
  {
   "cell_type": "markdown",
   "metadata": {
    "lang": "en"
   },
   "source": [
    "This graph illustrates the change in global surface temperature relative to 1951-1980 average temperatures. Seventeen of the 18 warmest years in the 136-year record all have occurred since 2001, with the exception of 1998. The year 2016 ranks as the warmest on record. "
   ]
  },
  {
   "cell_type": "markdown",
   "metadata": {
    "lang": "fr"
   },
   "source": [
    "Ce graphique illustre l'évolution de la température de surface mondiale par rapport aux températures moyennes de 1951-1980. Dix-sept des 18 années les plus chaudes du record de 136 ans se sont produites depuis 2001, à l'exception de 1998. L'année 2016 est la plus chaude jamais enregistrée."
   ]
  },
  {
   "cell_type": "markdown",
   "metadata": {
    "lang": "en"
   },
   "source": [
    "By looking at the graph above and the video one can see that 2016 was the warmest year since modern record keeping began."
   ]
  },
  {
   "cell_type": "markdown",
   "metadata": {
    "lang": "fr"
   },
   "source": [
    "En regardant le graphique ci-dessus et la vidéo, on peut voir que 2016 a été l'année la plus chaude depuis le début de la tenue des registres."
   ]
  },
  {
   "cell_type": "markdown",
   "metadata": {
    "lang": "en"
   },
   "source": [
    "### Evidence 2: Decline in extent and thickness of Arctic Sea Ice"
   ]
  },
  {
   "cell_type": "markdown",
   "metadata": {
    "lang": "fr"
   },
   "source": [
    "### Preuve 2: déclin de l'étendue et de l'épaisseur de la glace de mer de l'Arctique"
   ]
  },
  {
   "cell_type": "markdown",
   "metadata": {
    "lang": "en"
   },
   "source": [
    "Scientists keep a close eye on Arctic sea ice as it warms through the years and it is found to be shrinking by about 13.2% per decade, relative to the 1981 to 2010 average.\n",
    "\n",
    "Sea ice area and extent are two different measuers and they provide different information. Sea ice extent is a measure of edges of sea ice and all of the space inside it, while sea ice area is a measure of where there is ice only, not including the areas that doesn't have ice. Extent is always a larger number than area when compared at the same period of time.\n",
    "\n",
    "Decrease in both sea ice extent and area impacts a wide variety of marine lives that sustain in the Arctic right from single-celled algae to bowhead whales, polar bears and other mammals not excluding the indigenous people who rely on sea ice for transportation and hunting."
   ]
  },
  {
   "cell_type": "markdown",
   "metadata": {
    "lang": "fr"
   },
   "source": [
    "Les scientifiques surveillent de près la glace de mer arctique au fur et à mesure qu’elle se réchauffe au fil des ans et on constate qu’elle diminue d’environ 13,2% par décennie, par rapport à la moyenne de 1981 à 2010.\n",
    "\n",
    "La superficie et l'étendue des glaces de mer sont deux mesures différentes et fournissent des informations différentes. L'étendue de la glace de mer est une mesure des bords de la glace de mer et de tout l'espace à l'intérieur, tandis que la banquise est une mesure de la glace seulement, sans compter les zones sans glace. L'étendue est toujours un nombre plus important que la superficie par rapport à la même période.\n",
    "\n",
    "La diminution de l'étendue et de la superficie des glaces de mer affecte une grande variété de vies marines dans l'Arctique, des algues unicellulaires aux baleines boréales, aux ours polaires et autres mammifères, sans compter les populations indigènes qui utilisent la glace marine pour le transport et la chasse."
   ]
  },
  {
   "cell_type": "markdown",
   "metadata": {
    "lang": "en"
   },
   "source": [
    "The data used below is curated by NASA's global climate change intiative, originally pulled from National Snow and Ice Data Center."
   ]
  },
  {
   "cell_type": "markdown",
   "metadata": {
    "lang": "fr"
   },
   "source": [
    "Les données utilisées ci-dessous sont élaborées par l'Initiative mondiale sur le changement climatique de la NASA, initialement extraite du Centre national de données sur la neige et la glace."
   ]
  },
  {
   "cell_type": "code",
   "execution_count": null,
   "metadata": {},
   "outputs": [],
   "source": [
    "url = 'https://climate.nasa.gov/system/internal_resources/details/original/1270_minimum_extents_and_area_north_SBA_reg_20171001_2_.txt'\n",
    "\n",
    "arctic_ice_df = pd.read_table(url, sep='\\s+', skiprows=[0,1,2,3],header=None, names=['Year', 'MN', 'DY', 'Ice Extent', 'Year1', 'MN1', 'DY1', 'Ice Area'])"
   ]
  },
  {
   "cell_type": "code",
   "execution_count": null,
   "metadata": {},
   "outputs": [],
   "source": [
    "arctic_ice_df.head(10)"
   ]
  },
  {
   "cell_type": "markdown",
   "metadata": {
    "lang": "en"
   },
   "source": [
    "This line graph clearly represents the fact that the Arctic sea has been declining in area and extent over these years."
   ]
  },
  {
   "cell_type": "markdown",
   "metadata": {
    "lang": "fr"
   },
   "source": [
    "Ce graphique linéaire montre clairement que la superficie et l'étendue de la mer de l'Arctique ont diminué au cours de ces années."
   ]
  },
  {
   "cell_type": "code",
   "execution_count": null,
   "metadata": {},
   "outputs": [],
   "source": [
    "init_notebook_mode(connected=True)\n",
    "\n",
    "trace0 = go.Scatter(\n",
    "    x = arctic_ice_df['Year'],\n",
    "    y = arctic_ice_df['Ice Extent'],\n",
    "    mode = 'lines+markers',\n",
    "    name = 'Ice Extent'\n",
    ")\n",
    "\n",
    "trace1 = go.Scatter(\n",
    "x = arctic_ice_df['Year'],\n",
    "y = arctic_ice_df['Ice Area'],\n",
    "mode = 'lines+markers',\n",
    "#opacity = 0.5,\n",
    "name='Ice Area',\n",
    "#hoverinfo = 'none'\n",
    ")\n",
    "data = [trace0, trace1]\n",
    "layout = go.Layout(dict(title='Arctic Sea Ice Index'),\n",
    "                   xaxis=dict(title='Year'),\n",
    "                   yaxis=dict(title='Million Square Kms')\n",
    ")\n",
    "fig = go.Figure(data=data,layout=layout)\n",
    "iplot(fig)"
   ]
  },
  {
   "cell_type": "markdown",
   "metadata": {
    "lang": "en"
   },
   "source": [
    "The image below represents sea ice concetration data from NASA National Snow & Ice Data Center's distributed Active Archive center from April 2018.\n",
    "\n",
    "*Data Source: Maslanik, J. and J. Stroeve. 1999, updated daily. Near-Real-Time DMSP SSMIS Daily Polar Gridded Sea Ice Concentrations, Version 1. Boulder, Colorado USA. NASA National Snow and Ice Data Center Distributed Active Archive Center. doi: https://doi.org/10.5067/U8C09DWVX9LM. [April 2018]*"
   ]
  },
  {
   "cell_type": "markdown",
   "metadata": {
    "lang": "fr"
   },
   "source": [
    "L'image ci-dessous représente les données sur la pénétration des glaces de mer dans le centre d'archivage actif distribué par le Centre national de données sur la neige et la glace de la NASA à partir d'avril 2018.\n",
    "\n",
    "*Source de données: Maslanik, J. et J. Stroeve. 1999, mis à jour quotidiennement. DMSP en temps quasi-réel Concentrations quotidiennes de glace de mer à grille polaire SSMIS, version 1. Boulder, Colorado, États-Unis. Centre national de données sur la neige et la glace distribué par la NASA. Doi: https://doi.org/10.5067/U8C09DWVX9LM. [Avril 2018]*"
   ]
  },
  {
   "cell_type": "code",
   "execution_count": null,
   "metadata": {},
   "outputs": [],
   "source": [
    "import numpy as np\n",
    "import numpy.ma as ma\n",
    "\n",
    "sea_ice = ['./data/nt_20150418_f17_nrt_n.bin','./data/nt_20160331_f17_nrt_n.bin','./data/nt_20170418_f18_nrt_n.bin','./data/nt_20180423_f18_nrt_n.bin']\n",
    "\n",
    "def prepare_data(ice_data):\n",
    "    with open(ice_data, 'rb') as fr:\n",
    "        hdr = fr.read(300)\n",
    "        ice = np.fromfile(fr, dtype=np.uint8)\n",
    "\n",
    "    ice = ice.reshape(448, 304)\n",
    "\n",
    "    ice = ice / 250.\n",
    "\n",
    "    ice = ma.masked_greater(ice, 1.0)\n",
    "    dx = dy = 25000\n",
    "    x = np.arange(-3850000, +3750000, +dx)\n",
    "    y = np.arange(+5850000, -5350000, -dy)\n",
    "    return x, y, ice"
   ]
  },
  {
   "cell_type": "code",
   "execution_count": null,
   "metadata": {},
   "outputs": [],
   "source": [
    "%matplotlib inline\n",
    "\n",
    "import cartopy.crs as ccrs\n",
    "import matplotlib.pyplot as plt\n",
    "import matplotlib.animation as animation\n",
    "\n",
    "fig = plt.figure(figsize=(9,9))\n",
    "ax = plt.axes(projection=ccrs.NorthPolarStereo(central_longitude=0))\n",
    "i=2015\n",
    "for ice_data in sea_ice:\n",
    "    x, y, ice = prepare_data(ice_data)\n",
    "    cs = ax.coastlines(resolution='110m', linewidth=0.5)\n",
    "    ax.gridlines()\n",
    "    ax.set_extent([-180, 180, 40, 90], crs=ccrs.PlateCarree())\n",
    "    kw = dict(central_latitude=90, central_longitude=-45, true_scale_latitude=70)\n",
    "    cs = ax.pcolormesh(x, y, ice, cmap=plt.cm.Blues,\n",
    "                   transform=ccrs.Stereographic(**kw))\n",
    "    fig.suptitle(\"April %s\" %(i))\n",
    "    fig.savefig(f'./frames/frame_{i}.png', dpi=100, frameon=False, facecolor='white')\n",
    "    i+=1\n",
    "    \n",
    "plt.close(fig)"
   ]
  },
  {
   "cell_type": "code",
   "execution_count": null,
   "metadata": {},
   "outputs": [],
   "source": [
    "import imageio\n",
    "import os\n",
    "\n",
    "png_dir = \"./frames/\"\n",
    "images = []\n",
    "for subdir, dirs, files in os.walk(png_dir):\n",
    "    files = sorted(files)\n",
    "    for file in files:\n",
    "        file_path = os.path.join(subdir, file)\n",
    "        if file_path.endswith(\".png\"):\n",
    "            images.append(imageio.imread(file_path))\n",
    "kargs = { 'duration': 2 }\n",
    "imageio.mimsave('./gif/ice_concentration.gif', images, **kargs)"
   ]
  },
  {
   "cell_type": "markdown",
   "metadata": {
    "lang": "en"
   },
   "source": [
    "This GIF shows visualization of sea ice concentration data taken in the month of April in the years 2015 to 2018. One could clearly see the reduction in extent of sea ice between these years."
   ]
  },
  {
   "cell_type": "markdown",
   "metadata": {
    "lang": "fr"
   },
   "source": [
    "Ce GIF montre la visualisation des données de concentration de glace de mer prises au mois d’avril dans les années 2015 à 2018. On peut clairement voir la réduction de l’étendue de la glace de mer entre ces années."
   ]
  },
  {
   "cell_type": "markdown",
   "metadata": {},
   "source": [
    "![Sea Ice concentration](./gif/ice_concentration.gif)"
   ]
  },
  {
   "cell_type": "markdown",
   "metadata": {
    "lang": "en"
   },
   "source": [
    "### Evidence 3: Sea level rise"
   ]
  },
  {
   "cell_type": "markdown",
   "metadata": {
    "lang": "fr"
   },
   "source": [
    "### Preuve 3: élévation du niveau de la mer"
   ]
  },
  {
   "cell_type": "markdown",
   "metadata": {
    "lang": "en"
   },
   "source": [
    "The Global Mean Sea Level (GMSL) increases due to two main reasons one is thermal expansion of water and other is by melting of ice sheets and glaciers on land. The third, much smaller contributor is decline in water storage on land due to ground water pumping for everyday use which shifts the ground water to ocean.\n",
    "\n",
    "The GMSL has risen by 10 to 20 centimeters over the past century and the annual rate of rise is at 3.2mm per year over the past 20years."
   ]
  },
  {
   "cell_type": "markdown",
   "metadata": {
    "lang": "fr"
   },
   "source": [
    "Le niveau mondial moyen de la mer (GMSL) augmente en raison de deux raisons principales: la dilatation thermique de l'eau et la fonte des calottes glaciaires et des glaciers terrestres. Le troisième facteur, beaucoup moins important, est la diminution du stockage de l'eau sur terre due au pompage des eaux souterraines pour un usage quotidien, qui déplace l'eau souterraine vers l'océan.\n",
    "\n",
    "Le GMSL a augmenté de 10 à 20 centimètres au cours du siècle dernier et le taux de croissance annuel est de 3,2 mm par an au cours des 20 dernières années."
   ]
  },
  {
   "cell_type": "markdown",
   "metadata": {
    "lang": "en"
   },
   "source": [
    "According to U.N Atlas of the OCeans, about 8 of world's 10 largest cities are near a coast. As Sea water level increases and reaches inland, it can threaten the livelihood of people who live in those areas in addition to causing damage to infrastructure and causing erosion, more flooding, loss of habitat for fish, birds and plants. It also affects lives of millions of people who live in sea water flood prone low lying islands."
   ]
  },
  {
   "cell_type": "markdown",
   "metadata": {
    "lang": "fr"
   },
   "source": [
    "Selon l’Atlas des océans du Mexique, environ 8 des 10 plus grandes villes du monde se trouvent près d’une côte. Lorsque le niveau d'eau de mer augmente et atteint l'intérieur des terres, il peut menacer les moyens d'existence des populations vivant dans ces zones, en plus de causer des dommages aux infrastructures et des érosions, des inondations, des Cela affecte également la vie de millions de personnes qui vivent dans des îles basses exposées à des inondations d'eau de mer."
   ]
  },
  {
   "cell_type": "markdown",
   "metadata": {
    "lang": "en"
   },
   "source": [
    "Sea level is measured by two methods: tide gauges that uses various sensors to measure daily low and high tides around the world and satellite laser altimeters which directs laser pulse at oceans and measures the return speed and intensity of it to determine the height of the sea surface."
   ]
  },
  {
   "cell_type": "markdown",
   "metadata": {
    "lang": "fr"
   },
   "source": [
    "Le niveau de la mer est mesuré par deux méthodes: les marégraphes utilisant divers capteurs pour mesurer les marées basses et hautes quotidiennes dans le monde et les altimètres laser par satellite qui dirigent les impulsions laser vers les océans et en mesurent la hauteur. surface."
   ]
  },
  {
   "cell_type": "markdown",
   "metadata": {
    "lang": "en"
   },
   "source": [
    "Data Source: Below you will see the data that illustrates changes in sea level since 1993 from NASA's satellite sea level observations."
   ]
  },
  {
   "cell_type": "markdown",
   "metadata": {
    "lang": "fr"
   },
   "source": [
    "Source de données: Vous trouverez ci-dessous les données qui illustrent l'évolution du niveau de la mer depuis 1993 à partir des observations satellitaires de la NASA."
   ]
  },
  {
   "cell_type": "code",
   "execution_count": null,
   "metadata": {},
   "outputs": [],
   "source": [
    "from ftplib import FTP\n",
    "import re\n",
    "ftp_server = 'podaac.jpl.nasa.gov'\n",
    "directory = '/allData/merged_alt/L2/TP_J1_OSTM/global_mean_sea_level/'\n",
    "# Connecting to FTP server\n",
    "ftp = FTP(ftp_server)\n",
    "# Logging in to the ftp server (no login credentials required)\n",
    "ftp.login()\n",
    "# Changing the current working directory to the global mean sea level data directory\n",
    "ftp.cwd(directory)\n",
    "\n",
    "# Looping over all the existing files to find the GSML data file and reading it into a panda dataframe\n",
    "for f in ftp.nlst():\n",
    "    if re.match(r\"GMSL_TPJAOS(.*).txt\",f):\n",
    "        url = 'ftp://'+ftp_server+directory+f\n",
    "        print(\"Gathering data from\", url)\n",
    "        sea_level_df = pd.read_table(url, sep='\\s+', comment='H', header=None, usecols=[2,11], names=['Date','GMSL_variation'])\n",
    "ftp.quit();\n"
   ]
  },
  {
   "cell_type": "code",
   "execution_count": null,
   "metadata": {},
   "outputs": [],
   "source": [
    "from datetime import timedelta, datetime\n",
    "\n",
    "def convert_partial_year(number):\n",
    "\n",
    "    year = int(number)\n",
    "    d = timedelta(days=(number - year)*365)\n",
    "    day_one = datetime(year,1,1)\n",
    "    date = d + day_one\n",
    "    return date\n",
    "\n",
    "sea_level_df['Date'] = sea_level_df['Date'].apply(convert_partial_year)"
   ]
  },
  {
   "cell_type": "markdown",
   "metadata": {
    "lang": "en"
   },
   "source": [
    "Here is a quick look at the Global mean sea level dataset."
   ]
  },
  {
   "cell_type": "markdown",
   "metadata": {
    "lang": "fr"
   },
   "source": [
    "Voici un aperçu du jeu de données sur le niveau moyen mondial de la mer."
   ]
  },
  {
   "cell_type": "code",
   "execution_count": null,
   "metadata": {},
   "outputs": [],
   "source": [
    "sea_level_df.head(10)"
   ]
  },
  {
   "cell_type": "code",
   "execution_count": null,
   "metadata": {},
   "outputs": [],
   "source": [
    "init_notebook_mode(connected=True)\n",
    "\n",
    "trace0 = go.Scatter(\n",
    "    x = sea_level_df['Date'],\n",
    "    y = sea_level_df['GMSL_variation']-sea_level_df['GMSL_variation'][1],\n",
    "    mode = 'lines',\n",
    "    name = 'Global Mean Sea level (GMSL) variation'\n",
    ")\n",
    "\n",
    "data = [trace0]\n",
    "layout = go.Layout(dict(title='Global Mean Sea level (GMSL) variation'),\n",
    "                   xaxis=dict(title='Year'),\n",
    "                   yaxis=dict(title='Sea height variation (mm)')\n",
    ")\n",
    "fig = go.Figure(data=data,layout=layout)\n",
    "iplot(fig)"
   ]
  },
  {
   "cell_type": "markdown",
   "metadata": {
    "lang": "en"
   },
   "source": [
    "The graph above shows a clear indication of rise of sea height from early 1990s to present. It is expected that the sea level will continue to rise in future as the global tempertaures continue to warm up. How much and How fast will it rise depends mostly on rate of future $CO_{2}$ emissions and rate at which glacier and ice sheets melt."
   ]
  },
  {
   "cell_type": "markdown",
   "metadata": {
    "lang": "fr"
   },
   "source": [
    "Le graphique ci-dessus montre clairement l’augmentation de la hauteur de la mer depuis le début des années 90 jusqu’à présent. On s’attend à ce que le niveau de la mer continue d’augmenter à l’avenir à mesure que les températures mondiales continueront de se réchauffer. Combien et à quelle vitesse va-t-il augmenter dépend principalement du taux des futures émissions de $CO_{2}$ et du taux auquel les calottes glaciaires et les calottes glaciaires fondent."
   ]
  },
  {
   "cell_type": "markdown",
   "metadata": {
    "lang": "en"
   },
   "source": [
    "### Questions"
   ]
  },
  {
   "cell_type": "markdown",
   "metadata": {
    "lang": "fr"
   },
   "source": [
    "### Des questions"
   ]
  },
  {
   "cell_type": "markdown",
   "metadata": {
    "lang": "en"
   },
   "source": [
    "#### 1. Temperature Anomalies recorded in Canada:\n",
    "\n",
    "The graph below illustrates the Annual average temperature departures from the 1961-1990 reference value (or the average temperatures recorded between 1961 to 1990) in Canada from 1948 to 2014. The data was obtained from Government of Canada's Open Data Portal: https://open.canada.ca/data/en/dataset/49118c5d-850c-40bd-af75-4f47650a9800\n",
    "\n",
    "Take a look at the graph and answer the questions that follow."
   ]
  },
  {
   "cell_type": "markdown",
   "metadata": {
    "lang": "fr"
   },
   "source": [
    "#### 1. Anomalies de température enregistrées au Canada:\n",
    "\n",
    "Le graphique ci-dessous illustre les écarts de température annuels moyens entre la valeur de référence de 1961-1990 (ou les températures moyennes enregistrées entre 1961 et 1990) au Canada de 1948 à 2014. Les données proviennent du portail de données ouvertes du gouvernement du Canada: https: // open.canada.ca/data/fr/dataset/49118c5d-850c-40bd-af75-4f47650a9800\n",
    "\n",
    "Regardez le graphique et répondez aux questions qui suivent."
   ]
  },
  {
   "cell_type": "code",
   "execution_count": null,
   "metadata": {},
   "outputs": [],
   "source": [
    "ca_url = 'https://www.canada.ca/content/dam/eccc/migration/main/indicateurs-indicators/64c9e931-fcc6-4df6-ad44-c2b0236fe255/temperaturechange_en.csv'\n",
    "\n",
    "ca_df = pd.read_table(ca_url, sep=\",\", skiprows=[0,1])"
   ]
  },
  {
   "cell_type": "code",
   "execution_count": null,
   "metadata": {
    "scrolled": true
   },
   "outputs": [],
   "source": [
    "init_notebook_mode(connected=True)\n",
    "\n",
    "trace0 = go.Scatter(\n",
    "    x = ca_df['Year'],\n",
    "    y = ca_df['Temperature departure (degrees Celsius)'],\n",
    "    mode = 'lines+markers',\n",
    "    name = 'Annual Mean'\n",
    ")\n",
    "\n",
    "trace1 = go.Scatter(\n",
    "x = ca_df['Year'],\n",
    "y = [0]*len(ca_df['Temperature departure (degrees Celsius)']),\n",
    "mode = 'lines',\n",
    "#opacity = 0.5,\n",
    "name='Reference value',\n",
    "hoverinfo = 'none'\n",
    ")\n",
    "data = [trace0, trace1]\n",
    "layout = go.Layout(dict(title='Annual Average temperature departures in Canada'),\n",
    "                   xaxis=dict(title='Year'),\n",
    "                   yaxis=dict(title='Temperature Anomaly')\n",
    ")\n",
    "fig = go.Figure(data=data,layout=layout)\n",
    "iplot(fig)"
   ]
  },
  {
   "cell_type": "markdown",
   "metadata": {
    "lang": "en"
   },
   "source": [
    "1. What was the warmest and coldest year in Canada and by how much was it above or below the reference value?\n",
    "2. Do you see a trend in the annual average temperature departure? Is it an upward or downward trend and what does it signify?"
   ]
  },
  {
   "cell_type": "markdown",
   "metadata": {
    "lang": "fr"
   },
   "source": [
    "1. Quelle a été l'année la plus chaude et la plus froide au Canada et de combien était-elle supérieure ou inférieure à la valeur de référence?\n",
    "2. Voyez-vous une tendance dans la température moyenne annuelle de départ? S'agit-il d'une tendance à la hausse ou à la baisse et que signifie-t-elle?"
   ]
  },
  {
   "cell_type": "markdown",
   "metadata": {
    "lang": "en"
   },
   "source": [
    "#### 2. Sea ice concentration data recorded in Canada:"
   ]
  },
  {
   "cell_type": "markdown",
   "metadata": {
    "lang": "fr"
   },
   "source": [
    "#### 2. Données sur la concentration de glace de mer enregistrées au Canada:"
   ]
  },
  {
   "cell_type": "markdown",
   "metadata": {
    "lang": "en"
   },
   "source": [
    "The image below represents sea ice concetration data collected from in and around Hudson's bay in Canada.\n",
    "\n",
    "*Data source: Canadian Ice Service, . 2009. Canadian Ice Service Arctic Regional Sea Ice Charts in SIGRID-3 Format, Version 1. [Indicate subset used]. Boulder, Colorado USA. NSIDC: National Snow and Ice Data Center. doi: https://doi.org/10.7265/N51V5BW9. [Date Accessed].*"
   ]
  },
  {
   "cell_type": "markdown",
   "metadata": {
    "lang": "fr"
   },
   "source": [
    "L'image ci-dessous représente les données de pénétration de la glace de mer recueillies dans et autour de la baie d'Hudson au Canada.\n",
    "\n",
    "*Source de données: Service canadien des glaces,. 2009. Cartes des glaces de mer régionales de l'Arctique du Service canadien des glaces, format SIGRID-3, version 1. [Indiquer le sous-ensemble utilisé]. Boulder, Colorado, États-Unis. NSIDC: Centre national de données sur la neige et la glace. doi: https://doi.org/10.7265/N51V5BW9. [Date d'accès].*"
   ]
  },
  {
   "cell_type": "markdown",
   "metadata": {
    "lang": "en"
   },
   "source": [
    "Future work: Lay this on to a Canada map, animate with data from several years and ask relevent questions"
   ]
  },
  {
   "cell_type": "markdown",
   "metadata": {
    "lang": "fr"
   },
   "source": [
    "Travaux futurs: posez ceci sur une carte du Canada, animez avec des données de plusieurs années et posez des questions pertinentes"
   ]
  },
  {
   "cell_type": "code",
   "execution_count": null,
   "metadata": {},
   "outputs": [],
   "source": [
    "import geopandas as gpd\n",
    "import urllib.request as url\n",
    "import tarfile\n",
    "\n",
    "tar_file = url.urlopen(\"ftp://sidads.colorado.edu/pub/DATASETS/NOAA/G02171/Hudson_Bay/2018/cis_SGRDRHB_20180416T1800Z_pl_a.tar\")\n",
    "tar = tarfile.open(fileobj=tar_file, mode=\"r|\")\n",
    "tar.extractall(path='./data/')\n",
    "dbf, shp, shx, prj, xml = tar.getnames()\n",
    "geodf = gpd.read_file('./data/'+shp)"
   ]
  },
  {
   "cell_type": "code",
   "execution_count": null,
   "metadata": {},
   "outputs": [],
   "source": [
    "geodf = geodf.to_crs({'init': 'epsg:4326'})\n",
    "geodf.to_file(\"./data/cis_SGRDRHB_20180416T1800Z_pl_a.json\", driver = \"GeoJSON\")\n",
    "geodf.head()"
   ]
  },
  {
   "cell_type": "code",
   "execution_count": null,
   "metadata": {},
   "outputs": [],
   "source": [
    "geodf.plot(linewidth=0.1, edgecolor='White', column='CT', scheme='quantiles', cmap='Blues')\n",
    "plt.xlabel('longitude')\n",
    "plt.ylabel('latitude')\n",
    "plt.show()"
   ]
  },
  {
   "cell_type": "markdown",
   "metadata": {
    "lang": "en"
   },
   "source": [
    "1. Place holder question1?\n",
    "2. Place holder question2?"
   ]
  },
  {
   "cell_type": "markdown",
   "metadata": {
    "lang": "fr"
   },
   "source": [
    "1. Placez le porteur question1?\n",
    "2. Placez la question du détenteur2?"
   ]
  },
  {
   "cell_type": "markdown",
   "metadata": {},
   "source": [
    "![alt text](https://github.com/callysto/callysto-sample-notebooks/blob/master/notebooks/images/Callysto_Notebook-Banners_Bottom_06.06.18.jpg?raw=true)"
   ]
  }
 ],
 "metadata": {
  "kernelspec": {
   "display_name": "Python 3",
   "language": "python",
   "name": "python3"
  },
  "language_info": {
   "codemirror_mode": {
    "name": "ipython",
    "version": 3
   },
   "file_extension": ".py",
   "mimetype": "text/x-python",
   "name": "python",
   "nbconvert_exporter": "python",
   "pygments_lexer": "ipython3",
   "version": "3.6.3"
  },
  "nbTranslate": {
   "displayLangs": [
    "*"
   ],
   "hotkey": "alt-t",
   "langInMainMenu": true,
   "sourceLang": "en",
   "targetLang": "fr",
   "useGoogleTranslate": true
  }
 },
 "nbformat": 4,
 "nbformat_minor": 2
}
