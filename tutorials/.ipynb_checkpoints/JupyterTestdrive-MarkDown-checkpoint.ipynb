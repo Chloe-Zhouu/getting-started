{
 "cells": [
  {
   "cell_type": "markdown",
   "metadata": {},
   "source": [
    "![alt text](https://github.com/callysto/callysto-sample-notebooks/blob/master/notebooks/images/Callysto_Notebook-Banner_Top_06.06.18.jpg?raw=true)"
   ]
  },
  {
   "cell_type": "markdown",
   "metadata": {
    "lang": "en"
   },
   "source": [
    "# Jupyter Test Drive - Typesetting with Markdown\n",
    "\n",
    "This notebook demonstrates the use of Markdown to type set documents in Jupyter. After working through this notebook, you will be able to edit the text in any notebook.  In addition, you will be able to assist your students in editing the text of their own notebooks. \n",
    "\n",
    "## The _very_ Basics\n",
    "\n",
    "Note that you can view the source code behind any cell by double clicking it. To re-render or re-run the cell, use any of these options:\n",
    "1. Select `Cell` $\\rightarrow$ `Run Cells`\n",
    "2. Hit `Shift-Enter` \n",
    "3. Click the `Run` button above"
   ]
  },
  {
   "cell_type": "markdown",
   "metadata": {
    "lang": "fr"
   },
   "source": [
    "# Jupyter Test Drive - Composition avec Markdown\n",
    "\n",
    "Ce bloc-notes illustre l'utilisation de Markdown pour saisir des documents définis dans Jupyter. Après avoir parcouru ce bloc-notes, vous pourrez modifier le texte dans n'importe quel bloc-notes. De plus, vous pourrez aider vos étudiants à éditer le texte de leurs propres carnets.\n",
    "\n",
    "## Les _très_ bases\n",
    "\n",
    "Notez que vous pouvez afficher le code source derrière n'importe quelle cellule en double-cliquant dessus. Pour rendre ou réexécuter la cellule, utilisez l'une des options suivantes:\n",
    "1. Sélectionnez `Cell` $\\rightarrow$ ` Run Cells`\n",
    "2. Appuyez sur `Shift-Enter`\n",
    "3. Cliquez sur le bouton `Run` ci-dessus"
   ]
  },
  {
   "cell_type": "markdown",
   "metadata": {
    "lang": "en"
   },
   "source": [
    "## Creating and Deleting Markdown Cells\n",
    "The first step you may want to do is to create a new cell for typesetting. To do that, while you have this cell selected, from the top menu click the plus (+) sign next to the save button"
   ]
  },
  {
   "cell_type": "markdown",
   "metadata": {
    "lang": "fr"
   },
   "source": [
    "## Création et suppression de cellules de démarques\n",
    "La première étape que vous souhaitez peut-être consiste à créer une nouvelle cellule pour la composition. Pour ce faire, alors que cette cellule est sélectionnée, dans le menu supérieur, cliquez sur le signe plus (+) situé à côté du bouton Enregistrer."
   ]
  },
  {
   "cell_type": "markdown",
   "metadata": {
    "lang": "en"
   },
   "source": [
    "Once you have created the new cell, you will get a blank `Code` cell above. To change that cell into one that you can use for typesetting, select the cell, and from the dropdown menu at the top, change `Code` $\\rightarrow$ `Markdown`. This changes that cell type into a markdown cell, and it can now be used for typesetting!\n",
    "\n",
    "\n",
    "The next step will be learning how to delete cells. Select the cell above that you converted to a markdown cell. To remove this cell from your Jupyter notebook  click `Edit` $\\rightarrow$ `Delete Cells`. If you accidentally deleted an incorrect cell, you can always bring it back by clicking `Edit` $\\rightarrow$ `Undo Delete Cells`. d an incorrect cell, you can always bring it back by clicking `Edit` $\\rightarrow$ `Undo Delete Cells`. "
   ]
  },
  {
   "cell_type": "markdown",
   "metadata": {
    "lang": "fr"
   },
   "source": [
    "Une fois que vous avez créé la nouvelle cellule, vous obtiendrez une cellule vide \"Code\" ci-dessus. Pour changer cette cellule en une autre que vous pouvez utiliser pour la composition, sélectionnez la cellule et, dans le menu déroulant en haut, modifiez `Code` $\\rightarrow$` Markdown`. Cela change ce type de cellule en une cellule de démarque, et il peut maintenant être utilisé pour la composition!\n",
    "\n",
    "\n",
    "L'étape suivante consistera à apprendre à supprimer des cellules. Sélectionnez la cellule ci-dessus que vous avez convertie en une cellule de démarquage. Pour supprimer cette cellule de votre cahier Jupyter, cliquez sur «Edit» $\\rightarrow$ `Delete Cells`. Si vous avez accidentellement supprimé une cellule incorrecte, vous pouvez toujours la ramener en cliquant sur «Modifier» $\\rightarrow$ «Annuler la suppression des cellules». d une cellule incorrecte, vous pouvez toujours la ramener en cliquant sur `Edit` $\\rightarrow$` Annuler la suppression des cellules`."
   ]
  },
  {
   "cell_type": "markdown",
   "metadata": {
    "lang": "en"
   },
   "source": [
    "## Creating Titles\n",
    "\n",
    "Creating large bold title text in a Jupyter notebook with markdown is very simple! All you need to do is on a new line, type the pound sign and then a space. After the space, add your title. It's that simple. By adding extra pound signs, you will create different title levels. The cell below is unformatted markdown text demonstrating this. To view the rendered cell, from the top menu click the drop down `Raw NBConvert` and select `Markdown`. "
   ]
  },
  {
   "cell_type": "markdown",
   "metadata": {
    "lang": "fr"
   },
   "source": [
    "## Créer des titres\n",
    "\n",
    "Créer un gros titre en gras dans un carnet Jupyter avec démarquage est très simple! Tout ce que vous avez à faire est sur une nouvelle ligne, tapez le signe dièse puis un espace. Après l'espace, ajoutez votre titre. C'est si simple. En ajoutant des signes supplémentaires, vous créerez différents niveaux de titre. La cellule ci-dessous est un texte de mise en forme non formaté démontrant cela. Pour afficher la cellule rendue, dans le menu supérieur, cliquez sur le menu déroulant `Raw NBConvert` et sélectionnez` Markdown`."
   ]
  },
  {
   "cell_type": "raw",
   "metadata": {},
   "source": [
    "# I am a level one title\n",
    "## I am a level two title\n",
    "### I am a level three title\n",
    "#### I am a level four title\n",
    "##### I am a level five title\n",
    "###### I am a level six title \n",
    "####### I would be a level seven title if such a thing existed\n",
    "\n",
    "If  # isn't the first character, that line does not get rendered as a title. "
   ]
  },
  {
   "cell_type": "markdown",
   "metadata": {
    "lang": "en"
   },
   "source": [
    "To see how those titles look when they're rendered in the Jupyter notebook, select the cell above, and from the top menu select `Raw NBConvert` $\\rightarrow$ `Markdown` then press `Ctrl + Enter` to render the cell. Feel free to create a new cell and play with those, or change  the one above . "
   ]
  },
  {
   "cell_type": "markdown",
   "metadata": {
    "lang": "fr"
   },
   "source": [
    "Pour voir comment ces titres apparaissent dans le bloc-notes Jupyter, sélectionnez la cellule ci-dessus et dans le menu supérieur, sélectionnez `Raw NBConvert` $\\rightarrow$` Markdown`, puis appuyez sur `Ctrl + Entrée` pour afficher la cellule. N'hésitez pas à créer une nouvelle cellule et à jouer avec celles-ci ou à modifier celle ci-dessus."
   ]
  },
  {
   "cell_type": "markdown",
   "metadata": {
    "lang": "en"
   },
   "source": [
    "## Creating Itemized Lists\n",
    "Creating lists in markdown in a Jupyter notebook is also straight forward! To do so you simply need to start a new line and begin counting. The markdown syntax is shown in the code below. "
   ]
  },
  {
   "cell_type": "markdown",
   "metadata": {
    "lang": "fr"
   },
   "source": [
    "## Créer des listes détaillées\n",
    "Créer des listes en démarque dans un cahier Jupyter est également simple! Pour ce faire, vous devez simplement commencer une nouvelle ligne et commencer à compter. La syntaxe de démarquage est indiquée dans le code ci-dessous."
   ]
  },
  {
   "cell_type": "markdown",
   "metadata": {
    "lang": "en"
   },
   "source": [
    "#### Double Click Me\n",
    "\n",
    "1. This is the first item of a list\n",
    "1. This is the second\n",
    "50. Notice how the numbers we use don't matter once it's rendered\n",
    "    1. By pressing the `Tab` key we can add sub items\n",
    "    45. The numbers don't matter here either\n",
    "        - We can add many sub-lists\n",
    "            - But at some point it starts to get redundant\n",
    "        - We can also go back a few levels of nesting by lining the text up with the line above\n",
    "2346. By going back to the original line, we leave our nested lists\n",
    "23236235672456. The numbers really don't matter.\n",
    "* In fact, you can give up on numbers at any time.\n",
    "1. Or start counting again\n",
    "    \n",
    "\n",
    "- We also don't need to have numbers if we don't want to!\n",
    "    * We have plenty of options\n",
    "-Notice how if we don't put a space between the dash and the first term it doesn't become a new item in the list!\n",
    "\n"
   ]
  },
  {
   "cell_type": "markdown",
   "metadata": {
    "lang": "fr"
   },
   "source": [
    "#### Double Click Me\n",
    "\n",
    "1. Ceci est le premier élément d'une liste\n",
    "1. Ceci est le deuxième\n",
    "50. Notez que les chiffres que nous utilisons ne comptent pas une fois qu'ils sont rendus\n",
    "    1. En appuyant sur la touche `Tab` on peut ajouter des sous-items\n",
    "    45. Les chiffres n'ont pas d'importance non plus\n",
    "        - On peut ajouter plusieurs sous-listes\n",
    "            - Mais à un moment donné, cela commence à devenir redondant\n",
    "        - Nous pouvons aussi remonter quelques niveaux de nidification en alignant le texte avec la ligne ci-dessus\n",
    "2346. En revenant à la ligne originale, nous quittons nos listes imbriquées\n",
    "23236235672456. Les chiffres ne comptent pas vraiment.\n",
    "*En fait, vous pouvez abandonner les chiffres à tout moment.\n",
    "1. Ou recommencez à compter\n",
    "    \n",
    "\n",
    "- Nous n'avons pas non plus besoin de chiffres si nous ne voulons pas!* Nous avons beaucoup d'options\n",
    "-Notez comment si nous ne mettons pas d'espace entre le tiret et le premier terme, cela ne devient pas un nouvel élément dans la liste!"
   ]
  },
  {
   "cell_type": "markdown",
   "metadata": {
    "lang": "en"
   },
   "source": [
    "---\n",
    "### Exercises 1\n",
    "1. In the cell above, try fixing the last line so that the last item in the list becomes properly formatted once it's rendered. \n",
    "2. Create a new cell below, add a title, and an ordered list of your five favourite fruits.\n",
    "---"
   ]
  },
  {
   "cell_type": "markdown",
   "metadata": {
    "lang": "fr"
   },
   "source": [
    "---\n",
    "### Exercices 1\n",
    "1. Dans la cellule ci-dessus, essayez de corriger la dernière ligne afin que le dernier élément de la liste soit correctement mis en forme une fois rendu.\n",
    "2. Créez une nouvelle cellule ci-dessous, ajoutez un titre et une liste ordonnée de vos cinq fruits préférés.\n",
    "---"
   ]
  },
  {
   "cell_type": "markdown",
   "metadata": {
    "lang": "en"
   },
   "source": [
    "## Links\n",
    "You can add hyper links to webpages anywhere you'd like right in the text. The syntax is as follows\n",
    "```markdown\n",
    "[text you want to display](link to a file or url page)\n",
    "```\n",
    "Change the cell below to markdown, run it, and see where the link takes you!"
   ]
  },
  {
   "cell_type": "markdown",
   "metadata": {
    "lang": "fr"
   },
   "source": [
    "## Liens\n",
    "Vous pouvez ajouter des hyperliens aux pages Web où vous voulez, directement dans le texte. La syntaxe est la suivante\n",
    "```markdown\n",
    "[texte que vous souhaitez afficher](lien vers une page de fichier ou une URL)\n",
    "```\n",
    "Changez la cellule ci-dessous pour la démarquer, l'exécuter et voir où le lien vous mène!"
   ]
  },
  {
   "cell_type": "raw",
   "metadata": {
    "lang": "en"
   },
   "source": [
    "[this is the text that becomes the hyperlink](https://media.giphy.com/media/Vs44a88Dvbnkk/giphy.gif)"
   ]
  },
  {
   "cell_type": "raw",
   "metadata": {
    "lang": "fr"
   },
   "source": [
    "[ceci est le texte qui devient l'hyperlien](https://media.giphy.com/media/Vs44a88Dvbnkk/giphy.gif)"
   ]
  },
  {
   "cell_type": "markdown",
   "metadata": {
    "lang": "en"
   },
   "source": [
    "## Images/gifs\n",
    "Images and gifs can be emebedded in a markdown cell nearly identically to placing a hyperlink. To display the image, add an exclamation point to the command as demonstrated below. \n",
    "```markdown\n",
    "![type anything here, it really doesn't matter, it's more for your reference](link in parenthesis)\n",
    "```\n",
    "would display an image/gif. It can either be a url link to an image, or one you have saved on the hub/locally. Change the cell below to markdown and run it to see it in action, or even embed your own images in this notebook. "
   ]
  },
  {
   "cell_type": "markdown",
   "metadata": {
    "lang": "fr"
   },
   "source": [
    "## Images / gifs\n",
    "Les images et les gifs peuvent être intégrés dans une cellule de démarcation de manière presque identique à celle d’un hyperlien. Pour afficher l'image, ajoutez un point d'exclamation à la commande, comme illustré ci-dessous.\n",
    "```markdown\n",
    "![tapez quelque chose ici, ça n'a pas d'importance, c'est plus pour votre référence](lien entre parenthèses)\n",
    "```\n",
    "afficherait une image / gif. Il peut s'agir d'un lien URL vers une image ou d'un lien enregistré sur le concentrateur / localement. Modifiez la cellule ci-dessous pour la démarquer et l'exécuter pour la voir en action, ou même intégrer vos propres images dans ce bloc-notes."
   ]
  },
  {
   "cell_type": "raw",
   "metadata": {
    "lang": "en"
   },
   "source": [
    "![type type type](https://media.giphy.com/media/gVoBC0SuaHStq/giphy.gif)"
   ]
  },
  {
   "cell_type": "raw",
   "metadata": {
    "lang": "fr"
   },
   "source": [
    "![type type type] (https://media.giphy.com/media/gVoBC0SuaHStq/giphy.gif)"
   ]
  },
  {
   "cell_type": "markdown",
   "metadata": {
    "lang": "en"
   },
   "source": [
    "---\n",
    "### Exercises 2\n",
    "1. In a new cell below, embed an image of a cat. \n",
    "2. In the same cell, add a hyperlink below the image that links to the original image.\n",
    "3. Change the text displayed in the hyperlink to say \"Kitty Kitty\".\n",
    "---"
   ]
  },
  {
   "cell_type": "markdown",
   "metadata": {
    "lang": "fr"
   },
   "source": [
    "---\n",
    "### Exercices 2\n",
    "1. Dans une nouvelle cellule ci-dessous, incorporez une image d'un chat.\n",
    "2. Dans la même cellule, ajoutez un lien hypertexte sous l'image qui est liée à l'image d'origine.\n",
    "3. Modifiez le texte affiché dans le lien hypertexte pour dire \"Kitty Kitty\".\n",
    "---"
   ]
  },
  {
   "cell_type": "markdown",
   "metadata": {
    "lang": "en"
   },
   "source": [
    "# Block Quotes\n",
    "Block quotes are a way to indent text/images with a grey bar in order to distinguish them from the main text. It is quite simlly done by adding a `>` at the beginning of a line. Change the cell below to markdown to see some examples"
   ]
  },
  {
   "cell_type": "markdown",
   "metadata": {
    "lang": "fr"
   },
   "source": [
    "# Citations de bloc\n",
    "Les guillemets sont un moyen d'indenter du texte / des images avec une barre grise afin de les distinguer du texte principal. Cela se fait tout simplement en ajoutant un `>` au début d'une ligne. Changez la cellule ci-dessous pour la démarquer pour voir quelques exemples"
   ]
  },
  {
   "cell_type": "raw",
   "metadata": {
    "lang": "en"
   },
   "source": [
    "> This is an example of a block quote. You can type as long as you like and all the resulting text will be to the left of a the vertical grey bar. \n",
    "\n",
    "You can also use block quotes to easily format images with captions! \n",
    "\n",
    "> ![this image will be in block quotes](https://media.giphy.com/media/fs6rnt1K0YyVWRXNwY/giphy.gif)\n",
    ">\n",
    "> Now we can include a caption for images. This is nice because the image is now distinguishable from the main text. This makes it easy to include images without interrupting any narrative you've created. Notice how I have included a blank `>` under the image. That is so the spacing of this text looks nice underneath. Try removing it and see what happens"
   ]
  },
  {
   "cell_type": "raw",
   "metadata": {
    "lang": "fr"
   },
   "source": [
    "> Ceci est un exemple de citation en bloc. Vous pouvez taper aussi longtemps que vous le souhaitez et tout le texte résultant sera à gauche de la barre grise verticale.\n",
    "\n",
    "Vous pouvez également utiliser des guillemets pour formater facilement des images avec des légendes!\n",
    "\n",
    ">![cette image sera entre guillemets](https://media.giphy.com/media/fs6rnt1K0YyVWRXNwY/giphy.gif)\n",
    ">\n",
    "> Maintenant, nous pouvons inclure une légende pour les images. C'est bien parce que l'image se distingue maintenant du texte principal. Cela facilite l’inclusion d’images sans interrompre le récit que vous avez créé. Remarquez comment j'ai inclus un blanc `>` sous l'image. C'est pourquoi l'espacement de ce texte semble bien en dessous. Essayez de le retirer et voyez ce qui se passe"
   ]
  },
  {
   "cell_type": "markdown",
   "metadata": {
    "lang": "en"
   },
   "source": [
    "## Tables\n",
    "\n",
    "One can also create tables of data in Markdown. However, doing this manually is often not the most convenient. For large tables we recommend using online tools (such as [here](https://jakebathman.github.io/Markdown-Table-Generator/)) where you can copy-paste excel tables or csv files. This will then output syntax to properly render those tables. For smaller tables, it's quite easy to type out your own. See the cell below."
   ]
  },
  {
   "cell_type": "markdown",
   "metadata": {
    "lang": "fr"
   },
   "source": [
    "## Les tables\n",
    "\n",
    "On peut également créer des tables de données dans Markdown. Cependant, le faire manuellement n'est souvent pas le plus pratique. Pour les grands tableaux, nous vous recommandons d'utiliser des outils en ligne (tels que [ici](https://jakebathman.github.io/Markdown-Table-Generator/)) où vous pouvez copier-coller des tableaux Excel ou des fichiers CSV. Cela produira alors une syntaxe pour rendre correctement ces tables. Pour les petites tables, il est assez facile de taper les vôtres. Voir la cellule ci-dessous."
   ]
  },
  {
   "cell_type": "raw",
   "metadata": {
    "lang": "en"
   },
   "source": [
    "| This is the first column name| Second Column| Third|\n",
    "|---|---|-------------|\n",
    "|Notice how nothing is lined up when we type it | But that it looks nice when rendered| how convenient!|\n",
    "|shorter lines are good too| numbers?| 343453|\n",
    "|symbols| `yes`| $\\int e^{-x^2} dx$ |\n",
    "|also notice that the number of dashes in the second line don't matter | it just needs to be at least three| the rest are really only for you to make pre-rendering look nice |"
   ]
  },
  {
   "cell_type": "markdown",
   "metadata": {
    "lang": "en"
   },
   "source": [
    "The basic table syntax is as follows:\n",
    "```markdown\n",
    "|initialize| your| column| names|\n",
    "|----------|-----|-------|------| <- this line sets up the headers, need at least three `---` each line\n",
    "|     data | data| data  | data | <- any kind of text data can be put in a table. Feel free to mix too!\n",
    "| numbers  | text| text  | data   <- you don't need to include the right-most pipe if you don't want to\n",
    "```\n",
    "\n",
    "The syntax can be thought of as how you would try to write a table directly using symbols on your keyboard. Play with the table in the cell above, or create a new cell and try making your own! You could put one in this cell as well and put a table here. Double click anywhere on this cell to open edit mode."
   ]
  },
  {
   "cell_type": "markdown",
   "metadata": {
    "lang": "fr"
   },
   "source": [
    "La syntaxe de base de la table est la suivante:\n",
    "\n",
    "```markdown\n",
    "|initialize| your| column| names|\n",
    "|----------|-----|-------|------| <-cette ligne met en place les en-têtes, nécessite au moins trois `---` chaque ligne\n",
    "|     data | data| data  | data | <- n'importe quel type de données texte. N'hésitez pas à mélanger aussi!\n",
    "| numbers  | text| text  | data   <- vous ne voulez pas\n",
    "```\n",
    "\n",
    "La syntaxe peut être considérée comme la manière d’essayer d’écrire directement une table à l’aide de symboles sur votre clavier. Jouez avec la table dans la cellule ci-dessus ou créez une nouvelle cellule et essayez de créer la vôtre! Vous pourriez en mettre un dans cette cellule et mettre un tableau ici. Double-cliquez n'importe où sur cette cellule pour ouvrir le mode d'édition."
   ]
  },
  {
   "cell_type": "markdown",
   "metadata": {
    "lang": "en"
   },
   "source": [
    "---\n",
    "### Exercises 3\n",
    "1. Using sample notebooks, teachers may like or dislike various sections of the sample provided. Luckily, it's easy to make these minor changes in notebooks. In the two cells below: \n",
    "    * remove the second cell because you won't need it in your lesson\n",
    "    * remove the last paragraph in the first cell \n",
    "    * change the date in the first paragraph\n",
    "2. In the first cell below, take the ordered list out of the block quote. \n",
    "\n",
    "---"
   ]
  },
  {
   "cell_type": "markdown",
   "metadata": {
    "lang": "fr"
   },
   "source": [
    "---\n",
    "### Exercices 3\n",
    "1. En utilisant des carnets d’exemples, les enseignants peuvent aimer ou ne pas aimer les différentes sections de l’échantillon fourni. Heureusement, il est facile de faire ces changements mineurs dans les cahiers. Dans les deux cellules ci-dessous:\n",
    "    *supprimez la deuxième cellule car vous n'en aurez pas besoin dans votre leçon* supprimer le dernier paragraphe de la première cellule\n",
    "    * changer la date dans le premier paragraphe\n",
    "2. Dans la première cellule ci-dessous, prenez la liste ordonnée du devis.\n",
    "\n",
    "---"
   ]
  },
  {
   "cell_type": "markdown",
   "metadata": {
    "lang": "en"
   },
   "source": [
    "> ## Properties of Random Numbers\n",
    "> \n",
    "> May 22, 2018  \n",
    "> Suppose you have a sequence of $N$ random numbers $\\{R\\}$ with contents $\\{r_1, r_2, ... , r_N\\}$ where each element $r_i$ is a random number. What sort of properties should this sequence of numbers have? If this is truly a sequence of random numbers, it _must_ satisfy the following properties, which we will explain in greater detail: \n",
    "> \n",
    "> 1. Drawing any $r_i$ is equally probable and independent. \n",
    "> 2. The sequence of random numbers is uniformly distributed. \n",
    "> \n",
    "> \"Drawing a value\" in this scope means we're picking a number from our sequence of random numbers, but not removing it from the sequence (the sequence remains unchanged, we're simply \"observing\" the random number). \n",
    "Let's look at these two properties in a little more detail. \n"
   ]
  },
  {
   "cell_type": "markdown",
   "metadata": {
    "lang": "fr"
   },
   "source": [
    "> ## Propriétés des nombres aléatoires\n",
    ">\n",
    "> 22 mai 2018\n",
    "> Supposons que vous ayez une suite de nombres aléatoires $N$ $\\{R\\}$ avec le contenu $\\{r_1, r_2, ... , r_N\\}$ où chaque élément $r_i$ est un nombre aléatoire. Quelle sorte de propriétés cette séquence de nombres devrait-elle avoir? S'il s'agit vraiment d'une séquence de nombres aléatoires, _doit_ satisfaire les propriétés suivantes, que nous expliquerons plus en détail:\n",
    ">\n",
    "> 1. Dessiner n'importe quel $r_i$ est également probable et indépendant.\n",
    "> 2. La séquence de nombres aléatoires est uniformément distribuée.\n",
    ">\n",
    "> \"Dessiner une valeur\" dans cette portée signifie que nous sélectionnons un nombre de notre séquence de nombres aléatoires, mais ne le retirons pas de la séquence (la séquence reste inchangée, nous observons simplement le nombre aléatoire).\n",
    "Regardons ces deux propriétés plus en détail."
   ]
  },
  {
   "cell_type": "markdown",
   "metadata": {
    "lang": "en"
   },
   "source": [
    "> ### All Values Are Equally Probable and Independent\n",
    "> \n",
    "> What this means is that if you were to select (but not remove) a number from your sequence of random numbers $\\{r_1, r_2, ... , r_N\\}$ at random, the probability of drawing any of those numbers is\n",
    "\\begin{equation}\n",
    "p(r_i) = \\frac{1}{N}\n",
    "\\end{equation}\n",
    "where $p(r_i)$ is the probability of selecting a number $r_i$. This probability is identical for all numbers within your set. More explicitly:\n",
    "\\begin{equation}\n",
    "p(r_1) = p(r_2) = ... = p(r_N) = \\frac{1}{N}\n",
    "\\end{equation}\n",
    "> \n",
    "> The independence property means that the if you draw a number from the set, it does not affect the probability of drawing other numbers, or even itself at a later time. This is because the sequence remains unchanged after you draw (observe) a number. This property leads directly to the second important properties of random numbers, discussed below."
   ]
  },
  {
   "cell_type": "markdown",
   "metadata": {
    "lang": "fr"
   },
   "source": [
    "> ### Toutes les valeurs sont également probables et indépendantes\n",
    ">\n",
    "> Cela signifie que si vous deviez sélectionner (mais non supprimer) un nombre de votre séquence de nombres aléatoires $\\{r_1, r_2, ... , r_N\\}$ au hasard, la probabilité de tirer l'un de ces nombres est\n",
    "\\begin{equation}\n",
    "p(r_i) = \\frac{1}{N}\n",
    "\\end{equation}\n",
    "où $p(r_i)$ est la probabilité de sélectionner un nombre $r_i$. Cette probabilité est identique pour tous les nombres de votre ensemble. Plus explicitement:\n",
    "\\begin{equation}\n",
    "p(r_1) = p(r_2) = ... = p(r_N) = \\frac{1}{N}\n",
    "\\end{equation}\n",
    ">\n",
    "> La propriété d'indépendance signifie que si vous tracez un nombre à partir de l'ensemble, cela n'affecte pas la probabilité de dessiner d'autres nombres, ni même lui-même ultérieurement. C'est parce que la séquence reste inchangée après avoir dessiné (observez) un nombre. Cette propriété mène directement aux deuxièmes propriétés importantes des nombres aléatoires, discutées ci-dessous."
   ]
  },
  {
   "cell_type": "markdown",
   "metadata": {},
   "source": [
    "![alt text](https://github.com/callysto/callysto-sample-notebooks/blob/master/notebooks/images/Callysto_Notebook-Banners_Bottom_06.06.18.jpg?raw=true)"
   ]
  }
 ],
 "metadata": {
  "kernelspec": {
   "display_name": "Python 3",
   "language": "python",
   "name": "python3"
  },
  "language_info": {
   "codemirror_mode": {
    "name": "ipython",
    "version": 3
   },
   "file_extension": ".py",
   "mimetype": "text/x-python",
   "name": "python",
   "nbconvert_exporter": "python",
   "pygments_lexer": "ipython3",
   "version": "3.6.3"
  },
  "nbTranslate": {
   "displayLangs": [
    "*"
   ],
   "hotkey": "alt-t",
   "langInMainMenu": true,
   "sourceLang": "en",
   "targetLang": "fr",
   "useGoogleTranslate": true
  }
 },
 "nbformat": 4,
 "nbformat_minor": 2
}
