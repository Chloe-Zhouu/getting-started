{
 "cells": [
  {
   "cell_type": "markdown",
   "metadata": {},
   "source": [
    "![alt text](https://github.com/callysto/callysto-sample-notebooks/blob/master/notebooks/images/Callysto_Notebook-Banner_Top_06.06.18.jpg?raw=true)"
   ]
  },
  {
   "cell_type": "markdown",
   "metadata": {
    "lang": "en"
   },
   "source": [
    "# Basics of Python\n",
    "\n",
    "In this notebook, we're going to go over some of the very basics of Python for interested parties. Note that knowledge of Python is *not required* to _use_ Jupyter notebooks and take part in Callysto. This section is completely optional and we can create content which doesn't require writing anything in Python. That being said, if you want to introduce Python in the classroom or if a student changes anything, it will be useful to know the basics."
   ]
  },
  {
   "cell_type": "markdown",
   "metadata": {
    "lang": "fr"
   },
   "source": [
    "# Bases de Python\n",
    "\n",
    "Dans ce cahier, nous allons passer en revue certaines des bases de Python pour les parties intéressées. Notez que la connaissance de Python est *non requise* pour _utiliser les blocs-notes_ Jupyter et participer à Callysto. Cette section est complètement facultative et nous pouvons créer du contenu qui ne nécessite rien en Python. Cela étant dit, si vous voulez introduire Python dans la classe ou si un élève change quelque chose, il sera utile de connaître les bases."
   ]
  },
  {
   "cell_type": "code",
   "execution_count": 1,
   "metadata": {},
   "outputs": [
    {
     "name": "stdout",
     "output_type": "stream",
     "text": [
      "10 some text\n"
     ]
    }
   ],
   "source": [
    "# Anything in a code cell after a pound sign is a comment! \n",
    "# You can type anything here and it will not be excecuted \n",
    "\n",
    "# Variables are defined with an equals sign (=)\n",
    "\n",
    "my_variable = 10             # You cannot put spaces in variable names. \n",
    "other_variable = \"some text\" # variables need not be numbers!\n",
    "\n",
    "# Print will output our variables below the cell\n",
    "print(my_variable, other_variable)"
   ]
  },
  {
   "cell_type": "code",
   "execution_count": 2,
   "metadata": {},
   "outputs": [
    {
     "name": "stdout",
     "output_type": "stream",
     "text": [
      "10 some text We can print text directly in quotes\n"
     ]
    }
   ],
   "source": [
    "# Variables are also shared between cells. You can also pring words and sentences directly. \n",
    "print(my_variable, other_variable, \"We can print text directly in quotes\")"
   ]
  },
  {
   "cell_type": "code",
   "execution_count": 3,
   "metadata": {},
   "outputs": [
    {
     "name": "stdout",
     "output_type": "stream",
     "text": [
      "15 -5 50 0.5\n"
     ]
    }
   ],
   "source": [
    "# You can do mathematical operations in python\n",
    "\n",
    "x = 5\n",
    "y = 10\n",
    "\n",
    "add = x + y\n",
    "subtract = x - y\n",
    "multiply = x * y\n",
    "divide = x/y\n",
    "\n",
    "print(add, subtract, multiply, divide)\n"
   ]
  },
  {
   "cell_type": "markdown",
   "metadata": {
    "lang": "en"
   },
   "source": [
    "---\n",
    "### Exercise 1\n",
    "\n",
    "1. In the cell below, assign variable z to your name and run the cell. \n",
    "2. In the cell below, write a comment on the same line where you define z. Run the cell to make sure the comment is not changing anything.\n",
    "---\n"
   ]
  },
  {
   "cell_type": "markdown",
   "metadata": {
    "lang": "fr"
   },
   "source": [
    "---\n",
    "### Exercice 1\n",
    "\n",
    "1. Dans la cellule ci-dessous, assignez la variable z à votre nom et exécutez la cellule.\n",
    "2. Dans la cellule ci-dessous, écrivez un commentaire sur la même ligne où vous définissez z. Exécutez la cellule pour vous assurer que le commentaire ne change rien.\n",
    "---"
   ]
  },
  {
   "cell_type": "code",
   "execution_count": 4,
   "metadata": {},
   "outputs": [
    {
     "name": "stdout",
     "output_type": "stream",
     "text": [
      "your name here is loving Python!\n"
     ]
    }
   ],
   "source": [
    "## Enter your code in the line below\n",
    "z = \"your name here\"\n",
    "\n",
    "##\n",
    "\n",
    "print(z, \"is loving Python!\")"
   ]
  },
  {
   "cell_type": "markdown",
   "metadata": {
    "lang": "en"
   },
   "source": [
    "## Loops in Python"
   ]
  },
  {
   "cell_type": "markdown",
   "metadata": {
    "lang": "fr"
   },
   "source": [
    "## Boucles en Python"
   ]
  },
  {
   "cell_type": "code",
   "execution_count": 5,
   "metadata": {},
   "outputs": [
    {
     "name": "stdout",
     "output_type": "stream",
     "text": [
      "0\n",
      "1\n",
      "2\n",
      "3\n",
      "4\n"
     ]
    }
   ],
   "source": [
    "# You can also write loops with for\n",
    "\n",
    "for i in range(5): \n",
    "    print(i)\n",
    "    "
   ]
  },
  {
   "cell_type": "markdown",
   "metadata": {
    "lang": "en"
   },
   "source": [
    " Let's take a moment to digest the loop syntax we saw above\n",
    " \n",
    " ```python\n",
    "  \n",
    "We have defined our *iterator* and called it i. This will take values \n",
    "based on the range function that follows it\n",
    "    ^\n",
    "    |\n",
    "for i in range(10): <- note the colon\n",
    "    print(i) <- note how this line is indented relative to \"for\"\n",
    "    \n",
    "```\n",
    "\n",
    "To start our loop, we have typed for i in range(10):. What this is saying is \"Do something for values of i that are in values defined by range(10). In this case, range creates 10 values by starting and zero and counting to 9. Which is what we saw printed above. \n",
    "\n",
    "Also note how there is a colon after range and the print statement is indented relative to for.  This is because any text indented relative to a control structure such as a loop is contained within the control structure in Python. "
   ]
  },
  {
   "cell_type": "markdown",
   "metadata": {
    "lang": "fr"
   },
   "source": [
    "Prenons un moment pour digérer la syntaxe de la boucle que nous avons vue ci-dessus\n",
    " \n",
    " ```python\n",
    "  \n",
    "Nous avons défini notre *itérateur* et l’appelons i. Cela prendra des valeurs\n",
    "basé sur la fonction de plage qui le suit\n",
    "    ^\n",
    "    |\n",
    "for i in range(10): <- noter les deux points\n",
    "    print (i) <- notez comment cette ligne est en retrait par rapport à \"for\"\n",
    "    \n",
    "```\n",
    "\n",
    "Pour démarrer notre boucle, nous avons tapé pour i dans la plage (10) :. Ce que cela signifie est \"Faites quelque chose pour les valeurs de i qui sont dans les valeurs définies par la plage (10). Dans ce cas, la plage crée 10 valeurs en commençant et zéro et en comptant jusqu'à 9. Ce qui est imprimé ci-dessus.\n",
    "\n",
    "Notez également qu'il y a un signe deux-points après l'intervalle et que l'instruction d'impression est en retrait par rapport à pour. En effet, tout texte en retrait par rapport à une structure de contrôle telle qu'une boucle est contenu dans la structure de contrôle de Python."
   ]
  },
  {
   "cell_type": "markdown",
   "metadata": {
    "lang": "en"
   },
   "source": [
    "---\n",
    "### Exercises 2\n",
    "1. In the loop in the cell below, change `range()` to loop from 0-9.\n",
    "2. Change the loop below to print out 1-10 instead of 0-9.(Hint: what happens if you type `range(1,10)`? \n",
    "3. Execute the loop in the cell two fields below. Can you get the loop to run without errors?\n",
    "---"
   ]
  },
  {
   "cell_type": "markdown",
   "metadata": {
    "lang": "fr"
   },
   "source": [
    "---\n",
    "### Exercices 2\n",
    "1. Dans la boucle dans la cellule ci-dessous, changez `range ()` pour boucler de 0 à 9.\n",
    "2. Modifiez la boucle ci-dessous pour imprimer 1 à 10 au lieu de 0 à 9. (Indice: que se passe-t-il si vous tapez `range (1,10)`?)\n",
    "3. Exécutez la boucle dans la cellule deux champs ci-dessous. Pouvez-vous lancer la boucle sans erreurs?\n",
    "---"
   ]
  },
  {
   "cell_type": "code",
   "execution_count": 6,
   "metadata": {},
   "outputs": [
    {
     "name": "stdout",
     "output_type": "stream",
     "text": [
      "0\n",
      "1\n",
      "2\n",
      "3\n",
      "4\n"
     ]
    }
   ],
   "source": [
    "# Exercises 2.1 and 2.2: \n",
    "\n",
    "## Change the code below for the exercise:\n",
    "for i in range(5): \n",
    "    print(i)\n",
    "##"
   ]
  },
  {
   "cell_type": "code",
   "execution_count": 7,
   "metadata": {},
   "outputs": [
    {
     "ename": "SyntaxError",
     "evalue": "invalid syntax (<ipython-input-7-86edbddfb0dc>, line 5)",
     "output_type": "error",
     "traceback": [
      "\u001b[0;36m  File \u001b[0;32m\"<ipython-input-7-86edbddfb0dc>\"\u001b[0;36m, line \u001b[0;32m5\u001b[0m\n\u001b[0;31m    for shark in sharks\u001b[0m\n\u001b[0m                       ^\u001b[0m\n\u001b[0;31mSyntaxError\u001b[0m\u001b[0;31m:\u001b[0m invalid syntax\n"
     ]
    }
   ],
   "source": [
    "# Exercises 2.3: \n",
    "sharks = ['hammerhead', 'great white', 'tiger', 'frilled', 'bullhead', 'requiem']\n",
    "\n",
    "## Change the code below for the exercise:\n",
    "for shark in sharks\n",
    "print(shark)\n",
    "##"
   ]
  },
  {
   "cell_type": "markdown",
   "metadata": {
    "lang": "en"
   },
   "source": [
    "## If and else statements\n",
    "\n",
    "Let's build on our previous example and introduce `if` statements"
   ]
  },
  {
   "cell_type": "markdown",
   "metadata": {
    "lang": "fr"
   },
   "source": [
    "## If et else déclarations\n",
    "\n",
    "Construisons sur notre exemple précédent et introduisons les instructions `if`"
   ]
  },
  {
   "cell_type": "code",
   "execution_count": null,
   "metadata": {},
   "outputs": [],
   "source": [
    "for i in range(10):\n",
    "    if i == 3:\n",
    "        print(i == 3, i, \"is three\")\n",
    "    else:\n",
    "        print(i == 3, i, \"Is not three\")"
   ]
  },
  {
   "cell_type": "markdown",
   "metadata": {
    "lang": "en"
   },
   "source": [
    "Notice how our if and else statements are indented relative to for, and the print statements inside of our if statements are indented even further.\n",
    "\n",
    "What the lines of code does above is that inside the `if` statement, it checks if the value of `i` is equal to three denoted with double equals signs `==`. Should that condition be `True`, we enter the lines of code indented relative to `if`. We then print `i==3` which is `True`, as well as `i` and some text. \n",
    "\n",
    "If `i` is _not_ equal to three, then the statement `i==3` returns `False`. We then enter the `else` clause, which we can see in the output of the code above. "
   ]
  },
  {
   "cell_type": "markdown",
   "metadata": {
    "lang": "fr"
   },
   "source": [
    "Notez que nos instructions if et else sont en retrait par rapport à for, et les instructions print à l'intérieur de nos instructions if sont encore plus en retrait.\n",
    "\n",
    "Ce que font les lignes de code ci-dessus, c'est que dans l'instruction `if`, elle vérifie si la valeur de` i` est égale à trois, notée avec des signes à double équation égale à «==». Si cette condition est `True`, nous entrons les lignes de code en retrait par rapport à` if`. Nous imprimons ensuite `i == 3` qui est` True`, ainsi que `i` et du texte.\n",
    "\n",
    "Si `i` est _pas_ égal à trois, alors l'instruction` i == 3` renvoie `False`. Nous saisissons ensuite la clause `else`, que nous pouvons voir dans la sortie du code ci-dessus."
   ]
  },
  {
   "cell_type": "markdown",
   "metadata": {
    "lang": "en"
   },
   "source": [
    "## Python Functions\n",
    "\n",
    "You can also define functions in Python which can help simplify and organize code requires repeated calculations. This is done using the `def` method in Python which can be thought of to mean \"define\". A simple function is defined below. "
   ]
  },
  {
   "cell_type": "markdown",
   "metadata": {
    "lang": "fr"
   },
   "source": [
    "## Fonctions Python\n",
    "\n",
    "Vous pouvez également définir des fonctions en Python qui peuvent aider à simplifier et à organiser le code, ce qui nécessite des calculs répétés. Ceci est fait en utilisant la méthode `def` de Python qui peut signifier\" définir \". Une fonction simple est définie ci-dessous."
   ]
  },
  {
   "cell_type": "code",
   "execution_count": null,
   "metadata": {},
   "outputs": [],
   "source": [
    "def simple_function(x):\n",
    "    # a double asterix in python is an exponent\n",
    "    return x**2\n",
    "\n",
    "simple_function(10)"
   ]
  },
  {
   "cell_type": "markdown",
   "metadata": {
    "lang": "en"
   },
   "source": [
    "In the line above, we're defining a function with `def`, and in this case we chose to give it a name of `simple_function`. We then specified which variable our function should take as input inside of the parenthesis.  During this definition, we _decided_ to call this variable `x`. We then called the function with its name, and a value for it to use for `x`. We can use functions in combination with other things like loops, shown below."
   ]
  },
  {
   "cell_type": "markdown",
   "metadata": {
    "lang": "fr"
   },
   "source": [
    "Dans la ligne ci-dessus, nous définissons une fonction avec `def`, et dans ce cas nous avons choisi de lui donner un nom de` simple _fonction`. Nous avons ensuite spécifié quelle variable notre fonction devrait prendre comme entrée à l’intérieur de la parenthèse. Au cours de cette définition, nous avons_ décidé_ d'appeler cette variable `x`. Nous avons ensuite appelé la fonction avec son nom et une valeur à utiliser pour `x`. Nous pouvons utiliser des fonctions en combinaison avec d'autres choses comme des boucles, présentées ci-dessous."
   ]
  },
  {
   "cell_type": "code",
   "execution_count": null,
   "metadata": {},
   "outputs": [],
   "source": [
    "for i in range(5):\n",
    "    new_variable = simple_function(i)\n",
    "    print(new_variable, \"Look what we can do!\")"
   ]
  },
  {
   "cell_type": "markdown",
   "metadata": {
    "lang": "en"
   },
   "source": [
    "Notice how in the loop above, we decided to define a new variable based on the output of our function. We also used our loop iterator `i` as the input to our function to calculate those squares for each value from 0 to 4. "
   ]
  },
  {
   "cell_type": "markdown",
   "metadata": {
    "lang": "fr"
   },
   "source": [
    "Notez que dans la boucle ci-dessus, nous avons décidé de définir une nouvelle variable en fonction de la sortie de notre fonction. Nous avons également utilisé notre itérateur de boucle «i» comme entrée de notre fonction pour calculer ces carrés pour chaque valeur de 0 à 4."
   ]
  },
  {
   "cell_type": "markdown",
   "metadata": {
    "lang": "en"
   },
   "source": [
    "--- \n",
    "### Exercises 3\n",
    "1. In the first cell below, change the name of the defined function to \"some_name.\"\n",
    "2. In the second cell below, change the formula to calculate the area of a rectangle correctly. \n",
    "3. In the second cell below, change the function to return \"The area of the rectangle is\" along with the calculated output.\n",
    "---"
   ]
  },
  {
   "cell_type": "markdown",
   "metadata": {
    "lang": "fr"
   },
   "source": [
    "---\n",
    "### Exercices 3\n",
    "1. Dans la première cellule ci-dessous, remplacez le nom de la fonction définie par \"some_name\".\n",
    "2. Dans la deuxième cellule ci-dessous, modifiez la formule pour calculer l'aire d'un rectangle correctement.\n",
    "3. Dans la deuxième cellule ci-dessous, modifiez la fonction pour renvoyer \"La zone du rectangle est\" avec la sortie calculée.\n",
    "---"
   ]
  },
  {
   "cell_type": "code",
   "execution_count": null,
   "metadata": {},
   "outputs": [],
   "source": [
    "# Exercises 3.1:\n",
    "\n",
    "## Change the code below for the exercise:\n",
    "def function_name(x):\n",
    "    print('His name is ' + x)\n",
    "##\n",
    "\n",
    "(some_name(z))"
   ]
  },
  {
   "cell_type": "code",
   "execution_count": null,
   "metadata": {},
   "outputs": [],
   "source": [
    "# Exercises 3.2 & 3.3:\n",
    "\n",
    "def calculated_area(x, y):\n",
    "## Change the code below for the exercise:\n",
    "    print()\n",
    "##\n",
    "\n",
    "(calculated_area(3, 5))"
   ]
  },
  {
   "cell_type": "markdown",
   "metadata": {
    "lang": "en"
   },
   "source": [
    "## Graphing\n",
    "We can also graph our function using Python with the following code "
   ]
  },
  {
   "cell_type": "markdown",
   "metadata": {
    "lang": "fr"
   },
   "source": [
    "## Graphing\n",
    "Nous pouvons également représenter graphiquement notre fonction en utilisant Python avec le code suivant"
   ]
  },
  {
   "cell_type": "code",
   "execution_count": null,
   "metadata": {
    "scrolled": true
   },
   "outputs": [],
   "source": [
    "# this library contains some mathematical functions to use\n",
    "import numpy as np\n",
    "# this is the plotting library\n",
    "import matplotlib.pyplot as plt \n",
    "# this is a \"magic\" command which tells jupyter to display our graphs in the notebook\n",
    "%matplotlib inline\n",
    "\n",
    "\n",
    "# Here we generate points to plot our function at.\n",
    "# The first number is the minimum, the second is the maximum, and the third is how many points to generate\n",
    "\n",
    "values_to_plot = np.linspace(-10,10,100) # this creates a list of 100 points from [-10,10]\n",
    "\n",
    "# this is how we create a graph. Notice how we're using 'plt' as it is the library we imported\n",
    "# which contains the plot functions\n",
    "plt.plot(values_to_plot, simple_function(values_to_plot))\n",
    "# add some axes labels\n",
    "plt.xlabel(\"X values\") \n",
    "plt.ylabel(\"Y values\")\n",
    "# we can use latex in plots as well!\n",
    "plt.title(\"$f(x) = x^2$\") \n",
    "\n",
    "plt.show()"
   ]
  },
  {
   "cell_type": "markdown",
   "metadata": {
    "lang": "en"
   },
   "source": [
    "--- \n",
    "### Exercises 4\n",
    "1. The plot in the first cell below plots the points defined in the lists x & y. Change the numbers in x & y to see how it affects the graph. \n",
    "2. The plot two cells down has various lines commented out to add different features to the plot. Play around with the plot by adding in various lines. \n",
    "3. In the plot two cells down, try to add in a third line by defining a function and having it plot the function.\n",
    "---"
   ]
  },
  {
   "cell_type": "markdown",
   "metadata": {
    "lang": "fr"
   },
   "source": [
    "---\n",
    "### Exercices 4\n",
    "1. Le tracé dans la première cellule ci-dessous trace les points définis dans les listes x & y. Modifiez les nombres en x et y pour voir comment cela affecte le graphique.\n",
    "2. Le tracé de deux cellules a plusieurs lignes commentées pour ajouter différentes caractéristiques à l'intrigue. Jouez avec l'intrigue en ajoutant différentes lignes.\n",
    "3. Dans le graphique deux cellules vers le bas, essayez d’ajouter une troisième ligne en définissant une fonction et en lui faisant représenter la fonction.\n",
    "---"
   ]
  },
  {
   "cell_type": "code",
   "execution_count": null,
   "metadata": {},
   "outputs": [],
   "source": [
    "# Exercises 4.1:\n",
    "\n",
    "## Change the code below for the exercise:\n",
    "x = [0, 2, 4, 6, 8, 10]\n",
    "y = [0, 4, 8, 12, 16, 20]\n",
    "##\n",
    "\n",
    "plt.plot(x,y, marker='o',markersize=8);\n"
   ]
  },
  {
   "cell_type": "code",
   "execution_count": null,
   "metadata": {},
   "outputs": [],
   "source": [
    "# Exercises 4.2 & 4.3: \n",
    "values_to_plot = np.linspace(0,10,11)\n",
    "x2 = values_to_plot\n",
    "y2 = simple_function(values_to_plot)\n",
    "x3 = values_to_plot\n",
    "\n",
    "## Change the code below for exercise 4.3:\n",
    "def new_function(x):\n",
    "    return x\n",
    "y3 = new_function(values_to_plot)\n",
    "\n",
    "## Change the code below for the exercise 4.2 & 4.3:\n",
    "plt.plot(x,y)\n",
    "plt.plot(x2, y2)\n",
    "#plt.grid()\n",
    "#plt.xlabel('x label')\n",
    "#plt.ylabel('y label')\n",
    "#plt.title(\"Simple Plot\")\n",
    "#plt.legend()\n",
    "\n",
    "##"
   ]
  },
  {
   "cell_type": "markdown",
   "metadata": {},
   "source": [
    "![alt text](https://github.com/callysto/callysto-sample-notebooks/blob/master/notebooks/images/Callysto_Notebook-Banners_Bottom_06.06.18.jpg?raw=true)"
   ]
  }
 ],
 "metadata": {
  "kernelspec": {
   "display_name": "Python 3",
   "language": "python",
   "name": "python3"
  },
  "language_info": {
   "codemirror_mode": {
    "name": "ipython",
    "version": 3
   },
   "file_extension": ".py",
   "mimetype": "text/x-python",
   "name": "python",
   "nbconvert_exporter": "python",
   "pygments_lexer": "ipython3",
   "version": "3.6.3"
  },
  "nbTranslate": {
   "displayLangs": [
    "*"
   ],
   "hotkey": "alt-t",
   "langInMainMenu": true,
   "sourceLang": "en",
   "targetLang": "fr",
   "useGoogleTranslate": true
  }
 },
 "nbformat": 4,
 "nbformat_minor": 2
}
