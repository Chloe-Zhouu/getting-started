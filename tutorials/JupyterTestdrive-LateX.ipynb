{
 "cells": [
  {
   "cell_type": "markdown",
   "metadata": {},
   "source": [
    "![alt text](https://github.com/callysto/callysto-sample-notebooks/blob/master/notebooks/images/Callysto_Notebook-Banner_Top_06.06.18.jpg?raw=true)"
   ]
  },
  {
   "cell_type": "markdown",
   "metadata": {
    "lang": "en"
   },
   "source": [
    "# Mathematical Typesetting With Latex\n",
    "\n",
    "This will only serve as a brief introduction to mathematical typesetting with Latex, and will not cover many other aspects of the typesetting language. This tutorial will cover the basics a few common mistakes and how to fix them, and provide you with a link to a cheat sheet. \n",
    "\n",
    "1. To put a variable in-line, surround it in dollar signs like so: `$x$`, which renders and $x$.\n",
    "1. To typeset an equation, surround it (on a new line) in double dollar signs: `$$equation$$`\n",
    "1. you could also use this syntax\n",
    "```latex\n",
    "\\begin{equation}\n",
    "       your_equation_here\n",
    "\\end{equation}\n",
    "  ```\n",
    "1. Special symbols start with a backslash (`\\`). For example, the greek letter $\\alpha$ is typed like as `$\\alpha$`. \n",
    "\n",
    "1. Fractions can be typeset with `\\frac{numerator}{denominator}`\n",
    "1. Square roots are `\\sqrt{stuff inside square root}`\n",
    "\n"
   ]
  },
  {
   "cell_type": "markdown",
   "metadata": {
    "lang": "fr"
   },
   "source": [
    "# Composition mathématique avec du latex\n",
    "\n",
    "Cela ne servira que de brève introduction à la composition mathématique avec le latex et ne couvrira pas beaucoup d'autres aspects du langage de composition. Ce tutoriel couvrira les bases de quelques erreurs courantes et comment les résoudre, et vous fournira un lien vers un aide-mémoire.\n",
    "\n",
    "1. Pour mettre une variable en ligne, entourez-la de signes dollar comme: `$x$`, qui rend et $x$.\n",
    "1. Pour composer une équation, entourez-la (sur une nouvelle ligne) en double dollar: `$$equation$$`\n",
    "1. vous pouvez également utiliser cette syntaxe\n",
    "`` `latex\n",
    "\\begin{equation}\n",
    "       your_equation_here\n",
    "\\end{equation}\n",
    "  `` `\n",
    "1. Les symboles spéciaux commencent par une barre oblique inverse (`\\`). Par exemple, la lettre grecque $\\alpha$ est tapée comme «$\\alpha$».\n",
    "\n",
    "1. Les fractions peuvent être composées avec `\\frac{numerator} {denominator}`\n",
    "1. Les racines carrées sont \\sqrt{stuff inside square root}"
   ]
  },
  {
   "cell_type": "markdown",
   "metadata": {
    "lang": "en"
   },
   "source": [
    "If you want to type inline variables it's as easy as $x$. If you want special symbols in line, simply call it by its name, such as $\\alpha$, $\\gamma$, $\\epsilon$, $\\Delta$, $\\nabla$ and so on are called by typing `$\\alpha$`, `$\\gamma$`, `$\\epsilon$`, `$\\Delta$`, and `$\\nabla$` etc. [This link leads](http://tug.ctan.org/info/symbols/comprehensive/symbols-a4.pdf) to a comprehensive symbol list and their Latex commands. Of course, sometimes a Google search is faster. "
   ]
  },
  {
   "cell_type": "markdown",
   "metadata": {
    "lang": "fr"
   },
   "source": [
    "Si vous voulez taper des variables en ligne, c'est aussi simple que $x$. Si vous voulez des symboles spéciaux en ligne, appelez-les simplement par leur nom, par exemple $\\alpha$, $\\gamma$, $\\epsilon$, $\\Delta$, $\\nabla$ et ainsi de suite sont appelés en tapant «$\\alpha$», `$\\nabla$` etc. [Ce lien mène](http://tug.ctan.org/info/symbols/comprehensive/symbols-a4.pdf) vers une liste complète de symboles et leurs commandes Latex. Bien entendu, une recherche Google est parfois plus rapide."
   ]
  },
  {
   "cell_type": "markdown",
   "metadata": {
    "lang": "en"
   },
   "source": [
    "# Latex Basics\n",
    "\n",
    "#### Double Click Me\n",
    "You can start equations easily\n",
    "$$ c  = \\sqrt{a^2 + b^2}$$\n",
    "notice how in the above, the variables appearing under the square root are surrounded by curly brackets (`{ }`), and powers are done with carrots (`^`)."
   ]
  },
  {
   "cell_type": "markdown",
   "metadata": {
    "lang": "fr"
   },
   "source": [
    "# Bases du latex\n",
    "\n",
    "#### Double Click Me\n",
    "Vous pouvez facilement commencer des équations\n",
    "$$ c  = \\sqrt{a^2 + b^2}$$\n",
    "remarquez comment dans la liste ci-dessus, les variables apparaissant sous la racine carrée sont entourées par des accolades (`{}`), et les puissances sont faites avec des carottes (`^`)."
   ]
  },
  {
   "cell_type": "markdown",
   "metadata": {
    "lang": "en"
   },
   "source": [
    "#### Double Click Me\n",
    "\n",
    "You can also type equations using this syntax\n",
    "\\begin{equation}\n",
    "a = \\frac{x^3 +\\Gamma}{\\int e^{-x^2} dx}\n",
    "\\end{equation}\n",
    "\n",
    "Notice here how the numerator of the fraction appears in curly braces, and the denominator appears in separate curly braces. Note that capital Greek letters are found by capitalizing the first letter in your Latex command. "
   ]
  },
  {
   "cell_type": "markdown",
   "metadata": {
    "lang": "fr"
   },
   "source": [
    "#### Double Click Me\n",
    "\n",
    "Vous pouvez également taper des équations en utilisant cette syntaxe\n",
    "\\begin{equation}\n",
    "a = \\frac{x^3 +\\Gamma}{\\int e^{-x^2} dx}\n",
    "\\end{equation}\n",
    "\n",
    "Remarquez comment le numérateur de la fraction apparaît entre accolades et le dénominateur apparaît entre accolades séparées. Notez que les lettres majuscules grecques sont trouvées en majuscule dans la première lettre de votre commande Latex."
   ]
  },
  {
   "cell_type": "markdown",
   "metadata": {
    "lang": "en"
   },
   "source": [
    "#### Double Click Me\n",
    "\n",
    "Also notice the exponent, this time we included curly brackets. This is because without them only the first character will become a superscript, as demonstrated below. \n",
    "\n",
    "\\begin{equation}\n",
    "a = x^-10\n",
    "\\end{equation}"
   ]
  },
  {
   "cell_type": "markdown",
   "metadata": {
    "lang": "fr"
   },
   "source": [
    "#### Double Click Me\n",
    "\n",
    "Notez également l'exposant, cette fois nous avons inclus des accolades. C'est parce que sans eux, seul le premier caractère deviendra un exposant, comme démontré ci-dessous.\n",
    "\n",
    "\\begin{equation}\n",
    "a = x^-10\n",
    "\\end{equation}"
   ]
  },
  {
   "cell_type": "markdown",
   "metadata": {
    "lang": "en"
   },
   "source": [
    "#### Double Click Me\n",
    "\n",
    "The above doesn't render as you would expect. However, we can fix this by adding curly braces around the exponent as follows\n",
    "\\begin{equation}\n",
    "a = x^{-10}\n",
    "\\end{equation}"
   ]
  },
  {
   "cell_type": "markdown",
   "metadata": {
    "lang": "fr"
   },
   "source": [
    "#### Double Click Me\n",
    "\n",
    "Ce qui précède ne rend pas comme prévu. Cependant, nous pouvons résoudre ce problème en ajoutant des accolades autour de l'exposant comme suit:\n",
    "\\begin{equation}\n",
    "a = x^{-10}\n",
    "\\end{equation}"
   ]
  },
  {
   "cell_type": "markdown",
   "metadata": {
    "lang": "en"
   },
   "source": [
    "#### Double Click Me\n",
    "\n",
    "You can also include vectors on variables\n",
    "\\begin{equation}\n",
    "\\vec{F} = m \\vec{a}\n",
    "\\end{equation}"
   ]
  },
  {
   "cell_type": "markdown",
   "metadata": {
    "lang": "fr"
   },
   "source": [
    "#### Double Click Me\n",
    "\n",
    "Vous pouvez également inclure des vecteurs sur des variables\n",
    "\\begin{equation}\n",
    "\\vec{F} = m \\vec{a}\n",
    "\\end{equation}"
   ]
  },
  {
   "cell_type": "markdown",
   "metadata": {
    "lang": "en"
   },
   "source": [
    "#### Double Click Me\n",
    "\n",
    "The asterix symbol may not render how you hope for multiplication in Latex, and it is often better to use `\\times`. For example, compare\n",
    "\n",
    "\\begin{equation}\n",
    "a * b = ab\n",
    "\\end{equation}\n",
    "\n",
    "versus\n",
    "\n",
    "\\begin{equation}\n",
    "a \\times b = ab\n",
    "\\end{equation}\n",
    "\n"
   ]
  },
  {
   "cell_type": "markdown",
   "metadata": {
    "lang": "fr"
   },
   "source": [
    "#### Double Click Me\n",
    "\n",
    "Le symbole astérisque peut ne pas rendre ce que vous espérez pour la multiplication en latex, et il est souvent préférable d'utiliser `\\ times`. Par exemple, comparez\n",
    "\n",
    "\\begin{equation}\n",
    "a * b = ab\n",
    "\\end{equation}\n",
    "\n",
    "contre\n",
    "\n",
    "\\begin{equation}\n",
    "a \\times b = ab\n",
    "\\end{equation}"
   ]
  },
  {
   "cell_type": "markdown",
   "metadata": {
    "lang": "en"
   },
   "source": [
    "#### Double Click Me\n",
    "\n",
    "If you need to put parenthesis around a fraction, sometimes your equation may not render nicely, for example\n",
    "\n",
    "\\begin{equation}\n",
    "f(x) = a \\times ( \\frac{ x^2 }{ \\sqrt{ x^2 + \\tan(x) } } )\n",
    "\\end{equation}\n",
    "\n",
    "In order to make your parenthesis larger, you need to include the `\\left` and `\\right` commands besides your parenthesis as follows\n",
    "\n",
    "\\begin{equation}\n",
    "f(x) = a \\times \\left( \\frac{ x^2 }{ \\sqrt{ x^2 + \\tan(x) } } \\right)\n",
    "\\end{equation}"
   ]
  },
  {
   "cell_type": "markdown",
   "metadata": {
    "lang": "fr"
   },
   "source": [
    "#### Double Click Me\n",
    "\n",
    "Si vous avez besoin de mettre des parenthèses autour d'une fraction, votre équation peut parfois ne pas être bien rendue, par exemple\n",
    "\n",
    "\\begin{equation}\n",
    "f(x) = a \\times ( \\frac{ x^2 }{ \\sqrt{ x^2 + \\tan(x) } } )\n",
    "\\end{equation}\n",
    "\n",
    "Pour augmenter la taille de vos parenthèses, vous devez inclure les commandes `\\ left` et` \\ right` comme suit:\n",
    "\n",
    "\\begin{equation}\n",
    "f(x) = a \\times \\left( \\frac{ x^2 }{ \\sqrt{ x^2 + \\tan(x) } } \\right)\n",
    "\\end{equation}"
   ]
  },
  {
   "cell_type": "markdown",
   "metadata": {
    "lang": "en"
   },
   "source": [
    "# Latex Common Errors\n",
    "\n",
    "\n"
   ]
  },
  {
   "cell_type": "markdown",
   "metadata": {
    "lang": "fr"
   },
   "source": [
    "# Erreurs communes au latex"
   ]
  },
  {
   "cell_type": "markdown",
   "metadata": {
    "lang": "en"
   },
   "source": [
    "### Long subscripts need to be wrapped in curly braces to render correctly"
   ]
  },
  {
   "cell_type": "markdown",
   "metadata": {
    "lang": "fr"
   },
   "source": [
    "### Les indices longs doivent être entourés d'accolades pour être affichés correctement"
   ]
  },
  {
   "cell_type": "markdown",
   "metadata": {
    "lang": "en"
   },
   "source": [
    "##### Double Click Me\n",
    "\n",
    "Notice how the equation \n",
    "\\begin{equation}\n",
    "a = x_10\n",
    "\\end{equation}\n",
    "\n",
    "Doesn't render how you want it to, but \n",
    "\\begin{equation}\n",
    "a = x_{10}\n",
    "\\end{equation}\n",
    "does once you include the curly braces.\n",
    "\n"
   ]
  },
  {
   "cell_type": "markdown",
   "metadata": {
    "lang": "fr"
   },
   "source": [
    "##### Double Click Me\n",
    "\n",
    "Notez comment l'équation\n",
    "\\begin{equation}\n",
    "a = x_10\n",
    "\\end{equation}\n",
    "\n",
    "Ne rend pas ce que vous voulez, mais\n",
    "\\begin{equation}\n",
    "a = x_{10}\n",
    "\\end{equation}\n",
    "fait une fois que vous incluez les accolades."
   ]
  },
  {
   "cell_type": "markdown",
   "metadata": {
    "lang": "en"
   },
   "source": [
    "### Spaces in equations are ignored"
   ]
  },
  {
   "cell_type": "markdown",
   "metadata": {
    "lang": "fr"
   },
   "source": [
    "### Les espaces dans les équations sont ignorés"
   ]
  },
  {
   "cell_type": "markdown",
   "metadata": {
    "lang": "en"
   },
   "source": [
    "##### Double Click Me\n",
    "Notice what happens to words included in the math environment\n",
    "$$\n",
    "If you use words as a variable, they become hard to read = x_a^2\n",
    "$$\n",
    "\n",
    "If you need to include words in your equations, you can do so with `\\text{}`\n",
    "$$\n",
    "\\text{Now we can read this easily once we've rendered the math} = x_a^2\n",
    "$$"
   ]
  },
  {
   "cell_type": "markdown",
   "metadata": {
    "lang": "fr"
   },
   "source": [
    "##### Double Click Me\n",
    "Notez ce qui arrive aux mots inclus dans l'environnement mathématique\n",
    "$$\n",
    "If you use words as a variable, they become hard to read = x_a^2\n",
    "$$\n",
    "\n",
    "Si vous devez inclure des mots dans vos équations, vous pouvez le faire avec `\\text{}`\n",
    "$$\n",
    "\\text{Now we can read this easily once we've rendered the math} = x_a^2\n",
    "$$"
   ]
  },
  {
   "cell_type": "markdown",
   "metadata": {
    "lang": "en"
   },
   "source": [
    "### You cannot include percent signs without a little extra work"
   ]
  },
  {
   "cell_type": "markdown",
   "metadata": {
    "lang": "fr"
   },
   "source": [
    "### Vous ne pouvez pas inclure de signes de pourcentage sans un peu de travail supplémentaire"
   ]
  },
  {
   "cell_type": "markdown",
   "metadata": {
    "lang": "en"
   },
   "source": [
    "##### Double Click Me\n",
    "\n",
    "If you want to include a percent sign in a mathematical equation, you need to escape it with `\\` as a percent sign denotes a comment in Latex\n",
    "\n",
    "$$\n",
    "100 % That's because a percent sign is a comment in latex!\n",
    "$$\n",
    "To escape the comment, simply add a backslash\n",
    "$$ 100 \\% $$\n"
   ]
  },
  {
   "cell_type": "markdown",
   "metadata": {
    "lang": "fr"
   },
   "source": [
    "##### Double Click Me\n",
    "\n",
    "Si vous voulez inclure un signe de pourcentage dans une équation mathématique, vous devez y échapper avec un \\ `comme signe de pourcentage indique un commentaire dans Latex\n",
    "\n",
    "$$\n",
    "100 % That's because a percent sign is a comment in latex!\n",
    "$$\n",
    "Pour échapper au commentaire, ajoutez simplement une barre oblique inverse\n",
    "$$ 100 \\% $$"
   ]
  },
  {
   "cell_type": "markdown",
   "metadata": {
    "lang": "en"
   },
   "source": [
    "### Missing a Curly Bracket\n",
    "\n",
    "If you're missing a curly bracket when using a Latex command, say in a fraction, your equation won't render as shown in a simple example below\n",
    "\n",
    "\\begin{equation}\n",
    "x = \\frac{ a } { y\n",
    "\\end{equation}"
   ]
  },
  {
   "cell_type": "markdown",
   "metadata": {
    "lang": "fr"
   },
   "source": [
    "### Missing a Curly Bracket\n",
    "\n",
    "Si vous ne trouvez pas de crochet lorsque vous utilisez une commande Latex, par exemple dans une fraction, votre équation ne sera pas rendue comme dans un exemple simple ci-dessous.\n",
    "\n",
    "\\begin{equation}\n",
    "x = \\frac{ a } { y\n",
    "\\end{equation}"
   ]
  },
  {
   "cell_type": "markdown",
   "metadata": {
    "lang": "en"
   },
   "source": [
    "To fix this, simply add the missing parenthesis \n",
    "\n",
    "\\begin{equation}\n",
    "x = \\frac{ a } { y } \n",
    "\\end{equation}\n",
    "\n",
    "Note however that anytime you have an error in your Latex it will simply not render as shown above, and sometimes its a bit of work finding the offending parenthesis."
   ]
  },
  {
   "cell_type": "markdown",
   "metadata": {
    "lang": "fr"
   },
   "source": [
    "Pour résoudre ce problème, ajoutez simplement la parenthèse manquante\n",
    "\n",
    "\\begin{equation}\n",
    "x = \\frac{ a } { y } \n",
    "\\end{equation}\n",
    "\n",
    "Notez cependant que chaque fois que vous rencontrez une erreur dans votre Latex, il ne sera tout simplement pas rendu comme indiqué ci-dessus, et parfois c'est un peu difficile de trouver la parenthèse incriminée."
   ]
  },
  {
   "cell_type": "markdown",
   "metadata": {
    "lang": "en"
   },
   "source": [
    "Latex is very extensive for mathematical typesetting, and we can't cover it all here. However, it's fairly intuitive and with a little practice significantly faster than using the equation editors in other tools. Feel free to try creating your own equations now. "
   ]
  },
  {
   "cell_type": "markdown",
   "metadata": {
    "lang": "fr"
   },
   "source": [
    "Le latex est très étendu pour la composition mathématique, et nous ne pouvons pas tout couvrir ici. Cependant, il est assez intuitif et pratique un peu plus rapidement que d'utiliser les éditeurs d'équations dans d'autres outils. N'hésitez pas à essayer de créer vos propres équations maintenant."
   ]
  },
  {
   "cell_type": "markdown",
   "metadata": {
    "lang": "en"
   },
   "source": [
    "---\n",
    "### Exercises\n",
    "1. Fix the following to correctly represent the formula for calculating the surface area of a sphere\n",
    "\n",
    "$$\n",
    "Area = 4 pi r2\n",
    "$$  \n",
    "  \n",
    "2. Fix the following to correctly represent the formula for calculating the volume of a sphere\n",
    "\\begin{equation}\n",
    "Volume = \\frac{4} / {3} pi r3\n",
    "\\end{equation}\n",
    "3. Make sure pi is showing up as a symbol in questions 1 & 2.\n",
    "4. In this sentence, change the variables x, Y, and y to ensure they render as LateX variables.\n",
    "\n"
   ]
  },
  {
   "cell_type": "markdown",
   "metadata": {
    "lang": "fr"
   },
   "source": [
    "---\n",
    "### Des exercices\n",
    "1. Corrigez ce qui suit pour représenter correctement la formule de calcul de la surface d'une sphère\n",
    "\n",
    "$$\n",
    "Area = 4 pi r2\n",
    "$$\n",
    "  \n",
    "2. Corrigez ce qui suit pour représenter correctement la formule de calcul du volume d'une sphère\n",
    "\\begin{equation}\n",
    "Volume = \\frac{4} / {3} pi r3\n",
    "\\end{equation}\n",
    "3. Assurez-vous que pi apparaît comme un symbole dans les questions 1 et 2.\n",
    "4. Dans cette phrase, modifiez les variables x, Y et y pour vous assurer qu'elles apparaissent sous forme de variables LateX."
   ]
  },
  {
   "cell_type": "markdown",
   "metadata": {},
   "source": [
    "![alt text](https://github.com/callysto/callysto-sample-notebooks/blob/master/notebooks/images/Callysto_Notebook-Banners_Bottom_06.06.18.jpg?raw=true)"
   ]
  }
 ],
 "metadata": {
  "kernelspec": {
   "display_name": "Python 3",
   "language": "python",
   "name": "python3"
  },
  "language_info": {
   "codemirror_mode": {
    "name": "ipython",
    "version": 3
   },
   "file_extension": ".py",
   "mimetype": "text/x-python",
   "name": "python",
   "nbconvert_exporter": "python",
   "pygments_lexer": "ipython3",
   "version": "3.6.3"
  },
  "nbTranslate": {
   "displayLangs": [
    "*"
   ],
   "hotkey": "alt-t",
   "langInMainMenu": true,
   "sourceLang": "en",
   "targetLang": "fr",
   "useGoogleTranslate": true
  }
 },
 "nbformat": 4,
 "nbformat_minor": 2
}
