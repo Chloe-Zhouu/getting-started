{
 "cells": [
  {
   "cell_type": "markdown",
   "metadata": {},
   "source": [
    "![alt text](https://github.com/callysto/callysto-sample-notebooks/blob/master/notebooks/images/Callysto_Notebook-Banner_Top_06.06.18.jpg?raw=true)"
   ]
  },
  {
   "cell_type": "code",
   "execution_count": null,
   "metadata": {},
   "outputs": [],
   "source": [
    "%%html\n",
    "\n",
    "<script src=\"https://cdn.geogebra.org/apps/deployggb.js\"></script>"
   ]
  },
  {
   "cell_type": "markdown",
   "metadata": {
    "lang": "en"
   },
   "source": [
    "# Reflections of Graphs\n",
    "\n",
    "<img src=\"images/cat_fight.jpg\" width=960 height=640>"
   ]
  },
  {
   "cell_type": "markdown",
   "metadata": {
    "lang": "fr"
   },
   "source": [
    "# Réflexions de graphiques\n",
    "\n",
    "<img src=\"images/cat_fight.jpg\" width=960 height=640>"
   ]
  },
  {
   "cell_type": "markdown",
   "metadata": {
    "lang": "en"
   },
   "source": [
    "## Introduction\n",
    "\n",
    "In the photo above, a kitten is looking at its reflection in a mirror.\n",
    "There are a few obvious but important observations to make about the kitten and its reflection.\n",
    "Firstly, the kitten and its reflection appear to be on opposite sides of the mirror.\n",
    "Secondly, the kitten and its reflection appear to be equally as far from the mirror's surface.\n",
    "Thirdly, the kitten can see its reflection because it is looking at the mirror straight on --\n",
    "the photographer can't see her reflection in the mirror because she's looking at it at an angle.\n",
    "\n",
    "Now we let's see how the reflection of a point across a line is just like a reflection in a mirror.\n",
    "The applet below shows a point $P$ and its reflection $P'$ across a line.\n",
    "Try moving $P$ and the line and see how $P'$ changes."
   ]
  },
  {
   "cell_type": "markdown",
   "metadata": {
    "lang": "fr"
   },
   "source": [
    "## Introduction\n",
    "\n",
    "Dans la photo ci-dessus, un chaton regarde son reflet dans un miroir.\n",
    "Il y a quelques observations évidentes mais importantes à faire au sujet du chaton et de sa réflexion.\n",
    "Premièrement, le chaton et son reflet semblent être sur les côtés opposés du miroir.\n",
    "Deuxièmement, le chaton et son reflet semblent être aussi éloignés de la surface du miroir.\n",
    "Troisièmement, le chaton peut voir son reflet car il regarde le miroir tout droit -\n",
    "le photographe ne peut pas voir son reflet dans le miroir car elle le regarde en biais.\n",
    "\n",
    "Maintenant, voyons comment la réflexion d'un point sur une ligne est comme un reflet dans un miroir.\n",
    "L'applet ci-dessous montre un point $P$ et son reflet $P'$ sur une ligne.\n",
    "Essayez de déplacer $P$ et la ligne et voyez comment $P'$ change."
   ]
  },
  {
   "cell_type": "code",
   "execution_count": null,
   "metadata": {},
   "outputs": [],
   "source": [
    "%%html\n",
    "\n",
    "<div id=\"ggb-point\"></div>\n",
    "\n",
    "<script>\n",
    "  var ggbApp = new GGBApplet({\n",
    "      \"height\": 400,\n",
    "      \"showToolBar\": false,\n",
    "      \"showMenuBar\": false,\n",
    "      \"showAlgebraInput\": false,\n",
    "      \"showResetIcon\": true,\n",
    "      \"enableLabelDrags\": false,\n",
    "      \"enableRightClick\": false,\n",
    "      \"enableShiftDragZoom\": true,\n",
    "      \"useBrowserForJS\": false,\n",
    "      \"filename\": \"geogebra/reflection-point.ggb\"\n",
    "  }, 'ggb-point');\n",
    "\n",
    "  ggbApp.inject();\n",
    "</script>"
   ]
  },
  {
   "cell_type": "markdown",
   "metadata": {
    "lang": "en"
   },
   "source": [
    "Whichever side of the line $P$ is on, its reflection $P'$ is on the opposite side.\n",
    "The point $P$ is as far from the line as $P'$ is.\n",
    "If we were to draw a line from $P$ to $P'$, this line would intersect the line we are reflecting across at a right angle; to \"see\" $P'$, $P$ has to look at the line straight on.\n",
    "\n",
    "The applet shows the reflection of a point across any line.\n",
    "In this notebook, we will learn how to reflect a point across three particular lines:\n",
    "the $x$-axis, the $y$-axis, and the line $y = x$.\n",
    "We will also learn how to reflect functions and graphs of functions across these lines.\n",
    "Reflecting across other lines will be outside the scope of this notebook."
   ]
  },
  {
   "cell_type": "markdown",
   "metadata": {
    "lang": "fr"
   },
   "source": [
    "Quel que soit le côté de la ligne $P$ est activé, son $P'$ de réflexion est du côté opposé.\n",
    "Le point $P$ est aussi éloigné de la ligne que $P'$.\n",
    "Si nous devions tracer une ligne de $P$ à $P'$, cette ligne recouperait la ligne que nous réfléchissons à angle droit; pour \"voir\" $P'$, $P$ doit regarder la ligne directement.\n",
    "\n",
    "L'applet affiche le reflet d'un point sur n'importe quelle ligne.\n",
    "Dans ce cahier, nous apprendrons à refléter un point sur trois lignes particulières:\n",
    "l'axe $x$, l'axe $y$ et la ligne $y = x$.\n",
    "Nous allons également apprendre à refléter les fonctions et les graphiques des fonctions sur ces lignes.\n",
    "La réflexion sur d'autres lignes sortira du cadre de ce cahier."
   ]
  },
  {
   "cell_type": "markdown",
   "metadata": {
    "lang": "en"
   },
   "source": [
    "## Reflections across the $x$-axis\n",
    "\n",
    "### Points\n",
    "\n",
    "The easiest line to reflect across is the $x$-axis.\n",
    "After toying with the above applet,\n",
    "you might already have an idea of where the reflection of a point across the $x$-axis ought to be.\n",
    "If not, you may want to try playing with the applet above some more.\n",
    "In particular, try making the line horizontal, then try dragging the point $P$ around.\n",
    "\n",
    "So let's test your intuition.\n",
    "In the applet below, there are three blue points, $A$, $B$, and $C$.\n",
    "There are three more red points, $A'$, $B'$, and $C'$ that are supposed to be their reflections,\n",
    "but they are in the wrong place.\n",
    "Try moving $A'$, $B'$, and $C'$ to where you think they belong.\n",
    "You will see a message if you got it right.\n",
    "You can also keep reading and come back to this exercise later."
   ]
  },
  {
   "cell_type": "markdown",
   "metadata": {
    "lang": "fr"
   },
   "source": [
    "## Réflexions sur l'axe $x$\n",
    "\n",
    "### Points\n",
    "\n",
    "La ligne la plus facile à réfléchir est l'axe $x$.\n",
    "Après avoir joué avec l'applet ci-dessus,\n",
    "Vous pourriez déjà avoir une idée de ce que devrait être le reflet d'un point sur l'axe $x$.\n",
    "Sinon, vous voudrez peut-être essayer de jouer avec l'applet.\n",
    "En particulier, essayez de rendre la ligne horizontale, puis essayez de faire glisser le point $P$.\n",
    "\n",
    "Alors testons votre intuition.\n",
    "Dans l'applet ci-dessous, il y a trois points bleus, $A$, $B$ et $C$.\n",
    "Il y a trois autres points rouges, $A'$, $B'$ et $C'$ qui sont supposés être leurs réflexions,\n",
    "mais ils sont au mauvais endroit.\n",
    "Essayez de déplacer $A'$, $B'$ et $C'$ là où vous pensez qu'ils appartiennent.\n",
    "Vous verrez un message si vous avez bien compris.\n",
    "Vous pouvez aussi continuer à lire et revenir à cet exercice plus tard."
   ]
  },
  {
   "cell_type": "code",
   "execution_count": null,
   "metadata": {},
   "outputs": [],
   "source": [
    "%%html\n",
    "\n",
    "<div id=\"ggb-exercise1\"></div>\n",
    "\n",
    "<script>\n",
    "  var ggbApp = new GGBApplet({\n",
    "      \"height\": 600,\n",
    "      \"showToolBar\": false,\n",
    "      \"showMenuBar\": false,\n",
    "      \"showAlgebraInput\": false,\n",
    "      \"showResetIcon\": true,\n",
    "      \"enableLabelDrags\": false,\n",
    "      \"enableShiftDragZoom\": true,\n",
    "      \"enableRightClick\": false,\n",
    "      \"useBrowserForJS\": false,\n",
    "      \"filename\": \"geogebra/reflection-exercise1.ggb\"\n",
    "  }, 'ggb-exercise1');\n",
    "\n",
    "  ggbApp.inject();\n",
    "</script>"
   ]
  },
  {
   "cell_type": "markdown",
   "metadata": {
    "lang": "en"
   },
   "source": [
    "If you were able to solve the exercise, you might already have guessed the following facts:\n",
    "\n",
    "* A point and its reflection across the $x$-axis have the same $x$-coordinate.\n",
    "\n",
    "This is because the line from a point to its reflection across the $x$-axis\n",
    "has to intersect the $x$-axis at a right angle. \n",
    "Since the $x$-axis is perfectly horizontal,\n",
    "this line from point to point has to be perfectly vertical,\n",
    "which means the points are directly above one another, so they have the same $x$-coordinate.\n",
    "\n",
    "* A point and its reflection across the $x$-axis have equal but opposite $y$-coordinates.\n",
    "\n",
    "What is meant by that is if a point has a $y$-coordinate of, say, 17,\n",
    "its reflection has the $y$-coordinate -17.\n",
    "More generally, if a point has a $y$-coordinate of $a$, its reflection has the $y$-coordinate $-a$.\n",
    "This follows from the fact that the two points are on opposite sides of the $x$-axis\n",
    "(so one is positive and the other negative, unless the points are *on* the $x$-axis)\n",
    "and the fact that the two points are equally distant from the $x$-axis.\n",
    "\n",
    "Putting these two facts together, we get the following rule:\n",
    "\n",
    "**Rule:** For an arbitrary point $(x, y)$, its reflection across the $x$-axis is the point $(x, -y)$.\n",
    "\n",
    "**Example:** Consider the point $P = (1, 3)$.\n",
    "Let's call its reflection $P'$.\n",
    "Then $P'$ has the same $x$-coordinate as $P$, but its $y$-coordinate is the negative of $P$'s.\n",
    "This means $P' = (1, -3)$.\n",
    "\n",
    "**Example:** Suppose we have instead the point $P = (2, 0)$.\n",
    "This point is *on* the $x$-axis.\n",
    "Since $-0 = 0$, its reflection is $P' = (2, 0)$.\n",
    "If we have a point on the $x$-axis and we reflect it across the $x$-axis, we get the same point back.\n",
    "It is its own reflection."
   ]
  },
  {
   "cell_type": "markdown",
   "metadata": {
    "lang": "fr"
   },
   "source": [
    "Si vous avez pu résoudre l'exercice, vous avez peut-être déjà deviné les faits suivants:\n",
    "\n",
    "*Un point et sa réflexion sur l’axe $x$ ont la même coordonnée $x$.\n",
    "\n",
    "C'est parce que la ligne d'un point à son reflet sur l'axe $x$\n",
    "doit croiser l'axe $x$ à angle droit.\n",
    "Puisque l'axe $x$ est parfaitement horizontal,\n",
    "cette ligne de point à point doit être parfaitement verticale,\n",
    "ce qui signifie que les points sont directement les uns sur les autres, ils ont donc la même coordonnée $x$.* Un point et sa réflexion sur l'axe $x$ ont des coordonnées $y$ égales mais opposées.\n",
    "\n",
    "Qu'entend-on par là si un point a une coordonnée $y$ de, disons, 17,\n",
    "sa réflexion a la coordonnée $y$ -17.\n",
    "Plus généralement, si un point a une coordonnée $y$ de $a$, sa réflexion a le $-a$ de coordonnées $y$.\n",
    "Cela découle du fait que les deux points sont situés de part et d'autre de l'axe $x$\n",
    "(donc l'un est positif et l'autre négatif, sauf si les points sont *sur* l'axe $x$)\n",
    "et le fait que les deux points sont également éloignés de l'axe $x$.\n",
    "\n",
    "Rassemblant ces deux faits, nous obtenons la règle suivante:\n",
    "\n",
    "**Règle:** Pour un point arbitraire $(x, y)$, sa réflexion sur l’axe $x$ est le point $(x, -y)$.\n",
    "\n",
    "**Exemple:** Considérez le point $P = (1, 3)$.\n",
    "Appelons sa réflexion $P'$.\n",
    "Alors $P'$ a la même coordonnée $x$ que $P$, mais sa coordonnée $y$ est le négatif de $P$.\n",
    "Cela signifie $P' = (1, -3)$.\n",
    "\n",
    "**Exemple:** Supposons que nous ayons plutôt le point $P = (2, 0)$.\n",
    "Ce point est *sur* l’axe $x$.\n",
    "Depuis $-0 = 0$, sa réflexion est $P' = (2, 0)$.\n",
    "Si nous avons un point sur l'axe $x$ et que nous le reflétons sur l'axe $x$, nous obtenons le même point.\n",
    "C'est sa propre réflexion."
   ]
  },
  {
   "cell_type": "markdown",
   "metadata": {
    "lang": "en"
   },
   "source": [
    "### Graphs\n",
    "\n",
    "In the previous exercise, not only did we reflect three points,\n",
    "but we also plotted the reflection of a triangle.\n",
    "We can reflect points, triangles, and many other shapes and objects.\n",
    "Now we will see how to reflect the graph of a function.\n",
    "\n",
    "The graph of a function is just a bunch of points --\n",
    "so many points packed closely together that it looks like a single curve.\n",
    "To reflect the graph, we just have to reflect all of the points!\n",
    "\n",
    "Below, in blue, is the graph of some function $y = f(x)$\n",
    "and a few of the points making up its graph.\n",
    "The reflection of these points is in red.\n",
    "Use the slider to see what happens when we take and reflect more and more points on the graph."
   ]
  },
  {
   "cell_type": "markdown",
   "metadata": {
    "lang": "fr"
   },
   "source": [
    "### Graphes\n",
    "\n",
    "Dans l'exercice précédent, non seulement nous avons réfléchi à trois points,\n",
    "mais nous avons également tracé le reflet d'un triangle.\n",
    "Nous pouvons refléter des points, des triangles et de nombreuses autres formes et objets.\n",
    "Nous allons maintenant voir comment refléter le graphique d'une fonction.\n",
    "\n",
    "Le graphique d'une fonction n'est qu'un groupe de points -\n",
    "tellement de points emballés étroitement que cela ressemble à une courbe unique.\n",
    "Pour refléter le graphique, il suffit de refléter tous les points!\n",
    "\n",
    "Ci-dessous, en bleu, est le graphique d'une fonction $y = f(x)$\n",
    "et quelques points constituant son graphique.\n",
    "Le reflet de ces points est en rouge.\n",
    "Utilisez le curseur pour voir ce qui se passe lorsque nous prenons et reflétons de plus en plus de points sur le graphique."
   ]
  },
  {
   "cell_type": "code",
   "execution_count": null,
   "metadata": {},
   "outputs": [],
   "source": [
    "%%html\n",
    "\n",
    "<div id=\"ggb-slider1\"></div>\n",
    "\n",
    "<script>\n",
    "  var ggbApp = new GGBApplet({\n",
    "      \"height\": 600,\n",
    "      \"showToolBar\": false,\n",
    "      \"showMenuBar\": false,\n",
    "      \"showAlgebraInput\": false,\n",
    "      \"showResetIcon\": true,\n",
    "      \"enableLabelDrags\": false,\n",
    "      \"enableRightClick\": false,\n",
    "      \"enableShiftDragZoom\": true,\n",
    "      \"useBrowserForJS\": false,\n",
    "      \"filename\": \"geogebra/reflection-slider1.ggb\"\n",
    "  }, 'ggb-slider1');\n",
    "\n",
    "  ggbApp.inject();\n",
    "</script>"
   ]
  },
  {
   "cell_type": "markdown",
   "metadata": {
    "lang": "en"
   },
   "source": [
    "If we only reflect a few points, the red dots don't look like much,\n",
    "but as we reflect more and more points, the red dots start to resemble the blue curve but flipped upside-down.\n",
    "This is the reflection of the graph across the $x$-axis.\n",
    "Or more accurately, if we had the time to sample and reflect infinitely many points, we would get the reflection of the graph.\n",
    "Usually, it will suffice to sample and reflect a few points and connect the dots with a curve.\n",
    "(Even computer programs that graph functions typically just plot a bunch of points and connect them by straight lines, but they plot so many points that it looks accurate.)\n",
    "\n",
    "**Example:** Let's reflect the graph of $y = \\log_2(x)$ across the $x$-axis.\n",
    "We start by identifying a few points on the graph of $y = \\log_2(x)$.\n",
    "We know, for example, that $(1,0)$, $(2,1)$, $(4,2)$, and $(8,3)$ are points on the graph.\n",
    "Their reflections are $(1, 0)$, $(2,-1)$, $(4,-2)$, and $(8,-3)$, respectively.\n",
    "Then we connect these points by a curve."
   ]
  },
  {
   "cell_type": "markdown",
   "metadata": {
    "lang": "fr"
   },
   "source": [
    "Si nous ne réfléchissons que quelques points, les points rouges ne ressemblent pas beaucoup,\n",
    "mais comme nous réfléchissons de plus en plus de points, les points rouges commencent à ressembler à la courbe bleue, mais ils se renversent.\n",
    "C'est le reflet du graphique sur l'axe $x$.\n",
    "Ou plus exactement, si nous avions le temps d'échantillonner et de refléter une infinité de points, nous aurions le reflet du graphique.\n",
    "Généralement, il suffira d'échantillonner et de réfléchir quelques points et de relier les points à une courbe.\n",
    "(Même les programmes informatiques fonctionnant sur des graphes se contentent de tracer un groupe de points et de les relier par des lignes droites, mais ils tracent tellement de points qu’ils semblent corrects.)\n",
    "\n",
    "**Exemple:** Reprenons le graphique de $y = \\log_2(x)$ sur l’axe $x$.\n",
    "Nous commençons par identifier quelques points sur le graphique de $y = \\log_2(x)$.\n",
    "Nous savons, par exemple, que $(1,0)$, $(2,1)$, $(4,2)$ et $(8,3)$ sont des points sur le graphique.\n",
    "Leurs réflexions sont respectivement $(1, 0)$, $(2,-1)$, $(4,-2)$ et $(8,-3)$.\n",
    "Ensuite, nous connectons ces points par une courbe."
   ]
  },
  {
   "cell_type": "code",
   "execution_count": null,
   "metadata": {},
   "outputs": [],
   "source": [
    "import matplotlib\n",
    "import numpy as np\n",
    "import matplotlib.pyplot as plt\n",
    "from math import log\n",
    "\n",
    "def draw():\n",
    "    def g(x):\n",
    "        return log(x,2)\n",
    "    f = np.vectorize(g)\n",
    "    xmin, xmax = 0.01, 10\n",
    "    nsamples = 100 #2*(xmax - xmin) - 1\n",
    "    x = np.linspace(xmin, xmax, nsamples)\n",
    "\n",
    "    plt.axhline(color=\"black\", linewidth=1)\n",
    "    plt.axvline(color=\"black\", linewidth=1)\n",
    "    plt.ylim(-5, 5)\n",
    "    plt.plot(x, f(x), label=\"$y = \\log_2(x)$\")\n",
    "    plt.plot(x, -f(x), label=\"Reflection of $y = \\log_2(x)$\", color=\"red\", sketch_params=0.8)\n",
    "\n",
    "    pts = [(1,0), (2,1), (4,2), (8,3), (2,-1), (4,-2), (8,-3)]\n",
    "    fmts = [\"mo\", \"bo\", \"bo\", \"bo\", \"ro\", \"ro\", \"ro\"]\n",
    "    for i in range(0, len(pts)) :\n",
    "        plt.plot(pts[i][0], pts[i][1], fmts[i])\n",
    "        plt.annotate(\"$({0},{1})$\".format(pts[i][0],  pts[i][1]), xy = (pts[i][0],  pts[i][1]), xytext = (4, 4), textcoords = \"offset points\")\n",
    "    \n",
    "    plt.legend(loc='upper center', bbox_to_anchor=(1.45, 0.8))\n",
    "\n",
    "draw()"
   ]
  },
  {
   "cell_type": "markdown",
   "metadata": {
    "lang": "en"
   },
   "source": [
    "### Functions\n",
    "\n",
    "We have reflected points and graphs across the $x$-axis.\n",
    "These were both geometric ideas.\n",
    "Now we will reflect functions themselves,\n",
    "and we start with the observation that the reflection of the graph $y = \\log_2(x)$ in the last example\n",
    "is precisely the graph of the function $y = -\\log_2(x)$.\n",
    "\n",
    "If we have an arbitrary function $y = f(x)$,\n",
    "its graph is all of the points of the form $(x, f(x))$.\n",
    "To reflect these points across the $x$-axis, we negate their $y$-coordinates,\n",
    "so the reflection of the graph is all of the points of the form $(x, -f(x))$.\n",
    "But this is just the graph of the function $y = -f(x)$!\n",
    "\n",
    "**Rule:** The reflection of a function $y = f(x)$ across the $x$-axis is the function $y = -f(x)$.\n",
    "\n",
    "**Example:** Suppose we have the function $y = x^2$ and we want to reflect it across the $x$-axis.\n",
    "All we have to do is negate the right hand side of the equation.\n",
    "The reflection is simply\n",
    "    $$ y = -(x^2) = -x^2. $$\n",
    "\n",
    "**Example:** Suppose we have the function $y = \\sin(x) - x$ instead.\n",
    "Again, we just negate the right hand side of the equation,\n",
    "but make sure to negate *all* of the terms and be careful with double negatives.\n",
    "This time, the reflection across the $x$-axis is\n",
    "    $$ y = -(\\sin(x) - x) = -\\sin(x) + x. $$\n",
    "\n",
    "The interactive graph below allows you to enter an arbitrary function $f(x)$ and see its graph and its reflection across the $x$-axis."
   ]
  },
  {
   "cell_type": "markdown",
   "metadata": {
    "lang": "fr"
   },
   "source": [
    "### Les fonctions\n",
    "\n",
    "Nous avons réfléchi des points et des graphiques sur l'axe $x$.\n",
    "C'étaient deux idées géométriques.\n",
    "Maintenant, nous allons refléter les fonctions elles-mêmes,\n",
    "et nous commençons par l'observation que la réflexion du graphique $y = \\log_2(x)$ dans le dernier exemple\n",
    "est précisément le graphique de la fonction $y = -\\log_2(x)$.\n",
    "\n",
    "Si nous avons une fonction arbitraire $y = f(x)$,\n",
    "son graphique est l'ensemble des points de la forme $(x, f(x))$.\n",
    "Pour refléter ces points sur l'axe $x$, nous annulons leurs coordonnées $y$,\n",
    "Ainsi, le reflet du graphique correspond à tous les points de la forme $(x, -f(x))$.\n",
    "Mais ce n'est que le graphique de la fonction $y = -f(x)$!\n",
    "\n",
    "**Règle:** Le reflet d’une fonction $y = f(x)$ sur l’axe $x$ est la fonction $y = -f(x)$.\n",
    "\n",
    "**Exemple:** Supposons que nous ayons la fonction $y = x^2$ et que nous voulons la refléter sur l’axe $x$.\n",
    "Tout ce que nous avons à faire est de nier le côté droit de l’équation.\n",
    "La réflexion est simplement\n",
    "    $$ y = -(x^2) = -x^2. $$\n",
    "\n",
    "**Exemple:** Supposons que nous ayons la fonction $y = \\sin(x) - x$ à la place.\n",
    "Encore une fois, nous annulons simplement le côté droit de l’équation,\n",
    "mais assurez-vous de nier *tous les* des termes et soyez prudent avec les doubles négatifs.\n",
    "Cette fois, la réflexion sur l'axe $x$ est\n",
    "    $$ y = -(\\sin(x) - x) = -\\sin(x) + x. $$\n",
    "\n",
    "Le graphique interactif ci-dessous vous permet d'entrer une fonction arbitraire $f(x)$ et de voir son graphique et sa réflexion sur l'axe $x$."
   ]
  },
  {
   "cell_type": "code",
   "execution_count": null,
   "metadata": {
    "scrolled": false
   },
   "outputs": [],
   "source": [
    "%%html\n",
    "\n",
    "<div id=\"ggb-interactive1\"></div>\n",
    "\n",
    "<script>\n",
    "  var ggbApp = new GGBApplet({\n",
    "      \"height\": 600,\n",
    "      \"showToolBar\": false,\n",
    "      \"showMenuBar\": false,\n",
    "      \"showAlgebraInput\": false,\n",
    "      \"showResetIcon\": true,\n",
    "      \"enableLabelDrags\": true,\n",
    "      \"enableShiftDragZoom\": true,\n",
    "      \"enableRightClick\": false,\n",
    "      \"useBrowserForJS\": false,\n",
    "      \"filename\": \"geogebra/reflection-interactive1.ggb\"\n",
    "  }, 'ggb-interactive1');\n",
    "\n",
    "  ggbApp.inject();\n",
    "</script>"
   ]
  },
  {
   "cell_type": "markdown",
   "metadata": {
    "lang": "en"
   },
   "source": [
    "## Reflections across the $y$-axis\n",
    "\n",
    "### Points\n",
    "\n",
    "Now that we know how to reflect points, graphs, and functions across the $x$-axis,\n",
    "we will see how to reflect them across the $y$-axis instead.\n",
    "Geometrically, the idea is the same as before.\n",
    "A point and its reflection are on opposite sides of the $y$-axis,\n",
    "and both are the same distance away from the $y$-axis.\n",
    "The line between them intersects the $y$-axis at a right angle.\n",
    "Since the the $y$-axis is vertical, this line intersecting it is horizontal,\n",
    "so the point's reflection must be directly to the left or right of it.\n",
    "Therefore the point and its reflection have the same $y$-coordinate.\n",
    "\n",
    "Before seeing the \"rule\" for reflecting a point across the $y$-axis,\n",
    "try this exercise to test your intuition and understanding.\n",
    "Click and drag the points $A'$, $B'$, and $C'$ so that they are the reflections across the $y$-axis\n",
    "of $A$, $B$, and $C$, respectively."
   ]
  },
  {
   "cell_type": "markdown",
   "metadata": {
    "lang": "fr"
   },
   "source": [
    "## Réflexions sur l'axe $y$\n",
    "\n",
    "### Points\n",
    "\n",
    "Maintenant que nous savons comment refléter des points, des graphiques et des fonctions sur l’axe $x$,\n",
    "nous verrons comment les refléter sur l'axe $y$ à la place.\n",
    "Géométriquement, l'idée est la même qu'avant.\n",
    "Un point et son reflet se trouvent sur les côtés opposés de l'axe $y$,\n",
    "et les deux sont à la même distance de l'axe $y$.\n",
    "La ligne entre eux coupe l'axe $y$ à angle droit.\n",
    "Puisque l'axe $y$ est vertical, cette ligne l'intersectant est horizontale,\n",
    "la réflexion du point doit donc être directement à gauche ou à droite.\n",
    "Par conséquent, le point et sa réflexion ont la même coordonnée $y$.\n",
    "\n",
    "Avant de voir la \"règle\" pour refléter un point sur l'axe $y$,\n",
    "Essayez cet exercice pour tester votre intuition et votre compréhension.\n",
    "Cliquez et faites glisser les points $A'$, $B'$ et $C'$ afin qu'ils soient les reflets sur l'axe $y$\n",
    "de $A$, $B$ et $C$, respectivement."
   ]
  },
  {
   "cell_type": "code",
   "execution_count": null,
   "metadata": {},
   "outputs": [],
   "source": [
    "%%html\n",
    "\n",
    "<div id=\"ggb-exercise2\"></div>\n",
    "\n",
    "<script>\n",
    "  var ggbApp = new GGBApplet({\n",
    "      \"height\": 600,\n",
    "      \"showToolBar\": false,\n",
    "      \"showMenuBar\": false,\n",
    "      \"showAlgebraInput\": false,\n",
    "      \"showResetIcon\": true,\n",
    "      \"enableLabelDrags\": true,\n",
    "      \"enableShiftDragZoom\": true,\n",
    "      \"enableRightClick\": false,\n",
    "      \"useBrowserForJS\": false,\n",
    "      \"filename\": \"geogebra/reflection-exercise2.ggb\"\n",
    "  }, 'ggb-exercise2');\n",
    "\n",
    "  ggbApp.inject();\n",
    "</script>"
   ]
  },
  {
   "cell_type": "markdown",
   "metadata": {
    "lang": "en"
   },
   "source": [
    "**Rule:** For an arbitrary point $(x, y)$, its reflection across the $y$-axis is the point $(-x, y)$.\n",
    "\n",
    "**Example:** Consider the point $P = (1, 3)$ and its reflection across the $y$-axis, $P'$.\n",
    "The points $P$ and $P'$ have the same $y$-coordinates, but their $x$-coordinates are negatives of one another.\n",
    "So $P' = (-1, 3)$.\n",
    "\n",
    "**Example:** Suppose we have instead the point $P = (0, 2)$.\n",
    "This point is on the $y$-axis.\n",
    "Since $-0 = 0$, its reflection is $P' = (0, 2)$.\n",
    "If we have a point on the $y$-axis and we reflect it across the $y$-axis, we get the same point back.\n"
   ]
  },
  {
   "cell_type": "markdown",
   "metadata": {
    "lang": "fr"
   },
   "source": [
    "**Règle:** Pour un point arbitraire $(x, y)$, sa réflexion sur l’axe $y$ est le point $(-x, y)$.\n",
    "\n",
    "**Exemple:** Considérez le point $P = (1, 3)$ et sa réflexion sur l’axe $y$, $P'$.\n",
    "Les points $P$ et $P'$ ont les mêmes coordonnées $y$, mais leurs coordonnées $x$ sont les uns des autres.\n",
    "Donc, $P' = (-1, 3)$.\n",
    "\n",
    "**Exemple:** Supposons que nous ayons plutôt le point $P = (0, 2)$.\n",
    "Ce point est sur l'axe $y$.\n",
    "Depuis $-0 = 0$, sa réflexion est $P' = (0, 2)$.\n",
    "Si nous avons un point sur l'axe $y$ et que nous le reflétons sur l'axe $y$, nous obtenons le même point."
   ]
  },
  {
   "cell_type": "markdown",
   "metadata": {
    "lang": "en"
   },
   "source": [
    "### Graphs\n",
    "\n",
    "To reflect a graph across the $y$-axis, we do just like before.\n",
    "In theory, we think of the graph as consisting of infinitely many points,\n",
    "and we draw the reflection across the $y$-axis of each of these points to get the graphs reflection.\n",
    "In practice, because life is short, we reflect a few points and connect them by a curve.\n",
    "The more points we reflect, the more accurately we can draw the reflection of the graph."
   ]
  },
  {
   "cell_type": "markdown",
   "metadata": {
    "lang": "fr"
   },
   "source": [
    "### Graphes\n",
    "\n",
    "Pour refléter un graphique sur l'axe $y$, nous faisons comme avant.\n",
    "En théorie, nous pensons que le graphique se compose de nombreux points,\n",
    "et nous dessinons la réflexion sur l'axe $y$ de chacun de ces points pour obtenir la réflexion des graphes.\n",
    "En pratique, parce que la vie est courte, nous réfléchissons quelques points et les relions par une courbe.\n",
    "Plus nous reflétons de points, plus nous pouvons tracer la réflexion du graphique avec précision."
   ]
  },
  {
   "cell_type": "code",
   "execution_count": null,
   "metadata": {},
   "outputs": [],
   "source": [
    "%%html\n",
    "\n",
    "<div id=\"ggb-slider2\"></div>\n",
    "\n",
    "<script>\n",
    "  var ggbApp = new GGBApplet({\n",
    "      \"height\": 600,\n",
    "      \"showToolBar\": false,\n",
    "      \"showMenuBar\": false,\n",
    "      \"showAlgebraInput\": false,\n",
    "      \"showResetIcon\": true,\n",
    "      \"enableLabelDrags\": true,\n",
    "      \"enableShiftDragZoom\": true,\n",
    "      \"enableRightClick\": false,\n",
    "      \"useBrowserForJS\": false,\n",
    "      \"filename\": \"geogebra/reflection-slider2.ggb\"\n",
    "  }, 'ggb-slider2');\n",
    "\n",
    "  ggbApp.inject();\n",
    "</script>"
   ]
  },
  {
   "cell_type": "markdown",
   "metadata": {
    "lang": "en"
   },
   "source": [
    "### Functions\n",
    "\n",
    "In the same way that we reflected the function $y = f(x)$ across the $x$-axis to get $y = -f(x)$,\n",
    "we can also reflect the function across the $y$-axis.\n",
    "An arbitrary point on the graph of $y = f(x)$ has the form $(x, f(x))$.\n",
    "Using the rule above, the reflection of an arbitrary point on the graph is of the form $(-x, f(x))$.\n",
    "But $(-x, f(x))$ has the same \"form\" as $(x, f(-x))$, and points of *this* form make up the graph of $y = f(-x)$.\n",
    "\n",
    "**Rule:** The reflection of a function $y = f(x)$ across the $y$-axis is $y = f(-x)$.\n",
    "\n",
    "This means we just have to replace $x$ with $-x$ everywhere in our function.\n",
    "Let's do a couple of examples.\n",
    "We reflected the following functions across the $x$-axis before.\n",
    "Let's reflect them across the $y$-axis instead.\n",
    "\n",
    "**Example:** Let's reflect $y = x^2$ across the $y$-axis.\n",
    "According to our rule, we just replace $x$ with $-x$,\n",
    "but we should be careful and put parentheses around it, like so: $(-x)$.\n",
    "The reflection is simply\n",
    "    $$ y = (-x)^2 = x^2. $$\n",
    "In this case, the reflection across the $y$-axis is the same as the original function.\n",
    "\n",
    "**Example:** Let's reflect the function $y = \\sin(x) - x$ across the $y$-axis.\n",
    "We replace every $x$ with $-x$ to get\n",
    "    $$ y = \\sin(-x) - (-x) = \\sin(-x) + x. $$\n",
    "This is a perfectly acceptable answer.\n",
    "You might have learned that $\\sin(-x) = -\\sin(x)$,\n",
    "so we could also rewrite this as\n",
    "    $$ y = -\\sin(x) + x $$\n",
    "if we prefer.\n",
    "You might also notice that this is the same answer that we got when we reflected it across the $x$-axis.\n",
    "Whether we reflect $y = \\sin(x) - x$ across the $x$-axis or the $y$-axis, we get the same result.\n",
    "\n",
    "Use the interactive graph below to plot any function with its reflection across the $y$-axis.\n",
    "As usual, the function will be in blue and its reflection in red."
   ]
  },
  {
   "cell_type": "markdown",
   "metadata": {
    "lang": "fr"
   },
   "source": [
    "### Les fonctions\n",
    "\n",
    "De la même manière que nous avons reflété la fonction $y = f(x)$ sur l’axe $x$ pour obtenir $y = -f(x)$,\n",
    "nous pouvons également refléter la fonction sur l'axe $y$.\n",
    "Un point arbitraire sur le graphique de $y = f(x)$ a la forme $(x, f(x))$.\n",
    "En utilisant la règle ci-dessus, la réflexion d'un point arbitraire sur le graphique est de la forme $(-x, f(x))$.\n",
    "Mais $(-x, f(x))$ a la même \"forme\" que $(x, f(-x))$, et les points de *cette forme* constituent le graphique de $y = f(-x)$.\n",
    "\n",
    "**Règle:** La réflexion d'une fonction $y = f(x)$ sur l'axe $y$ est $y = f(-x)$.\n",
    "\n",
    "Cela signifie que nous devons simplement remplacer $x$ avec $-x$ partout dans notre fonction.\n",
    "Faisons quelques exemples.\n",
    "Nous avons reflété les fonctions suivantes sur l'axe $x$ auparavant.\n",
    "Reflétons-les à travers l'axe $y$ à la place.\n",
    "\n",
    "**Exemple:** Reflétons $y = x^2$ sur l’axe $y$.\n",
    "Selon notre règle, nous venons de remplacer $x$ par $-x$,\n",
    "mais nous devrions faire attention et mettre des parenthèses autour, comme ceci: $(-x)$.\n",
    "La réflexion est simplement\n",
    "    $$ y = (-x)^2 = x^2. $$\n",
    "Dans ce cas, la réflexion sur l'axe $y$ est identique à la fonction d'origine.\n",
    "\n",
    "**Exemple:** Reprenons la fonction $y = \\sin(x) - x$ sur l’axe $y$.\n",
    "Nous remplaçons chaque $x$ avec $-x$ pour obtenir\n",
    "    $$ y = \\sin(-x) - (-x) = \\sin(-x) + x. $$\n",
    "C'est une réponse parfaitement acceptable.\n",
    "Vous avez peut-être appris que $\\sin(-x) = -\\sin(x)$,\n",
    "afin que nous puissions aussi réécrire cela comme\n",
    "    $$ y = -\\sin(x) + x $$\n",
    "si nous préférons\n",
    "Vous remarquerez peut-être que c'est la même réponse que nous avons eue lorsque nous avons réfléchi sur l'axe $x$.\n",
    "Que nous reflétions $y = \\sin(x) - x$ sur l'axe $x$ ou sur l'axe $y$, nous obtenons le même résultat.\n",
    "\n",
    "Utilisez le graphique interactif ci-dessous pour tracer n'importe quelle fonction avec sa réflexion sur l'axe $y$.\n",
    "Comme d'habitude, la fonction sera en bleu et sa réflexion en rouge."
   ]
  },
  {
   "cell_type": "code",
   "execution_count": null,
   "metadata": {
    "scrolled": true
   },
   "outputs": [],
   "source": [
    "%%html\n",
    "\n",
    "<div id=\"ggb-interactive2\"></div>\n",
    "\n",
    "<script>\n",
    "  var ggbApp = new GGBApplet({\n",
    "      \"height\": 600,\n",
    "      \"showToolBar\": false,\n",
    "      \"showMenuBar\": false,\n",
    "      \"showAlgebraInput\": false,\n",
    "      \"showResetIcon\": true,\n",
    "      \"enableLabelDrags\": true,\n",
    "      \"enableShiftDragZoom\": true,\n",
    "      \"enableRightClick\": false,\n",
    "      \"useBrowserForJS\": false,\n",
    "      \"filename\": \"geogebra/reflection-interactive2.ggb\"\n",
    "  }, 'ggb-interactive2');\n",
    "\n",
    "  ggbApp.inject();\n",
    "</script>"
   ]
  },
  {
   "cell_type": "markdown",
   "metadata": {
    "lang": "en"
   },
   "source": [
    "## Reflections across both axes\n",
    "\n",
    "If we reflect a point across the $x$-axis and then reflect it again, the twice-reflected point is in the same position as the original point.\n",
    "The same thing happens when we reflect a point twice across the $y$-axis.\n",
    "But what happens when we reflect a point across the $x$-axis and the across the $y$-axis?\n",
    "\n",
    "Let's work with an example.\n",
    "Suppose we start with the point $(1, 2)$.\n",
    "Its reflection across the $x$-axis is $(-1, 2)$.\n",
    "The reflection of *that* across the $y$-axis is $(-1, -2)$.\n",
    "\n",
    "What if we work with an arbitrary point whose coordinates we don't know?\n",
    "We start with the point $(x, y)$, then reflect it across the $x$-axis to get $(-x, y)$.\n",
    "The reflection of the new point across the $y$-axis is $(-x, -y)$.\n",
    "\n",
    "To reflect a point across the $x$-axis followed by the $y$-axis, we just negate both of the point's coordinates.\n",
    "Now check for yourself that if we reflected $(x, y)$ across the axes in the other order --\n",
    "the $y$-axis and then the $x$-axis --\n",
    "we still get the point $(-x, -y)$.\n",
    "The order we do the reflections in does not matter!\n",
    "\n",
    "Something interesting happens when we look at what happens graphically.\n",
    "Try playing with the following applet.\n",
    "Click and drag the point $P$ in blue.\n",
    "The red point $P'$ is the result of reflecting $P$ across both axes."
   ]
  },
  {
   "cell_type": "markdown",
   "metadata": {
    "lang": "fr"
   },
   "source": [
    "## Réflexions sur les deux axes\n",
    "\n",
    "Si nous réfléchissons un point sur l'axe $x$ et que nous le réfléchissons à nouveau, le point réfléchi deux fois est dans la même position que le point d'origine.\n",
    "La même chose se produit lorsque nous réfléchissons un point deux fois sur l'axe $y$.\n",
    "Mais que se passe-t-il lorsque nous réfléchissons un point sur l'axe $x$ et sur l'axe $y$?\n",
    "\n",
    "Travaillons avec un exemple.\n",
    "Supposons que nous commençons avec le point $(1, 2)$.\n",
    "Sa réflexion sur l'axe $x$ est $(-1, 2)$.\n",
    "La réflexion de *qui* sur l'axe $y$ est $(-1, -2)$.\n",
    "\n",
    "Et si nous travaillons avec un point arbitraire dont nous ne connaissons pas les coordonnées?\n",
    "Nous commençons avec le point $(x, y)$, puis réfléchissons sur l'axe $x$ pour obtenir $(-x, y)$.\n",
    "Le reflet du nouveau point sur l'axe $y$ est $(-x, -y)$.\n",
    "\n",
    "Pour refléter un point sur l'axe $x$ suivi de l'axe $y$, nous annulons simplement les deux coordonnées du point.\n",
    "Maintenant, vérifiez par vous-même que si nous avons réfléchi $(x, y)$ à travers les axes dans l’autre ordre -\n",
    "l'axe $y$ puis l'axe $x$ -\n",
    "nous obtenons toujours le point $(-x, -y)$.\n",
    "L'ordre dans lequel nous effectuons les réflexions n'a pas d'importance!\n",
    "\n",
    "Quelque chose d'intéressant se produit lorsque nous regardons ce qui se passe graphiquement.\n",
    "Essayez de jouer avec l'applet suivant.\n",
    "Cliquez et faites glisser le point $P$ en bleu.\n",
    "Le point rouge $P'$ est le résultat de la réflexion de $P$ sur les deux axes."
   ]
  },
  {
   "cell_type": "code",
   "execution_count": null,
   "metadata": {},
   "outputs": [],
   "source": [
    "%%html\n",
    "\n",
    "<div id=\"ggb-point2\"></div>\n",
    "\n",
    "<script>\n",
    "  var ggbApp = new GGBApplet({\n",
    "      \"height\": 400,\n",
    "      \"showToolBar\": false,\n",
    "      \"showMenuBar\": false,\n",
    "      \"showAlgebraInput\": false,\n",
    "      \"showResetIcon\": true,\n",
    "      \"enableLabelDrags\": true,\n",
    "      \"enableShiftDragZoom\": true,\n",
    "      \"enableRightClick\": false,\n",
    "      \"useBrowserForJS\": false,\n",
    "      \"filename\": \"geogebra/reflection-point2.ggb\"\n",
    "  }, 'ggb-point2');\n",
    "\n",
    "  ggbApp.inject();\n",
    "</script>"
   ]
  },
  {
   "cell_type": "markdown",
   "metadata": {
    "lang": "en"
   },
   "source": [
    "Can you see what is happening?\n",
    "There are a couple of ways of thinking about the relationship between $P$ and $P'$ in this applet.\n",
    "One way is that $P'$ is the result of rotating $P$ 180 degrees around the origin.\n",
    "Another way is that $P'$ is the reflection of $P$ across the origin -- a line from $P$ to $P'$ passes through the origin and both points are equally distant from the origin."
   ]
  },
  {
   "cell_type": "markdown",
   "metadata": {
    "lang": "fr"
   },
   "source": [
    "Pouvez-vous voir ce qui se passe?\n",
    "Il y a plusieurs façons de penser à la relation entre $P$ et $P'$ dans cette applet.\n",
    "L’un des moyens est que $P'$ est le résultat de la rotation de 180 degrés $P$ autour de l’origine.\n",
    "Une autre façon est que $P'$ est le reflet de $P$ à travers l'origine - une ligne de $P$ à $P'$ passe par l'origine et les deux points sont également éloignés de l'origine."
   ]
  },
  {
   "cell_type": "markdown",
   "metadata": {
    "lang": "en"
   },
   "source": [
    "## Even and odd functions\n",
    "\n",
    "Functions that are their own reflections across the $y$-axis have a special name.\n",
    "These are called **even** functions.\n",
    "Geometrically, this means the graph of the function is the same after we reflect it across the $y$-axis.\n",
    "What does this mean algebraically?\n",
    "An arbitrary point on the graph of the function looks like $(x, f(x))$.\n",
    "When we reflect it across the $y$-axis, we get the point $(-x, f(x))$.\n",
    "But because the graph is its own reflection, this has to be the same as the point $(-x, f(-x))$.\n",
    "If $(-x, f(x))$ and $(-x, f(-x))$ are the same point, that means $f(x) = f(-x)$.\n",
    "An even function is a function for which $f(x) = f(-x)$.\n",
    "Some example of even functions are\n",
    "* $f(x) = c$, where $c$ is any constant;\n",
    "* $f(x) = |x|$;\n",
    "* $f(x) = x^2$;\n",
    "* $f(x) = x^a$ where $a$ is any even power; and\n",
    "* $f(x) = \\cos(x)$.\n",
    "Earlier in this notebook, there was an interactive graph allowing you to enter a function and see its reflection across the $y$-axis.\n",
    "Try entering these functions and see how the functions and their reflections overlap.\n",
    "\n",
    "Functions that are their own 180-degree rotations around the origin also have a special name.\n",
    "They are called **odd** functions.\n",
    "Geometrically, this means if we graph the function and the rotate the graph 180 degrees about the origin,\n",
    "we get the same image.\n",
    "Like before, let's consider what this means algebraically.\n",
    "We start with an arbitrary point on the graph of the function, $(x, f(x))$.\n",
    "We rotate it 180 degrees (or equivalently, we reflect across the $x$-axis and then the $y$-axis) and get the point $(-x, -f(x))$.\n",
    "But since the graph is its own rotation, this is the same point as $(-x, f(-x))$.\n",
    "This means that $f(-x) = -f(x)$.\n",
    "So an odd function is a function for which $f(-x) = -f(x)$.\n",
    "Some examples of odd functions are\n",
    "* $f(x) = 0$;\n",
    "* $f(x) = x$;\n",
    "* $f(x) = x^a$ where $a$ is any odd power; and\n",
    "* $f(x) = \\sin(x)$.\n",
    "\n",
    "We don't have a special name for functions that are their own reflections across the $x$-axis.\n",
    "Why not?\n",
    "Because other than the function $f(x) = 0$, there is no such thing as a function that is its own reflection across the $x$-axis!\n",
    "Such a \"function\" would not pass the vertical line test.\n",
    "\n",
    "The only function that is both even and odd at the same time is $y = 0$.\n",
    "\n",
    "We are used to calling integers even and odd.\n",
    "It is strange to call functions even and odd,\n",
    "but there is a relationship between the two.\n",
    "* The product and quotient of two even functions is even, just like the sum and difference of even numbers is even.\n",
    "* The product and quotient of two odd functions is even, just like the sum and difference of odd numbers is even.\n",
    "* The product and quotient of an even and odd function is odd, just like the sum and difference of an even and odd number is odd.\n",
    "Be careful though, because the sum of two odd functions is odd, whereas the sum of two odd numbers is even."
   ]
  },
  {
   "cell_type": "markdown",
   "metadata": {
    "lang": "fr"
   },
   "source": [
    "## Fonctions paires et impaires\n",
    "\n",
    "Les fonctions qui sont leurs propres réflexions sur la $y$ ont un nom spécial.\n",
    "Ceux-ci sont appelés **même** fonctions.\n",
    "Géométriquement, Cela signifie que le graphique de la fonction est le même après que nous avons répété sur l’axe $y$.\n",
    "Qu'est-ce que cela signifie algébriquement?\n",
    "Un point arbitraire sur le graphique de la fonction ressemble à $(x, f(x))$.\n",
    "Lorsque nous réfléchissons sur la mathématique mathématique4, nous obtenons le point $(-x, f(x))$.\n",
    "Mais comme le graphique est propre, il doit être identique au point $(-x, f(-x))$.\n",
    "Si $(-x, f(x))$ et $(-x, f(-x))$ sont le même point, cela signifie $f(x) = f(-x)$.\n",
    "Une fonction est une fonction pour quelle $f(x) = f(-x)$.\n",
    "Quelques exemples de fonctions paires \n",
    "* $f(x) = c$, où $c$ est une constante quelconque;\n",
    "* $f(x) = |x|$;\n",
    "* $f(x) = x^2$;\n",
    "* $f(x) = x^a$ où $a$ est un pouvoir paire; et\n",
    "* $f(x) = \\cos(x)$.\n",
    "\n",
    "De plus Dans CE Tôt cahier, il y un Avait vous permettant graphique d'interactif Une ENTRER et de voir fonction sa réflexion sur l'axe $y$.\n",
    "Étapes vers les fonctions et commentaires voir fonctions et réflexions se chevauchent.\n",
    "\n",
    "Les fonctions qui sont leurs propres rotations à 180 degrés autour de leur ont également un nom spécial.\n",
    "Ils sont appelés* *fonctions impaires* *.\n",
    "Géométriquement, ACDE si nous Que signifié graphiquement la fonction représentons et nous pivotons le Que de 180 degrés graphique Autour de l'origine,\n",
    "nous obtenons la même image.\n",
    "Comme avant, penseons que cela signifie algébriquement.\n",
    "Nous commençons par un point arbitraire sur le graphique de la fonction, $(x, f(x))$.\n",
    "Nous le Pivoter de 180 Faisons (ou degrés, de Manière equivalent, nous réfléchissons sur l'axe $x$ sur l'axe Puis $y$) et le point de $(-x, -f(x))$ obtenons.\n",
    "Mais c'est le même point que $(-x, f(-x))$.\n",
    "Cela signifie que $f(-x) = -f(x)$.\n",
    "Donc, une fonction impaire est une fonction pour laquelle $f(-x) = -f(x)$.\n",
    "Quelques exemples de fonctions impaires sont\n",
    "* $f(x) = 0$;\n",
    "* $f(x) = x$;\n",
    "* $f(x) = x^a$ où $a$ est un pouvoir étrange; et\n",
    "* $f(x) = \\sin(x)$.\n",
    "\n",
    "Nous n'avons pas de nom pour les fonctions qui sont leurs propres réflexions sur les mathématiques 31.\n",
    "Pourquoi pas?\n",
    "À part la fonction $f(x) = 0$, il n'existe pas de fonction qui soit son propre reflet sur l’axe $x$!\n",
    "Une telle \"fonction\" ne passe pas le test de la ligne verticale.\n",
    "\n",
    "La seule fonction à la fois paire et impaire est $y = 0$.\n",
    "\n",
    "Nous sommes habitués à appeler des paires paires et impairs.\n",
    "Il est étrange d'appeler des fonctions paires et impaires,\n",
    "Mais il y a relation Entre juin les deux.\n",
    "* Le produit et Le quotient de deux paires de fonctions Paires, Tout Sont est comme la Somme et La paires des paires Différence Sont Nombres.\n",
    "* Le produit et Le quotient de deux fonctions Impaires paires are, Tout est comme la somme et la différence des nombres ne diminue Sont paires.\n",
    "* Le produit et le quotient d'Une fonction paire et impaire Sont altère, tout est comme la somme et la différence d'un nombre pair et loss sont impairs.\n",
    "Attention, car la somme de deux fonctions impaires est impaire."
   ]
  },
  {
   "cell_type": "markdown",
   "metadata": {
    "lang": "en"
   },
   "source": [
    "## Reflections across the line $y = x$\n",
    "\n",
    "### Points\n",
    "\n",
    "The \"rule\" for reflecting across the line $y = x$ is not hard to use,\n",
    "but understanding why the rule works is harder to explain than for the previous two reflections.\n",
    "Let's state the rule first:\n",
    "\n",
    "**Rule:** The reflection of an arbitrary point $(x,y)$ across the line $y = x$ is the point $(y,x)$.\n",
    "\n",
    "We just swap the point's $x$- and $y$-coordinates.\n",
    "\n",
    "Try the following exercise.\n",
    "Move the points $A'$, $B'$, $C'$, and $D'$ so that they are the reflections of $A$, $B$, $C$, and $D$, respectively."
   ]
  },
  {
   "cell_type": "markdown",
   "metadata": {
    "lang": "fr"
   },
   "source": [
    "## Réflexions sur la ligne $y = x$\n",
    "\n",
    "### Points\n",
    "\n",
    "La \"règle\" de réflexion sur la ligne $y = x$ n'est pas difficile à utiliser,\n",
    "mais comprendre pourquoi la règle fonctionne est plus difficile à expliquer que pour les deux réflexions précédentes.\n",
    "Disons d'abord la règle:\n",
    "\n",
    "**Règle:** La réflexion d'un point arbitraire $(x,y)$ sur la ligne $y = x$ est le point $(y,x)$.\n",
    "\n",
    "Nous échangeons simplement les coordonnées $x$ et $y$ du point.\n",
    "\n",
    "Essayez l'exercice suivant.\n",
    "Déplacez les points $A'$, $B'$, $C'$ et $D'$ de sorte qu'ils représentent respectivement les réflexions de $A$, $B$, $C$ et $D$."
   ]
  },
  {
   "cell_type": "code",
   "execution_count": null,
   "metadata": {},
   "outputs": [],
   "source": [
    "%%html\n",
    "\n",
    "<div id=\"ggb-exercise3\"></div>\n",
    "\n",
    "<script>\n",
    "  var ggbApp = new GGBApplet({\n",
    "      \"height\": 600,\n",
    "      \"showToolBar\": false,\n",
    "      \"showMenuBar\": false,\n",
    "      \"showAlgebraInput\": false,\n",
    "      \"showResetIcon\": true,\n",
    "      \"enableLabelDrags\": true,\n",
    "      \"enableShiftDragZoom\": true,\n",
    "      \"enableRightClick\": false,\n",
    "      \"useBrowserForJS\": false,\n",
    "      \"filename\": \"geogebra/reflection-exercise3.ggb\"\n",
    "  }, 'ggb-exercise3');\n",
    "\n",
    "  ggbApp.inject();\n",
    "</script>"
   ]
  },
  {
   "cell_type": "markdown",
   "metadata": {
    "lang": "en"
   },
   "source": [
    "Here is an explanation of why this rule works.\n",
    "\n",
    "Let's start by drawing a picture of the line $y = x$, a point $P$, and its reflection $P'$.\n",
    "The points $P$ and $P'$ are on opposite sides of the line $y = x$,\n",
    "and the line connecting them intersects $y = x$ at a right angle.\n",
    "Let's call the this point of intersection $Q$.\n",
    "The points $P$ and $P'$ are the same distance from $Q$.\n",
    "This is our picture so far:\n"
   ]
  },
  {
   "cell_type": "markdown",
   "metadata": {
    "lang": "fr"
   },
   "source": [
    "Voici une explication de la raison pour laquelle cette règle fonctionne.\n",
    "\n",
    "Commençons par dessiner une image de la ligne $y = x$, un point $P$ et son reflet $P'$.\n",
    "Les points $P$ et $P'$ sont des côtés opposés de la ligne $y = x$,\n",
    "et la ligne les reliant recoupe $y = x$ à angle droit.\n",
    "Appelons le point d'intersection $Q$.\n",
    "Les points $P$ et $P'$ sont à la même distance de $Q$.\n",
    "Ceci est notre photo jusqu'à présent:"
   ]
  },
  {
   "cell_type": "markdown",
   "metadata": {},
   "source": [
    "<img src=\"images/ggb1.png\" width=300 height=300>"
   ]
  },
  {
   "cell_type": "markdown",
   "metadata": {
    "lang": "en"
   },
   "source": [
    "Draw a line segment from $P$ directly left until it intersects the line $y = x$.\n",
    "Draw another line segment from $P'$ directly down until it too intersects the line $y = x$.\n",
    "These two line segments and the line $y = x$ all meet at the same point.\n",
    "Let's call this point $R$."
   ]
  },
  {
   "cell_type": "markdown",
   "metadata": {
    "lang": "fr"
   },
   "source": [
    "Tracez un segment de droite à partir de $P$ directement jusqu'à ce qu'il croise la ligne $y = x$.\n",
    "Tracez un autre segment de ligne de $P'$ directement vers le bas jusqu'à ce qu'il coupe la ligne $y = x$.\n",
    "Ces deux segments de ligne et la ligne $y = x$ se rencontrent tous au même point.\n",
    "Appelons ce point $R$."
   ]
  },
  {
   "cell_type": "markdown",
   "metadata": {},
   "source": [
    "<img src=\"images/ggb2.png\" width=300 height=300>"
   ]
  },
  {
   "cell_type": "markdown",
   "metadata": {
    "lang": "en"
   },
   "source": [
    "Since the line segment $PR$ is horizontal and $P'R$ is vertical,\n",
    "then angle $\\angle PRP'$ is a right angle.\n",
    "The other angles $\\angle RPP'$ and $\\angle RP'P$ are each 45 degrees, so this makes the triangle $\\triangle PRP'$ an isosceles triangle.\n",
    "\n",
    "Now suppose $P$ has the coordinates $(a, b)$.\n",
    "Let's try to find the coordinates of $P'$.\n",
    "\n",
    "The triangle $\\triangle PRP'$ is an iscoceles triangle, so the lengths $\\overline{PR}$ and $\\overline{P'R}$ are equal.\n",
    "What's more, $R$ and $P$ have the same $y$-coordinate (we only moved in the $x$ direction to get to $R$)\n",
    "and $R$ and $P'$ have the same $x$-coordinate.\n",
    "We just need to determine how far $R$ is from $P$.\n",
    "To get from $P$ to $P'$, we subtract that distance from the $x$-coordinate and add it to the $y$-coordinate.\n",
    "\n",
    "Since $P = (a, b)$ is to the lower-right of $y = x$, its $x$-coordinate is larger than the $y$-coordinate, so $a > b$.\n",
    "Since $R$ is on the line $y = x$, its $x$- and $y$-coordinates are equal.\n",
    "But we know $R$ has the same $y$-coordinate as $P$, so $R = (b, b)$.\n",
    "The distance from $P$ to $R$ is just the difference between $a$ and $b$, so $\\overline{PR} = a - b$.\n",
    "\n",
    "Now\n",
    "\\begin{align*}\n",
    "    P'\n",
    "        &= (a - \\overline{PR}, b + \\overline{PR}) \\\\\n",
    "        &= (a - (a - b), b + (a - b)) \\\\\n",
    "        &= (a - a + b, b + a - b) \\\\\n",
    "        &= (b, a).\n",
    "\\end{align*}\n",
    "\n",
    "This argument depended on $P$ being to the lower-right of the line $y = x$.\n",
    "As an exercise, figure out how this argument has to change if $P$ is to the upper-left instead.\n",
    "\n",
    "Now let's reflect the graph of a function across the line $y = x$.\n",
    "As always, we sample a bunch of points on the curve, and reflect them each across the line $y = x$.\n",
    "See what happens when we sample more and more points on the graph of $y = x^2$."
   ]
  },
  {
   "cell_type": "markdown",
   "metadata": {
    "lang": "fr"
   },
   "source": [
    "Puisque le segment de ligne $PR$ est horizontal et que $P'R$ est vertical,\n",
    "alors l'angle $\\angle PRP'$ est un angle droit.\n",
    "Les autres angles $\\angle RPP'$ et $\\angle RP'P$ sont chacun à 45 degrés, ce qui fait du triangle $\\triangle PRP'$ un triangle isocèle.\n",
    "\n",
    "Maintenant, supposons que $P$ a les coordonnées $(a, b)$.\n",
    "Essayons de trouver les coordonnées de $P'$.\n",
    "\n",
    "Le triangle $\\triangle PRP'$ est un triangle iscocèle, donc les longueurs $\\overline{PR}$ et $\\overline{P'R}$ sont égales.\n",
    "De plus, $R$ et $P$ ont la même coordonnée $y$ (nous avons seulement avancé dans la direction $x$ pour arriver à $R$)\n",
    "et $R$ et $P'$ ont la même coordonnée $x$.\n",
    "Nous avons juste besoin de déterminer jusqu'où $R$ est issu de $P$.\n",
    "Pour passer de $P$ à $P'$, nous soustrayons cette distance de la coordonnée $x$ et l’ajoutons à la coordonnée $y$.\n",
    "\n",
    "Puisque $P = (a, b)$ est en bas à droite de $y = x$, sa coordonnée $x$ est plus grande que la coordonnée $y$, donc $a > b$.\n",
    "Puisque $R$ est sur la ligne $y = x$, ses coordonnées $x$- et $y$ sont égales.\n",
    "Mais nous savons que $R$ a la même coordonnée $y$ que $P$, donc $R = (b, b)$.\n",
    "La distance entre $P$ et $R$ est juste la différence entre $a$ et $b$, donc $\\overline{PR} = a - b$.\n",
    "\n",
    "À présent\n",
    "\\begin{align*}\n",
    "    P'\n",
    "        &= (a - \\overline{PR}, b + \\overline{PR}) \\\\\n",
    "        &= (a - (a - b), b + (a - b)) \\\\\n",
    "        &= (a - a + b, b + a - b) \\\\\n",
    "        &= (b, a).\n",
    "\\end{align*}\n",
    "\n",
    "Cet argument dépendait de $P$ étant en bas à droite de la ligne $y = x$.\n",
    "En guise d'exercice, déterminez comment cet argument doit changer si $P$ est placé en haut à gauche.\n",
    "\n",
    "Maintenant, réfléchissons le graphique d'une fonction sur la ligne $y = x$.\n",
    "Comme toujours, nous échantillonnons un tas de points sur la courbe et les réfléchissons sur la ligne $y = x$.\n",
    "Voir ce qui se passe quand on échantillonne de plus en plus de points sur le graphique de $y = x^2$."
   ]
  },
  {
   "cell_type": "code",
   "execution_count": null,
   "metadata": {},
   "outputs": [],
   "source": [
    "%%html\n",
    "\n",
    "<div id=\"ggb-slider3\"></div>\n",
    "\n",
    "<script>\n",
    "  var ggbApp = new GGBApplet({\n",
    "      \"height\": 600,\n",
    "      \"showToolBar\": false,\n",
    "      \"showMenuBar\": false,\n",
    "      \"showAlgebraInput\": false,\n",
    "      \"showResetIcon\": true,\n",
    "      \"enableLabelDrags\": true,\n",
    "      \"enableShiftDragZoom\": true,\n",
    "      \"enableRightClick\": false,\n",
    "      \"useBrowserForJS\": false,\n",
    "      \"filename\": \"geogebra/reflection-slider3.ggb\"\n",
    "  }, 'ggb-slider3');\n",
    "\n",
    "  ggbApp.inject();\n",
    "</script>"
   ]
  },
  {
   "cell_type": "markdown",
   "metadata": {
    "lang": "en"
   },
   "source": [
    "We started with a parabola opening upwards.\n",
    "Its reflection is a parabola opening sideways.\n",
    "This has an important implication:\n",
    "*the reflection of a function across $y = x$ might not pass the vertical line test!*\n",
    "\n",
    "Keep this in mind while we see how to reflect a function across $y = x$.\n",
    "Points on the graph of an arbitrary function $y = f(x)$ have the form $(x, f(x))$.\n",
    "Their reflections have the form $(f(x), x)$, but this is the same \"form\" as $(f(y), y)$.\n",
    "Points of that form are just the points on the graph of $x = f(y)$.\n",
    "\n",
    "**Rule:** The reflection of a function $y = f(x)$ across the line $y = x$ is the function $x = f(y)$.\n",
    "\n",
    "This rule tells us that we only need to swap the $x$'s and $y$'s in our function to get its reflection across $y = x$.\n",
    "\n",
    "**Example:** Let's reflect the function $y = x^2$ across the line $y = x$.\n",
    "According to our rule, we just swap the $x$'s and $y$'s.\n",
    "So the reflection is\n",
    "    $$ x = y^2. $$\n",
    "The problem is solved at this point, but suppose we try to solve for $y$.\n",
    "We get either\n",
    "    $$ y = \\sqrt x $$\n",
    "or\n",
    "    $$ y = -\\sqrt x. $$\n",
    "How do the graphs of $x = y^2$, $y = \\sqrt x$, and $y = -\\sqrt x$ compare to one another?\n",
    "The graph of $x = y^2$ is a sideways parabola and does not pass the vertical line test.\n",
    "The graph of $y = \\sqrt x$ is just the top half of that parabola and therefore *does* pass the vertical line test.\n",
    "The graph of $y = -\\sqrt x$ is the bottom half of the parabola and also passes the vertical line test.\n",
    "\n",
    "**Example:** Now let's reflect the straight line $y = \\frac 1 2 x + 1$ across the line $y = x$.\n",
    "Our rule says we just need to swap the $x$'s and $y$'s, so we get\n",
    "    $$ x = \\frac 1 2 y + 1. $$\n",
    "Once again, the problem is solved at this point, but let's try solving for $y$:\n",
    "    $$ y = 2 x - 2. $$\n",
    "The reflection of the line $y = \\frac 1 2 x + 1$ across the line $y = x$ is the line $y = 2 x - 2$.\n",
    "This is a case of a function whose reflection actually does pass the vertical line test\n",
    "and can be written in the form $y = f(x)$.\n",
    "\n",
    "Use the interactive graph below to plot functions and their reflections across $y = x$."
   ]
  },
  {
   "cell_type": "markdown",
   "metadata": {
    "lang": "fr"
   },
   "source": [
    "Nous avons commencé avec une parabole qui s'ouvre vers le haut.\n",
    "Sa réflexion est une parabole qui s'ouvre latéralement.\n",
    "Cela a une implication importante:\n",
    "*le reflet d’une fonction sur $y = x$ peut ne pas réussir le test de ligne verticale!*\n",
    "\n",
    "Gardez cela à l'esprit pendant que nous voyons comment refléter une fonction dans $y = x$.\n",
    "Les points sur le graphique d'une fonction arbitraire $y = f(x)$ ont la forme $(x, f(x))$.\n",
    "Leurs réflexions ont la forme $(f(x), x)$, mais c'est la même \"forme\" que $(f(y), y)$.\n",
    "Les points de cette forme ne sont que les points du graphique de $x = f(y)$.\n",
    "\n",
    "**Règle:** Le reflet d’une fonction $y = f(x)$ sur la ligne $y = x$ est la fonction $x = f(y)$.\n",
    "\n",
    "Cette règle nous dit que nous avons seulement besoin d'échanger les $x$ et $y$ dans notre fonction pour obtenir sa réflexion sur $y = x$.\n",
    "\n",
    "**Exemple:** Reprenons la fonction $y = x^2$ sur la ligne $y = x$.\n",
    "Selon notre règle, nous échangeons simplement les $x$ et les $y$.\n",
    "Donc la réflexion est\n",
    "    $$ x = y^2. $$\n",
    "Le problème est résolu à ce stade, mais supposons que nous essayions de résoudre $y$.\n",
    "Nous obtenons soit\n",
    "    $$ y = \\sqrt x $$\n",
    "ou\n",
    "    $$ y = -\\sqrt x. $$\n",
    "Comment les graphiques de $x = y^2$, $y = \\sqrt x$ et $y = -\\sqrt x$ se comparent-ils?\n",
    "Le graphique de $x = y^2$ est une parabole latérale et ne réussit pas le test de la ligne verticale.\n",
    "Le graphique de $y = \\sqrt x$ est juste la moitié supérieure de cette parabole et donc <*> réussit le test de ligne verticale.\n",
    "Le graphique de $y = -\\sqrt x$ est la moitié inférieure de la parabole et passe également le test de la ligne verticale.**Exemple:** Maintenant, réfléchissons la ligne droite $y = \\frac 1 2 x + 1$ sur la ligne $y = x$.\n",
    "Notre règle dit que nous devons simplement échanger les $x$ et les $y$, nous obtenons donc\n",
    "    $$ x = \\frac 1 2 y + 1. $$\n",
    "Encore une fois, le problème est résolu à ce stade, mais essayons de résoudre $y$:\n",
    "    $$ y = 2 x - 2. $$\n",
    "Le reflet de la ligne $y = \\frac 1 2 x + 1$ sur la ligne $y = x$ est la ligne $y = 2 x - 2$.\n",
    "C'est le cas d'une fonction dont la réflexion passe effectivement le test de la ligne verticale\n",
    "et peut être écrit sous la forme $y = f(x)$.\n",
    "\n",
    "Utilisez le graphique interactif ci-dessous pour tracer les fonctions et leurs réflexions sur $y = x$."
   ]
  },
  {
   "cell_type": "code",
   "execution_count": null,
   "metadata": {},
   "outputs": [],
   "source": [
    "%%html\n",
    "\n",
    "<div id=\"ggb-interactive3\"></div>\n",
    "\n",
    "<script>\n",
    "  var ggbApp = new GGBApplet({\n",
    "      \"height\": 600,\n",
    "      \"showToolBar\": false,\n",
    "      \"showMenuBar\": false,\n",
    "      \"showAlgebraInput\": false,\n",
    "      \"showResetIcon\": true,\n",
    "      \"enableLabelDrags\": true,\n",
    "      \"enableShiftDragZoom\": true,\n",
    "      \"enableRightClick\": false,\n",
    "      \"useBrowserForJS\": false,\n",
    "      \"filename\": \"geogebra/reflection-interactive3.ggb\"\n",
    "  }, 'ggb-interactive3');\n",
    "\n",
    "  ggbApp.inject();\n",
    "</script>"
   ]
  },
  {
   "cell_type": "markdown",
   "metadata": {
    "lang": "en"
   },
   "source": [
    "## Reflections combined with function operations\n",
    "\n",
    "We might be asked to reflect a function after performing some function operations.\n",
    "For example, we might be asked to add two functions and the reflect them across the $x$-axis,\n",
    "or reflect the composition of two functions across the $y$-axis.\n",
    "Well, the sum of two functions, for instance, is a function and we know how to reflect functions now,\n",
    "so we ought to be able to do this.\n",
    "\n",
    "**Problem:**\n",
    "Reflect $f(x) + g(x)$ across the $x$-axis, where\n",
    "    $$ f(x) = x^2 + 1 \\text{ and } g(x) = x^3 + 1. $$\n",
    "\n",
    "**Solution:**\n",
    "To do this, let's add $f(x)$ and $g(x)$ and call their sum $h(x)$. So\n",
    "\\begin{align*}\n",
    "    h(x)\n",
    "        &= f(x) + g(x) \\\\\n",
    "        &= (x^2 + 1) + (x^3 + 1) \\\\\n",
    "        &= x^3 + x^2 + 2.\n",
    "\\end{align*}\n",
    "Now we just need to reflect $h(x)$ across the $x$-axis.\n",
    "Its reflection is $y = -h(x)$, so\n",
    "\\begin{align*}\n",
    "    y\n",
    "        &= -h(x) \\\\\n",
    "        &= -(x^3 + x^2 + 2) \\\\\n",
    "        &= -x^3 - x^2 - 2.\n",
    "\\end{align*}\n",
    "\n",
    "**Problem:**\n",
    "Reflect $f(g(x))$ across the $y$-axis, where\n",
    "    $$ f(x) = \\sin(x) \\text{ and } g(x) = x^2. $$\n",
    "\n",
    "**Solution:**\n",
    "Like before, let's compose $f(x)$ and $g(x)$ and call their composite $h(x)$. So\n",
    "\\begin{align*}\n",
    "    h(x)\n",
    "        &= f(g(x)) \\\\\n",
    "        &= f(x^2) \\\\\n",
    "        &= \\sin(x^2).\n",
    "\\end{align*}\n",
    "Now we reflect $h(x)$ across the $y$-axis.\n",
    "The reflection of $h(x)$ is $y = h(-x)$, so\n",
    "\\begin{align*}\n",
    "    y\n",
    "        &= h(-x) \\\\\n",
    "        &= \\sin((-x)^2) \\\\\n",
    "        &= \\sin(x^2).\n",
    "\\end{align*}"
   ]
  },
  {
   "cell_type": "markdown",
   "metadata": {
    "lang": "fr"
   },
   "source": [
    "## Réflexions combinées avec des opérations de fonction\n",
    "\n",
    "On pourrait nous demander de refléter une fonction après avoir effectué certaines opérations de fonction.\n",
    "Par exemple, on pourrait nous demander d’ajouter deux fonctions et de les refléter sur l’axe $x$,\n",
    "ou refléter la composition de deux fonctions sur l’axe $y$.\n",
    "Eh bien, la somme de deux fonctions, par exemple, est une fonction et nous savons comment refléter les fonctions maintenant,\n",
    "Nous devrions donc pouvoir le faire.\n",
    "\n",
    "**Problème:**\n",
    "Reflète $f(x) + g(x)$ sur l'axe $x$, où\n",
    "    $$ f(x) = x^2 + 1 \\text{ and } g(x) = x^3 + 1. $$\n",
    "\n",
    "**Solution:**\n",
    "Pour ce faire, ajoutons $f(x)$ et $g(x)$ et appelons leur somme $h(x)$. Alors\n",
    "\\begin{align*}\n",
    "    h(x)\n",
    "        &= f(x) + g(x) \\\\\n",
    "        &= (x^2 + 1) + (x^3 + 1) \\\\\n",
    "        &= x^3 + x^2 + 2.\n",
    "\\end{align*}\n",
    "Il ne nous reste plus qu'à refléter $h(x)$ sur l'axe $x$.\n",
    "Sa réflexion est $y = -h(x)$, donc\n",
    "\\begin{align*}\n",
    "    y\n",
    "        &= -h(x) \\\\\n",
    "        &= -(x^3 + x^2 + 2) \\\\\n",
    "        &= -x^3 - x^2 - 2.\n",
    "\\end{align*}\n",
    "\n",
    "**Problème:**\n",
    "Reflète $f(g(x))$ sur l'axe $y$, où\n",
    "    $$ f(x) = \\sin(x) \\text{ and } g(x) = x^2. $$\n",
    "\n",
    "**Solution:**\n",
    "Comme avant, composons $f(x)$ et $g(x)$ et appelons leur $h(x)$ composite. Alors\n",
    "\\begin{align*}\n",
    "    h(x)\n",
    "        &= f(g(x)) \\\\\n",
    "        &= f(x^2) \\\\\n",
    "        &= \\sin(x^2).\n",
    "\\end{align*}\n",
    "Maintenant, nous reflétons $h(x)$ sur l'axe $y$.\n",
    "Le reflet de $h(x)$ est $y = h(-x)$, donc\n",
    "\\begin{align*}\n",
    "    y\n",
    "        &= h(-x) \\\\\n",
    "        &= \\sin((-x)^2) \\\\\n",
    "        &= \\sin(x^2).\n",
    "\\end{align*}"
   ]
  },
  {
   "cell_type": "markdown",
   "metadata": {
    "lang": "en"
   },
   "source": [
    "## Reflections combined with translations\n",
    "\n",
    "We can apply the same idea above to reflect translations of graphs.\n",
    "\n",
    "**Problem:**\n",
    "Translate the function $y = f(x)$ left by three units, then reflect across the $y$-axis,\n",
    "where $y = |2x|$.\n",
    "\n",
    "**Solution:**\n",
    "Let's label by $g(x)$ the translation of $f(x)$ left by three units.\n",
    "Then we just have to reflect $g(x)$ across the $y$-axis.\n",
    "So\n",
    "\\begin{align*}\n",
    "    g(x)\n",
    "        &= f(x+3) \\\\\n",
    "        &= |2(x+3)| \\\\\n",
    "        &= |2x + 6|.\n",
    "\\end{align*}\n",
    "Its reflection across the $y$-axis is\n",
    "\\begin{align*}\n",
    "    y\n",
    "        &= g(-x) \\\\\n",
    "        &= |2(-x) + 6| \\\\\n",
    "        &= |-2x + 6|.\n",
    "\\end{align*}"
   ]
  },
  {
   "cell_type": "markdown",
   "metadata": {
    "lang": "fr"
   },
   "source": [
    "## Réflexions combinées avec des traductions\n",
    "\n",
    "Nous pouvons appliquer la même idée ci-dessus pour refléter des traductions de graphiques.\n",
    "\n",
    "**Problème:**\n",
    "Traduire la fonction $y = f(x)$ laissée par trois unités, puis réfléchir sur l'axe $y$,\n",
    "où $y = |2x|$.\n",
    "\n",
    "**Solution:**\n",
    "Étiquetons par $g(x)$ la traduction de $f(x)$ laissée par trois unités.\n",
    "Ensuite, il suffit de refléter $g(x)$ sur l'axe $y$.\n",
    "Alors\n",
    "\\begin{align*}\n",
    "    g(x)\n",
    "        &= f(x+3) \\\\\n",
    "        &= |2(x+3)| \\\\\n",
    "        &= |2x + 6|.\n",
    "\\end{align*}\n",
    "Sa réflexion sur l'axe $y$ est\n",
    "\\begin{align*}\n",
    "    y\n",
    "        &= g(-x) \\\\\n",
    "        &= |2(-x) + 6| \\\\\n",
    "        &= |-2x + 6|.\n",
    "\\end{align*}"
   ]
  },
  {
   "cell_type": "markdown",
   "metadata": {
    "lang": "en"
   },
   "source": [
    "## Conclusion\n",
    "\n",
    "In this notebook, we saw how to reflect over the $x$-axis, the $y$-axis, the line $y = x$, and combining reflection.\n",
    "We've also made a distinction between reflecting a point, reflecting the graph of a function, and reflecting the function itself.\n",
    "Reflections of points and graphs are geometric ideas, manipulating plots;\n",
    "reflections of functions is about manipulating equations,\n",
    "although\n",
    "\n",
    "The studies of statistics and of the sciences depend heavily on the skills learned in later math courses, especially Calculus courses.\n",
    "A lot of time is spent in Calculus courses analyzing functions and to do this, it is usually helpful to have a clear image in one's mind of the function being analyzed.\n",
    "Understanding reflections of graphs and functions is one step towards forming such a clear image.\n",
    "For instance, you might already know what the graph of $y = 10^x$ looks like,\n",
    "but using the techniques covered in this notebook,\n",
    "you can also tell what $y = -10^x$, $y = 10^{-x}$, $y = -10^{-x}$, and $x = 10^y$ look like.\n",
    "\n",
    "Recognizing when a function is \"even\" or \"odd\" also has its uses.\n",
    "A typical question in a Calculus class is to find the area underneath a curve and above the $x$-axis.\n",
    "If the curve is given by an even function, then the area to the right of the $y$-axis is the same as the area to the left.\n",
    "That means we can get away with only calculating half the area and then doubling the result.\n",
    "Doubling a number is easier than most things in math, so this can be a time saver."
   ]
  },
  {
   "cell_type": "markdown",
   "metadata": {
    "lang": "fr"
   },
   "source": [
    "## Conclusion\n",
    "\n",
    "Dans ce cahier, nous avons vu comment réfléchir sur l'axe $x$, l'axe $y$, la ligne $y = x$ et combiner la réflexion.\n",
    "Nous avons également fait la distinction entre refléter un point, refléter le graphique d'une fonction et refléter la fonction elle-même.\n",
    "Les réflexions de points et de graphiques sont des idées géométriques, manipulant des parcelles;\n",
    "les réflexions sur les fonctions concernent la manipulation des équations,\n",
    "bien que\n",
    "\n",
    "Les études des statistiques et des sciences dépendent fortement des compétences acquises dans les cours de mathématiques ultérieurs, en particulier les cours de calcul.\n",
    "Il passe beaucoup de temps à analyser les fonctions des cours de calcul et, pour ce faire, il est généralement utile de se faire une idée claire de la fonction analysée.\n",
    "Comprendre les réflexions des graphiques et des fonctions est une étape vers la formation d'une image aussi claire.\n",
    "Par exemple, vous pouvez déjà savoir à quoi ressemble le graphique de $y = 10^x$,\n",
    "mais en utilisant les techniques couvertes dans ce cahier,\n",
    "vous pouvez également dire à quoi ressemblent $y = -10^x$, $y = 10^{-x}$, $y = -10^{-x}$ et $x = 10^y$.\n",
    "\n",
    "Reconnaître quand une fonction est \"pair\" ou \"impair\" a également ses utilisations.\n",
    "Une question typique dans une classe de calcul est de trouver la zone sous une courbe et au-dessus de l'axe $x$.\n",
    "Si la courbe est donnée par une fonction paire, la zone située à droite de l'axe $y$ est la même que celle située à gauche.\n",
    "Cela signifie que nous pouvons nous contenter de ne calculer que la moitié de la surface et de doubler ensuite le résultat.\n",
    "Doubler un nombre est plus facile que la plupart des choses en maths, donc cela peut être un gain de temps."
   ]
  },
  {
   "cell_type": "markdown",
   "metadata": {
    "lang": "en"
   },
   "source": [
    "## Exercises\n",
    "\n",
    "* Plot the point $(1, 2)$ as well as its reflections across the $x$-axis, the $y$-axis, both axes, and the line $y = x$.\n",
    "* Graph the function $y = x^2 - 2x$. Plot its reflection across the $x$-axis and the $y$-axis. What are the equations of these reflections?\n",
    "* Graph the function $y = e^x$. Plot its reflection across the line $y = x$. Does the reflected function pass the vertical line test? What is the equation of its reflection (in the form $x = f(y)$ and in the form $y = f(x)$)?"
   ]
  },
  {
   "cell_type": "markdown",
   "metadata": {
    "lang": "fr"
   },
   "source": [
    "## Des exercices\n",
    "\n",
    "*Tracez le point $(1, 2)$ ainsi que ses réflexions sur l'axe $x$, l'axe $y$, les deux axes et la ligne $y = x$.* Graphique de la fonction $y = x^2 - 2x$. Tracez son reflet sur l'axe $x$ et l'axe $y$. Quelles sont les équations de ces réflexions?\n",
    "* Graph la fonction $y = e^x$. Tracez son reflet sur la ligne $y = x$. La fonction reflétée réussit-elle le test de ligne verticale? Quelle est l'équation de sa réflexion (sous la forme $x = f(y)$ et sous la forme $y = f(x)$)?"
   ]
  },
  {
   "cell_type": "markdown",
   "metadata": {},
   "source": [
    "![alt text](https://github.com/callysto/callysto-sample-notebooks/blob/master/notebooks/images/Callysto_Notebook-Banners_Bottom_06.06.18.jpg?raw=true)"
   ]
  }
 ],
 "metadata": {
  "kernelspec": {
   "display_name": "Python 3",
   "language": "python",
   "name": "python3"
  },
  "language_info": {
   "codemirror_mode": {
    "name": "ipython",
    "version": 3
   },
   "file_extension": ".py",
   "mimetype": "text/x-python",
   "name": "python",
   "nbconvert_exporter": "python",
   "pygments_lexer": "ipython3",
   "version": "3.6.3"
  },
  "nbTranslate": {
   "displayLangs": [
    "*"
   ],
   "hotkey": "alt-t",
   "langInMainMenu": true,
   "sourceLang": "en",
   "targetLang": "fr",
   "useGoogleTranslate": true
  }
 },
 "nbformat": 4,
 "nbformat_minor": 2
}
