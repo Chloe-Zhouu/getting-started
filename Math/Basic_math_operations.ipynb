{
 "cells": [
  {
   "cell_type": "markdown",
   "metadata": {},
   "source": [
    "From the [International Math modelling challenge](https://immchallenge.org/Contests/index.html), looking at the [winning paper](https://immchallenge.org/Contests/2017/2017057.pdf) for 2017 [Jet lag problem](https://immchallenge.org/Contests/2017/Problem.html), this is productivity metric that was used:\n"
   ]
  },
  {
   "cell_type": "markdown",
   "metadata": {},
   "source": [
    "![](images/question.png)"
   ]
  },
  {
   "cell_type": "markdown",
   "metadata": {},
   "source": [
    "As part of this notebook we will demonstrate some basic  math calculations in Python, calculating the  first part of this metric :\n",
    "\n",
    "$$ J  = \\sqrt{\\frac{1}{|M|}\\sum_{m=1}^{M}P_{m}^2 }$$\n",
    "\n",
    "$$ P_{m} = min\\big\\{ 10,10+6cos \\big( \\frac{\\pi\\Delta J_{m}}{12}-\\frac{\\pi}{24}  \\big) \\big\\} $$\n",
    "We will  use random input data just for demonstration purposes.  \n",
    "\n",
    "We will write formulas in Jupyter notebook markdown cells using LateX   \n",
    "(Basic LateX tutorial is located  at **getting-started/tutorials/JupyterTestdrive-LateX.ipynb**,\n",
    " Latex cheat sheet is [here](http://tug.ctan.org/info/symbols/comprehensive/symbols-a4.pdf))"
   ]
  },
  {
   "cell_type": "markdown",
   "metadata": {},
   "source": [
    "### Import the numpy library\n",
    "[NumPy](http://www.numpy.org) is the fundamental package for scientific computing with Python.  \n",
    "[quick-start tutorial](https://docs.scipy.org/doc/numpy-1.15.1/user/quickstart.html)"
   ]
  },
  {
   "cell_type": "code",
   "execution_count": 86,
   "metadata": {},
   "outputs": [],
   "source": [
    "import numpy as np"
   ]
  },
  {
   "cell_type": "markdown",
   "metadata": {},
   "source": [
    "First we calculate $P_{m}$ from this formula:\n",
    "$$ P_{m} = min\\big\\{ 10,10+6cos \\big( \\frac{\\pi\\Delta J_{m}}{12}-\\frac{\\pi}{24}  \\big) \\big\\} $$"
   ]
  },
  {
   "cell_type": "markdown",
   "metadata": {},
   "source": [
    "We need to define number of members M. Lets set it to 4."
   ]
  },
  {
   "cell_type": "code",
   "execution_count": 64,
   "metadata": {},
   "outputs": [],
   "source": [
    "M=4"
   ]
  },
  {
   "cell_type": "markdown",
   "metadata": {},
   "source": [
    "Let's define  $\\Delta J_{m}$   \n",
    "It should be  the shift in time zones for a given memeber m.   \n",
    "So for every member we will define origin time : **time1** and destination time: **time2**, subract them and calculate the delta."
   ]
  },
  {
   "cell_type": "markdown",
   "metadata": {},
   "source": [
    "### Vectors and matricies\n",
    "We will use vector of size 4(number of memebers) to define times.   \n",
    "To create vectors we will use [np.array()](https://docs.scipy.org/doc/numpy/reference/generated/numpy.array.html)\n",
    "It can be used to create 1-and multi-dimensional arrays."
   ]
  },
  {
   "cell_type": "code",
   "execution_count": 69,
   "metadata": {},
   "outputs": [
    {
     "name": "stdout",
     "output_type": "stream",
     "text": [
      "<class 'numpy.ndarray'> [1 2 3 4]\n",
      "<class 'numpy.ndarray'> [1 1 1 0]\n"
     ]
    }
   ],
   "source": [
    "#just randomly assigning times\n",
    "time1 = np.array([1,2,3,4])\n",
    "time2 = np.array([1,1,1,0])\n",
    "print(type(time1), time1)\n",
    "print(type(time2), time2)"
   ]
  },
  {
   "cell_type": "markdown",
   "metadata": {},
   "source": [
    "To  subtract one vector from another we can just minus sign.  \n",
    "[Other numerical operations on arrays](http://scipy-lectures.org/intro/numpy/operations.html)"
   ]
  },
  {
   "cell_type": "code",
   "execution_count": 70,
   "metadata": {},
   "outputs": [
    {
     "name": "stdout",
     "output_type": "stream",
     "text": [
      "[0 1 2 4]\n"
     ]
    }
   ],
   "source": [
    "delta=time1-time2\n",
    "print(delta)"
   ]
  },
  {
   "cell_type": "markdown",
   "metadata": {},
   "source": [
    "Working with 2 dimentions,it's handy to use [np.matrix()](https://docs.scipy.org/doc/numpy-1.15.1/reference/generated/numpy.matrix.html). More examples of ndarrays and matricies [here] (https://www.python-course.eu/matrix_arithmetic.php)"
   ]
  },
  {
   "cell_type": "markdown",
   "metadata": {},
   "source": [
    "### Pi and other constants\n",
    "Going back to the formula: $$ P_{m} = min\\big\\{ 10,10+6cos \\big( \\frac{\\pi\\Delta J_{m}}{12}-\\frac{\\pi}{24}  \\big) \\big\\} $$,  to calculate $P_{m}$ we need to $\\pi$, cos  and min."
   ]
  },
  {
   "cell_type": "markdown",
   "metadata": {},
   "source": [
    "**$\\pi$** is defined as constant **np.pi**   \n",
    "[Full list of NumPy constants](https://docs.scipy.org/doc/numpy/reference/constants.html)"
   ]
  },
  {
   "cell_type": "code",
   "execution_count": 71,
   "metadata": {},
   "outputs": [
    {
     "name": "stdout",
     "output_type": "stream",
     "text": [
      "3.141592653589793\n"
     ]
    }
   ],
   "source": [
    "print(np.pi)"
   ]
  },
  {
   "cell_type": "markdown",
   "metadata": {},
   "source": [
    "### Math functions\n",
    "[Full list of math functions](https://docs.scipy.org/doc/numpy-1.13.0/reference/routines.math.html)\n",
    "#### Cosine"
   ]
  },
  {
   "cell_type": "markdown",
   "metadata": {},
   "source": [
    "To calculate cosine we will use [**np.cos()**](https://docs.scipy.org/doc/numpy/reference/generated/numpy.cos.html)  "
   ]
  },
  {
   "cell_type": "markdown",
   "metadata": {},
   "source": [
    "#### Minimum.\n",
    "We will use **[np.minimum()](https://docs.scipy.org/doc/numpy/reference/generated/numpy.minimum.html)** to calcutae minimum."
   ]
  },
  {
   "cell_type": "markdown",
   "metadata": {},
   "source": [
    "Going back to the formula: $$ P_{m} = min\\big\\{ 10,10+6cos \\big( \\frac{\\pi\\Delta J_{m}}{12}-\\frac{\\pi}{24}  \\big) \\big\\} $$, we will calculate $$ fisrt= 6cos \\big( \\frac{\\pi\\Delta J_{m}}{12}-\\frac{\\pi}{24}  \\big) \\big\\} $$ first\n",
    "and then: $$ P_{m} = min\\big\\{ 10,10+first \\big\\} $$"
   ]
  },
  {
   "cell_type": "code",
   "execution_count": 72,
   "metadata": {},
   "outputs": [
    {
     "name": "stdout",
     "output_type": "stream",
     "text": [
      "[5.94866917 5.94866917 5.5432772  3.65256857]\n"
     ]
    }
   ],
   "source": [
    "first=6*np.cos(np.pi*delta/12-np.pi/24)\n",
    "print(first)"
   ]
  },
  {
   "cell_type": "code",
   "execution_count": 73,
   "metadata": {},
   "outputs": [
    {
     "name": "stdout",
     "output_type": "stream",
     "text": [
      "[10. 10. 10. 10.]\n"
     ]
    }
   ],
   "source": [
    "p=np.minimum(10,10+first)\n",
    "print(p)"
   ]
  },
  {
   "cell_type": "markdown",
   "metadata": {},
   "source": [
    "Next we are going to calculate the second part: $$ J  = \\sqrt{\\frac{1}{|M|}\\sum_{m=1}^{M}P_{m}^2 }$$\n",
    "To do it we need to way how to calculate power, summary and square root."
   ]
  },
  {
   "cell_type": "markdown",
   "metadata": {},
   "source": [
    "#### Power\n",
    "To calculate power of two for the vecrtor - we can use [np.power()](https://docs.scipy.org/doc/numpy-1.15.1/reference/generated/numpy.power.html)"
   ]
  },
  {
   "cell_type": "code",
   "execution_count": 74,
   "metadata": {},
   "outputs": [
    {
     "name": "stdout",
     "output_type": "stream",
     "text": [
      "[100. 100. 100. 100.]\n"
     ]
    }
   ],
   "source": [
    "p_power2=np.power(p, 2)\n",
    "print(p_power2)"
   ]
  },
  {
   "cell_type": "markdown",
   "metadata": {},
   "source": [
    "#### Summary\n",
    "To calculate summary of all the elements in vector, we are going to be using [np.sum()](https://docs.scipy.org/doc/numpy-1.15.1/reference/generated/numpy.sum.html) "
   ]
  },
  {
   "cell_type": "code",
   "execution_count": 75,
   "metadata": {},
   "outputs": [
    {
     "name": "stdout",
     "output_type": "stream",
     "text": [
      "400.0\n"
     ]
    }
   ],
   "source": [
    "J=np.sum(p_power2)\n",
    "print(J)"
   ]
  },
  {
   "cell_type": "markdown",
   "metadata": {},
   "source": [
    "#### Square root\n",
    "[np.sqrt()](https://docs.scipy.org/doc/numpy-1.9.2/reference/generated/numpy.sqrt.html) is used to calculate square root."
   ]
  },
  {
   "cell_type": "code",
   "execution_count": 76,
   "metadata": {},
   "outputs": [
    {
     "data": {
      "text/plain": [
       "10.0"
      ]
     },
     "execution_count": 76,
     "metadata": {},
     "output_type": "execute_result"
    }
   ],
   "source": [
    "J=J*(1/M)\n",
    "J=np.sqrt(J)\n",
    "print(J)"
   ]
  },
  {
   "cell_type": "markdown",
   "metadata": {},
   "source": [
    "### Recap:\n",
    "We calculated this metric in Python assigning random initial values:\n",
    "$$ J  = \\sqrt{\\frac{1}{|M|}\\sum_{m=1}^{M}P_{m}^2 }$$\n",
    "\n",
    "$$ P_{m} = min\\big\\{ 10,10+6cos \\big( \\frac{\\pi\\Delta J_{m}}{12}-\\frac{\\pi}{24}  \\big) \\big\\} $$"
   ]
  },
  {
   "cell_type": "code",
   "execution_count": 81,
   "metadata": {},
   "outputs": [
    {
     "name": "stdout",
     "output_type": "stream",
     "text": [
      "10.0\n"
     ]
    }
   ],
   "source": [
    "import numpy as np\n",
    "M=4\n",
    "time1 = np.array([1,2,3,4])\n",
    "time2 = np.array([1,1,1,0])\n",
    "delta=time1-time2\n",
    "first=6*np.cos(np.pi*delta/12-np.pi/24)\n",
    "p=np.minimum(10,10+first)\n",
    "p_power2=np.power(p, 2)\n",
    "J=np.sum(p_power2)\n",
    "J=np.sqrt(J*(1/M))\n",
    "print(J)"
   ]
  },
  {
   "cell_type": "markdown",
   "metadata": {},
   "source": [
    "### Exercise"
   ]
  },
  {
   "cell_type": "markdown",
   "metadata": {},
   "source": [
    "Try calculating the second part of the metric  - distance component D\n",
    "$$ D  = \\frac{C_{0}\\sqrt{|M|}}{\\sqrt{\\sum_{l=1}^{M}d_{l}^2 }}$$"
   ]
  },
  {
   "cell_type": "markdown",
   "metadata": {},
   "source": [
    "$C_{0}$ is the circumference of the Earth."
   ]
  },
  {
   "cell_type": "code",
   "execution_count": 83,
   "metadata": {},
   "outputs": [],
   "source": [
    "C0=40.075"
   ]
  },
  {
   "cell_type": "markdown",
   "metadata": {},
   "source": [
    "$d_{l}$ are the distances traveled by individual members. Initialize it randomly:"
   ]
  },
  {
   "cell_type": "code",
   "execution_count": null,
   "metadata": {},
   "outputs": [],
   "source": [
    "### your code here "
   ]
  },
  {
   "cell_type": "markdown",
   "metadata": {},
   "source": [
    "### Solution"
   ]
  },
  {
   "cell_type": "code",
   "execution_count": 85,
   "metadata": {},
   "outputs": [
    {
     "name": "stdout",
     "output_type": "stream",
     "text": [
      "6.076155819284911\n"
     ]
    }
   ],
   "source": [
    "d=np.array([5,6,7,8])\n",
    "numerator=C0*np.sqrt(M)\n",
    "denominator=np.sqrt(np.sum(np.power(d,2)))\n",
    "D=numerator/denominator\n",
    "print(D)"
   ]
  }
 ],
 "metadata": {
  "kernelspec": {
   "display_name": "Python 3",
   "language": "python",
   "name": "python3"
  },
  "language_info": {
   "codemirror_mode": {
    "name": "ipython",
    "version": 3
   },
   "file_extension": ".py",
   "mimetype": "text/x-python",
   "name": "python",
   "nbconvert_exporter": "python",
   "pygments_lexer": "ipython3",
   "version": "3.6.5"
  },
  "nbTranslate": {
   "displayLangs": [
    "*"
   ],
   "hotkey": "alt-t",
   "langInMainMenu": true,
   "sourceLang": "en",
   "targetLang": "fr",
   "useGoogleTranslate": true
  }
 },
 "nbformat": 4,
 "nbformat_minor": 2
}
