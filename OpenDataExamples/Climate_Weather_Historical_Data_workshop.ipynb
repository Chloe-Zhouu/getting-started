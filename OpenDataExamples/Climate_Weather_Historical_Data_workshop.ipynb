{
 "cells": [
  {
   "cell_type": "markdown",
   "metadata": {},
   "source": [
    "![alt text](https://github.com/callysto/callysto-sample-notebooks/blob/master/notebooks/images/Callysto_Notebook-Banner_Top_06.06.18.jpg?raw=true)  \n"
   ]
  },
  {
   "cell_type": "markdown",
   "metadata": {},
   "source": [
    "<h1 align='center'>Environment Canada Weather Data Notebook Demo</h1>\n",
    "\n",
    "<h4 align='center'>Adapted from Laura Gutierrez Funderburk $\\mid$ Data Exploration $\\mid$ Canada Historical Climate Data</h4>"
   ]
  },
  {
   "cell_type": "markdown",
   "metadata": {},
   "source": [
    "<h3 align='center'>Download data by province and get station numbers</h3>\n",
    "\n",
    "In this first part of the notebook, we will download data from http://climate.weather.gc.ca/historical_data/search_historic_data_e.html. \n",
    "The set of functions is predefined in **notebook_code** directory **weather.py** file.\n",
    "\n",
    "First we will call **download_raw_data()** function, giving it province name and start year, it will download raw html.\n",
    "\n",
    "Second we call **generate_pandas_dataframe_from_html()** function, giving it raw html (result from previous function), it will convert it to dataframe extracting Station Numbers and frequency with which the data was collected. "
   ]
  },
  {
   "cell_type": "markdown",
   "metadata": {},
   "source": [
    "Let us take the province Ontario, start year 2011 and download stations metadata."
   ]
  },
  {
   "cell_type": "code",
   "execution_count": null,
   "metadata": {},
   "outputs": [],
   "source": [
    "## Install missing python libraries\n",
    "!pip install fuzzywuzzy --user\n",
    "!pip install python-Levenshtein --user\n",
    "!pip install tqdm --user"
   ]
  },
  {
   "cell_type": "code",
   "execution_count": null,
   "metadata": {},
   "outputs": [],
   "source": [
    "# Import helper functions\n",
    "from notebook_code.weather import *\n",
    "import warnings\n",
    "warnings.simplefilter(\"ignore\")"
   ]
  },
  {
   "cell_type": "code",
   "execution_count": null,
   "metadata": {},
   "outputs": [],
   "source": [
    "# Specify Parameters\n",
    "province = \"ON\"      # Which province to parse?\n",
    "start_year = \"2011\"  # Looking for stations with data available between 2011 and 2019. "
   ]
  },
  {
   "cell_type": "markdown",
   "metadata": {},
   "source": [
    "We download raw html pages\n"
   ]
  },
  {
   "cell_type": "code",
   "execution_count": null,
   "metadata": {},
   "outputs": [],
   "source": [
    "# Use download_raw_data() function to download raw html\n",
    "html_frames = download_raw_data(province,start_year)"
   ]
  },
  {
   "cell_type": "markdown",
   "metadata": {},
   "source": [
    "We convert the html pages into DataFrames. A **DataFrame** is a commonly encountered way to work with data. It can be thought of as a 2D data structure that makes it easy to work with the data at hand."
   ]
  },
  {
   "cell_type": "code",
   "execution_count": null,
   "metadata": {},
   "outputs": [],
   "source": [
    "# Use generate_pandas_dataframe_from_html to convert html into dataframe\n",
    "stations_df = generate_pandas_dataframe_from_html(html_frames)"
   ]
  },
  {
   "cell_type": "markdown",
   "metadata": {},
   "source": [
    "We preview the first five entries. In the table below you can see five columns: the StationsID will be the key part to accessing full data sets. The Name contains city names found under ON, the Intervals column states the frequency with which the data was updated, while Year Start and Year end state the years between which the data was collected.\n",
    "This result should be equivalent to this [web-page](http://climate.weather.gc.ca/historical_data/search_historic_data_stations_e.html?searchType=stnProv&timeframe=1&lstProvince=ON&optLimit=yearRange&StartYear=2011&EndYear=2019&Year=2019&Month=2&Day=14&selRowPerPage=100)"
   ]
  },
  {
   "cell_type": "code",
   "execution_count": null,
   "metadata": {},
   "outputs": [],
   "source": [
    "# Preview first 5 rows, you can add number in parentheses and view more row: for example head(10)\n",
    "stations_df.head()"
   ]
  },
  {
   "cell_type": "markdown",
   "metadata": {},
   "source": [
    "Let's now pick only those entries that belong to Ottawa. Note that the function will pick up every station containing word \"Ottawa\""
   ]
  },
  {
   "cell_type": "code",
   "execution_count": null,
   "metadata": {},
   "outputs": [],
   "source": [
    "# Select subset of the data from a specific location and preview the result\n",
    "Ottawa_data = get_weather_data_by_loc(stations_df,location_name=\"Ottawa\")\n",
    "Ottawa_data"
   ]
  },
  {
   "cell_type": "markdown",
   "metadata": {},
   "source": [
    "### Exercise: \n",
    "Try extracting rows for other city, replace ?? with the city name (we have only data from Ontario):"
   ]
  },
  {
   "cell_type": "code",
   "execution_count": null,
   "metadata": {},
   "outputs": [],
   "source": [
    "#Note that if the result is empty - it means no data is found\n",
    "other_city_data = get_weather_data_by_loc(stations_df,location_name=\"??\")\n",
    "other_city_data"
   ]
  },
  {
   "cell_type": "markdown",
   "metadata": {},
   "source": [
    "<h3 align='center'>Download temperature data by Station</h3>\n",
    "\n",
    "In the second  part of the notebook, we will download hourly temperatures data using StationID we got in the first part. \n",
    "  \n",
    "For Ottawa there are 4 stations collecting data, we will choose station **OTTAWA INTL A** \n",
    "  \n",
    "First we will call **download_data_date_range()** giving it StationID and dates range in  format \"mmmYYYY\". We will collect and compare data for 3 winters  - 2016, 2017 and 2018. \n",
    "  \n",
    "Then we will use **matplotlib** to plot the results. "
   ]
  },
  {
   "cell_type": "code",
   "execution_count": null,
   "metadata": {
    "scrolled": false
   },
   "outputs": [],
   "source": [
    "## Use download_data_date_range() function to collect hourly temperaure from Dec2015 to Feb2016\n",
    "winter_2016 = download_data_date_range(49568,\"Dec2015\",\"Feb2016\")\n",
    "winter_2017 = download_data_date_range(49568,\"Dec2016\",\"Feb2017\")\n",
    "winter_2018 = download_data_date_range(49568,\"Dec2017\",\"Feb2018\")"
   ]
  },
  {
   "cell_type": "code",
   "execution_count": null,
   "metadata": {},
   "outputs": [],
   "source": [
    "## Preview first 5 rows for winder2016: we are interested only in  Date/Time and Temp (°C) columns\n",
    "winter_2016.head()"
   ]
  },
  {
   "cell_type": "markdown",
   "metadata": {},
   "source": [
    "### Exercise\n",
    "Try downloading data for summer 2015  for Ottawa:"
   ]
  },
  {
   "cell_type": "code",
   "execution_count": null,
   "metadata": {},
   "outputs": [],
   "source": [
    "#replace ?? with  months  names - starting month and end month\n",
    "summer_2015 = download_data_date_range(49568,\"??\",\"??\")"
   ]
  },
  {
   "cell_type": "code",
   "execution_count": null,
   "metadata": {},
   "outputs": [],
   "source": [
    "## Check yourself: preview first 5 rows for summer_2015\n",
    "summer_2015.head()"
   ]
  },
  {
   "cell_type": "markdown",
   "metadata": {},
   "source": [
    "Now we will use **matplotlib** library to plot this data. "
   ]
  },
  {
   "cell_type": "code",
   "execution_count": null,
   "metadata": {},
   "outputs": [],
   "source": [
    "## Define matplotlib parameteres\n",
    "%matplotlib inline  \n",
    "sns.set_style('whitegrid')"
   ]
  },
  {
   "cell_type": "markdown",
   "metadata": {},
   "source": [
    "We will plot winter 2016 temperatures first:"
   ]
  },
  {
   "cell_type": "code",
   "execution_count": null,
   "metadata": {
    "scrolled": false
   },
   "outputs": [],
   "source": [
    "fig = plt.figure(figsize=(15,5))                                   # set matplotlib figure size\n",
    "# Plot two columns: Date/Time and Temp using color green - \"g\"\n",
    "plt.plot(winter_2016['Date/Time'], winter_2016['Temp (°C)'],\"g\", label='Hourly Temperature',alpha=0.4) #alpha=0.4 - transparency\n",
    "plt.title(\"Hourly temperatures - Ottawa(Winter 2016)\")             # plot title\n",
    "plt.ylabel('Temp (°C)')                                            # y axis label\n",
    "plt.xlabel('Time')                                                 # x axis label\n",
    "plt.legend()                                                       # show the legend\n",
    "plt.show()                                                         # display the plot"
   ]
  },
  {
   "cell_type": "markdown",
   "metadata": {},
   "source": [
    "Now we create exactly the same plot + add daily average:"
   ]
  },
  {
   "cell_type": "code",
   "execution_count": null,
   "metadata": {},
   "outputs": [],
   "source": [
    "fig = plt.figure(figsize=(15,5))\n",
    "plt.plot(winter_2016['Date/Time'], winter_2016['Temp (°C)'],\"g\", label='Hourly temperature',alpha=0.4) \n",
    "plt.title(\"Hourly temperatures - Ottawa(Winter 2016)\")\n",
    "plt.ylabel('Temp (°C)')\n",
    "plt.xlabel('Time')\n",
    "plt.legend()\n",
    "\n",
    "## This is a new line calculating averages every 24 poins(hours)\n",
    "plt.plot(winter_2016['Date/Time'], winter_2016['Temp (°C)'].rolling(window=24,center=False).mean(),'g', label='Average daily temperature')\n",
    "\n",
    "plt.show()"
   ]
  },
  {
   "cell_type": "markdown",
   "metadata": {},
   "source": [
    "### Exercise: \n",
    "Try plotting weather from another dataset(winter2017 or summer2015)"
   ]
  },
  {
   "cell_type": "code",
   "execution_count": null,
   "metadata": {},
   "outputs": [],
   "source": [
    "## your code here"
   ]
  },
  {
   "cell_type": "markdown",
   "metadata": {},
   "source": [
    "Now we will plot and compare all 3 winters, we will draw vertical lines to visualy distinguish between 3 winter months."
   ]
  },
  {
   "cell_type": "code",
   "execution_count": null,
   "metadata": {},
   "outputs": [],
   "source": [
    "fig = plt.figure(figsize=(15,10))\n",
    "fig.suptitle(\"Comparing 2016, 2017 and 2018 winter temperatures in Ottawa\",fontsize=16)\n",
    "\n",
    "### Set up a plot with subplots (rows, columns, active plot)\n",
    "ax1 = plt.subplot(311)\n",
    "plt.plot(winter_2016['Date/Time'], winter_2016['Temp (°C)'],'g', alpha=0.8,label='Winter2016')\n",
    "plt.axvline(datetime(2016, 1, 1),color='k')      # January 1st vertical line\n",
    "plt.axvline(datetime(2016, 2, 1),color='k')      # February 1st vertical line\n",
    "plt.ylabel('Temp (°C)')\n",
    "plt.legend()\n",
    "\n",
    "ax2 = plt.subplot(312, sharey=ax1)\n",
    "plt.plot(winter_2017['Date/Time'], winter_2017['Temp (°C)'],'b', alpha=0.8,label='Winter2017')\n",
    "plt.axvline(datetime(2017, 1, 1),color='k')      # January 1st vertical line\n",
    "plt.axvline(datetime(2017, 2, 1),color='k')      # February 1st vertical line\n",
    "plt.ylabel('Temp (°C)')\n",
    "plt.legend()\n",
    "\n",
    "ax3 = plt.subplot(313, sharey=ax1)\n",
    "plt.plot(winter_2018['Date/Time'], winter_2018['Temp (°C)'],'r', alpha=0.8,label='Winter2018')\n",
    "plt.axvline(datetime(2018, 1, 1),color='k')       # January 1st vertical line\n",
    "plt.axvline(datetime(2018, 2, 1),color='k')       # February 1st vertical line\n",
    "plt.ylabel('Temp (°C)')\n",
    "plt.legend()\n",
    "\n",
    "plt.show()"
   ]
  },
  {
   "cell_type": "markdown",
   "metadata": {},
   "source": [
    "We see that the coldest Christmas was last year  (up to -25°) - and the warmest in 2016 - spike of temperature up to +18°!"
   ]
  },
  {
   "cell_type": "markdown",
   "metadata": {},
   "source": [
    "<h2 align='center'>Conclusion</h2>\n",
    "\n",
    "In this notebook we explored  ways working with open data. - historical weather data.\n",
    "\n",
    "We first pulled raw html pages and then converted them in a tabular form using pandas dataframes.   \n",
    "We got station id for specific city and pulled hourly data for this location.\n",
    "\n",
    "We explored plotting data using matplotlib (hourly and daily averages).\n",
    "We plotted data for 3 winters and compared them.\n"
   ]
  },
  {
   "cell_type": "markdown",
   "metadata": {},
   "source": [
    "![alt text](https://github.com/callysto/callysto-sample-notebooks/blob/master/notebooks/images/Callysto_Notebook-Banners_Bottom_06.06.18.jpg?raw=true)"
   ]
  }
 ],
 "metadata": {
  "kernelspec": {
   "display_name": "Python 3",
   "language": "python",
   "name": "python3"
  },
  "language_info": {
   "codemirror_mode": {
    "name": "ipython",
    "version": 3
   },
   "file_extension": ".py",
   "mimetype": "text/x-python",
   "name": "python",
   "nbconvert_exporter": "python",
   "pygments_lexer": "ipython3",
   "version": "3.6.8"
  },
  "latex_envs": {
   "LaTeX_envs_menu_present": true,
   "autoclose": false,
   "autocomplete": true,
   "bibliofile": "biblio.bib",
   "cite_by": "apalike",
   "current_citInitial": 1,
   "eqLabelWithNumbers": true,
   "eqNumInitial": 1,
   "hotkeys": {
    "equation": "Ctrl-E",
    "itemize": "Ctrl-I"
   },
   "labels_anchors": false,
   "latex_user_defs": false,
   "report_style_numbering": false,
   "user_envs_cfg": false
  },
  "nbTranslate": {
   "displayLangs": [
    "*"
   ],
   "hotkey": "alt-t",
   "langInMainMenu": true,
   "sourceLang": "en",
   "targetLang": "fr",
   "useGoogleTranslate": true
  }
 },
 "nbformat": 4,
 "nbformat_minor": 2
}
