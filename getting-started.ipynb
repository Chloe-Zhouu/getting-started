{
 "cells": [
  {
   "cell_type": "markdown",
   "metadata": {},
   "source": [
    "![alt text](https://github.com/callysto/callysto-sample-notebooks/blob/master/notebooks/images/Callysto_Notebook-Banner_Top_06.06.18.jpg?raw=true)"
   ]
  },
  {
   "cell_type": "markdown",
   "metadata": {},
   "source": [
    "# Getting Started\n",
    "\n",
    "So you've logged in to (https://hub.callysto.ca), now what? Typically you'll be looking at the file manager user interface or \"Home\" directory tab and you will only have one file to play with (this one!).\n",
    "\n",
    "If you've used Jupyter notebooks before, feel free to start coding, but if not the resources in this notebook should help you get started. In the sections below, you will find links to exercsies, sample content and tutorials. Follow our steps below to get started!\n",
    "\n",
    "\n",
    "# Step One\n",
    "\n",
    "Your first task is to fill your directory at https://hub.callysto.ca with content! In order to do that, you can click [this link](https://hub.callysto.ca/jupyter/hub/user-redirect/git-pull?repo=https://github.com/callysto/getting-started&branch=master). What this link does is fill your \"Home\" directory with the notebooks shown below. Once this step has been completed you will have access to the notebooks and can click and interact with them."
   ]
  },
  {
   "cell_type": "markdown",
   "metadata": {},
   "source": [
    "# Step Two\n",
    "\n",
    "Now that you have some starter content, feel free to take a look at the notebooks and links below to get you more familiar with both Jupyter technology and Callysto. \n",
    "\n",
    "## Tutorial Guides (Optional)\n",
    "* [Jupyter Notebook Quick Start Guide](http://jupyter-notebook-beginner-guide.readthedocs.io/en/latest/)\n",
    "* [Jupyter Notebook: The Definitive Guide](https://www.datacamp.com/community/tutorials/tutorial-jupyter-notebook)\n",
    "\n",
    "\n",
    "## The Basics - Exercises to Get Started\n",
    "* [Learn about how to use the Jupyter notebooks for typesetting documents](tutorials/JupyterTestdrive-MarkDown.ipynb)\n",
    "* [Learn how to typeset equations using Latex in Jupyter Notebooks](tutorials/JupyterTestdrive-LateX.ipynb)\n",
    "* [Learn the very basics of Python in Jupyter](tutorials/JupyterTestdrive-Python.ipynb)\n",
    "\n",
    "\n",
    "## Callysto Notebooks for Your Interest\n",
    "\n",
    "### Math\n",
    "* [Reflections](Math/Reflections/reflections.ipynb) - an example featuring [GeoGebra](https://www.geogebra.org/).\n",
    "\n",
    "### General Science\n",
    "* [Climate Change](General Science/Climate Change.ipynb) - an example leveraging multiple open data sources.\n",
    "* [Measuring Conductivity](General Science/Investigating_electrical_conductivity.ipynb) - a conductivty lab that ties in open data.\n",
    "\n",
    "### Physics\n",
    "* [Nuclear properties of atoms](Physics/Nuclear.ipynb) - an interactive notebook to study radioactive decay.\n",
    "\n",
    "### Social Science\n",
    "* [Source analysis example](Social Studies/LATimes_Extension.ipynb) - working through the data in this [L.A. Times article](http://www.latimes.com/projects/la-fi-farms-immigration/) and more.\n",
    "\n",
    "### General Interest\n",
    "* [Gross Domestic Product analysis by province](General Interest/provincial-gdp-by-industry.ipynb) - exploring Statistics Canada GDP data.\n",
    "\n",
    "### Templates\n",
    "* [Science Lab Report Template](LabTemplates/Lab Report Template.ipynb)\n",
    "    * [Science Lab Report Template Tutorial](LabTemplates/Lab Report Template Tutorial.ipynb)\n",
    "* [Digital Journal Template](Summer Camp Digital Journal.ipynb) - A daily digital journal template for youth attending STEM summer camps.\n",
    "* Advanced - [General Web Scraping Template](WebScraping/web-scraping-template.ipynb)\n",
    "    * [General Web Scraping Template Tutorial](WebScraping/web-scraping.ipynb)\n",
    "\n",
    "    \n",
    "\n",
    "\n",
    "# Other Resources\n",
    "There are lots of resources for learning your way around the Jupyter ecosystem, a google (or github) search for your area of interest and \"Jupyter Notebook\" will often turn up something interesting. For example:\n",
    "\n",
    "* [A gallery of interesting Jupyter Notebooks](https://github.com/jupyter/jupyter/wiki/A-gallery-of-interesting-Jupyter-Notebooks)\n",
    "\n",
    "\n",
    "\n",
    "\n"
   ]
  },
  {
   "cell_type": "markdown",
   "metadata": {},
   "source": [
    "![alt text](https://github.com/callysto/callysto-sample-notebooks/blob/master/notebooks/images/Callysto_Notebook-Banners_Bottom_06.06.18.jpg?raw=true)"
   ]
  }
 ],
 "metadata": {
  "kernelspec": {
   "display_name": "Python 3",
   "language": "python",
   "name": "python3"
  },
  "language_info": {
   "codemirror_mode": {
    "name": "ipython",
    "version": 3
   },
   "file_extension": ".py",
   "mimetype": "text/x-python",
   "name": "python",
   "nbconvert_exporter": "python",
   "pygments_lexer": "ipython3",
   "version": "3.6.4"
  }
 },
 "nbformat": 4,
 "nbformat_minor": 2
}
