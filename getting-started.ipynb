{
 "cells": [
  {
   "cell_type": "markdown",
   "metadata": {},
   "source": [
    "![alt text](https://github.com/callysto/callysto-sample-notebooks/blob/master/notebooks/images/Callysto_Notebook-Banner_Top_06.06.18.jpg?raw=true)"
   ]
  },
  {
   "cell_type": "markdown",
   "metadata": {},
   "source": [
    "# Getting Started\n",
    "\n",
    "So you've logged in to (https://hub.callysto.ca), now what? Typically you'll be looking at the file manager user interface or \"Home\" directory tab and you will only have one file to play with (this one!).\n",
    "\n",
    "If you've used Jupyter notebooks before, feel free to start coding, but if not, the resources in this notebook should help you get started. In the sections below, you will find links to exercsies, sample content and tutorials. Each link will clone out a copy of that notebook for you to work on."
   ]
  },
  {
   "cell_type": "markdown",
   "metadata": {},
   "source": [
    "## Tutorial Guides (Optional)\n",
    "* [Jupyter Notebook Quick Start Guide](http://jupyter-notebook-beginner-guide.readthedocs.io/en/latest/)\n",
    "* [Jupyter Notebook: The Definitive Guide](https://www.datacamp.com/community/tutorials/tutorial-jupyter-notebook)\n",
    "\n",
    "\n",
    "## The Basics - Exercises to Get Started\n",
    "* [MarkDown - Learn about how to use the Jupyter notebooks for typesetting documents](/jupyter/hub/user-redirect/git-pull?repo=https://github.com/callysto/getting-started&branch=master&subPath=tutorials/JupyterTestdrive-MarkDown.ipynb)\n",
    "* [Latex - Learn how to typeset equations using Latex in Jupyter Notebooks](/jupyter/hub/user-redirect/git-pull?repo=https://github.com/callysto/getting-started&branch=master&subPath=tutorials/JupyterTestdrive-LateX.ipynb)\n",
    "* [Python - Learn the very basics of Python in Jupyter](/jupyter/hub/user-redirect/git-pull?repo=https://github.com/callysto/getting-started&branch=master&subPath=tutorials/JupyterTestdrive-Python.ipynb)\n",
    "\n",
    "\n",
    "## Callysto Notebooks for Your Interest\n",
    "\n",
    "### Math\n",
    "* [Grade 6 Functions](/jupyter/hub/user-redirect/git-pull?repo=https://github.com/callysto/getting-started&branch=master&subPath=Math/math_grade6_sample.ipynb) - introducing math functions to Grade 6 students.\n",
    "* [Reflections](/jupyter/hub/user-redirect/git-pull?repo=https://github.com/callysto/getting-started&branch=master&subPath=Math/Reflections/reflections.ipynb) - an example featuring [GeoGebra](https://www.geogebra.org/).\n",
    "\n",
    "### General Science\n",
    "* [Climate Change](/jupyter/hub/user-redirect/git-pull?repo=https://github.com/callysto/getting-started&branch=master&subPath=General%20Science/Climate%20Change.ipynb) - an example leveraging multiple open data sources.\n",
    "* [Measuring Conductivity](/jupyter/hub/user-redirect/git-pull?repo=https://github.com/callysto/getting-started&branch=master&subPath=General%20Science/Investigating_electrical_conductivity.ipynb) - a conductivty lab that ties in open data.\n",
    "\n",
    "### Physics\n",
    "* [Nuclear properties of atoms](/jupyter/hub/user-redirect/git-pull?repo=https://github.com/callysto/getting-started&branch=master&subPath=Physics/Nuclear.ipynb) - an interactive notebook to study radioactive decay.\n",
    "\n",
    "### Social Science\n",
    "* [Source analysis example](/jupyter/hub/user-redirect/git-pull?repo=https://github.com/callysto/getting-started&branch=master&subPath=Social%20Studies/LATimes_Extension.ipynb) - working through the data in this [L.A. Times article](http://www.latimes.com/projects/la-fi-farms-immigration/) and more.\n",
    "\n",
    "### General Interest\n",
    "* [Gross Domestic Product analysis by province](/jupyter/hub/user-redirect/git-pull?repo=https://github.com/callysto/getting-started&branch=master&subPath=General%20Interest/provincial-gdp-by-industry.ipynb) - exploring Statistics Canada GDP data.\n",
    "\n",
    "### Open Data Series\n",
    "* [Intro to Open Data Tutorials](/jupyter/hub/user-redirect/git-pull?repo=https://github.com/callysto/getting-started&branch=master&subPath=OpenDataExamples/Intro%20to%20open%20data.ipynb) - A tutorial series to introduce you to working with open data. \n",
    "\n",
    "### Templates\n",
    "\n",
    "* Science Lab Report [Template Tutorial](/jupyter/hub/user-redirect/git-pull?repo=https://github.com/callysto/getting-started&branch=master&subPath=LabTemplates/Lab%20Report%20Template%20Tutorial.ipynb) and [Template](/jupyter/hub/user-redirect/git-pull?repo=https://github.com/callysto/getting-started&branch=master&subPath=LabTemplates/Lab%20Report%20Template.ipynb).\n",
    "* [Digital Journal Template](/jupyter/hub/user-redirect/git-pull?repo=https://github.com/callysto/getting-started&branch=master&subPath=Technology/Digital%20Journal/Summer%20Camp%20Digital%20Journal.ipynb).\n",
    "* Web scraping [example - NHL Team Playoff Pace](/jupyter/hub/user-redirect/git-pull?repo=https://github.com/callysto/getting-started&branch=master&subPath=WebScraping/Web-scraping-NHL-Playoff-Pace.ipynb), advanced general web scraping [Template Tutorial](/jupyter/hub/user-redirect/git-pull?repo=https://github.com/callysto/getting-started&branch=master&subPath=WebScraping/web-scraping.ipynb) and [Template](/jupyter/hub/user-redirect/git-pull?repo=https://github.com/callysto/getting-started&branch=master&subPath=WebScraping/web-scraping-template.ipynb).\n",
    "\n",
    "\n",
    "# Other Resources\n",
    "There are lots of resources for learning your way around the Jupyter ecosystem, a google (or github) search for your area of interest and \"Jupyter Notebook\" will often turn up something interesting. For example:\n",
    "\n",
    "* [A gallery of interesting Jupyter Notebooks](https://github.com/jupyter/jupyter/wiki/A-gallery-of-interesting-Jupyter-Notebooks)\n",
    "\n",
    "\n",
    "\n",
    "\n"
   ]
  },
  {
   "cell_type": "markdown",
   "metadata": {},
   "source": [
    "![alt text](https://github.com/callysto/callysto-sample-notebooks/blob/master/notebooks/images/Callysto_Notebook-Banners_Bottom_06.06.18.jpg?raw=true)"
   ]
  }
 ],
 "metadata": {
  "kernelspec": {
   "display_name": "Python 3",
   "language": "python",
   "name": "python3"
  },
  "language_info": {
   "codemirror_mode": {
    "name": "ipython",
    "version": 3
   },
   "file_extension": ".py",
   "mimetype": "text/x-python",
   "name": "python",
   "nbconvert_exporter": "python",
   "pygments_lexer": "ipython3",
   "version": "3.6.5"
  }
 },
 "nbformat": 4,
 "nbformat_minor": 2
}
