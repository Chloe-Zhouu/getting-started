{
 "cells": [
  {
   "cell_type": "markdown",
   "metadata": {},
   "source": [
    "![alt text](https://github.com/callysto/callysto-sample-notebooks/blob/master/notebooks/images/Callysto_Notebook-Banner_Top_06.06.18.jpg?raw=true)"
   ]
  },
  {
   "cell_type": "markdown",
   "metadata": {},
   "source": [
    "# Getting Started\n",
    "N.B.* This is an example only, I'm using the callysto-sample-notebook repository which has gotten fairly bloated. We'd probably want to pull down something much smaller in practice.\n",
    "\n",
    "So you've logged in to (https://hub.callysto.ca), now what? Typically you'll be looking at the notebook's file manager interface and you will only have one file to play with (this one!).\n",
    "\n",
    "If you've used jupyter notebooks before, feel free to start coding, but if not the resources in this notebook should help you get started. In the sections below, you will find links to some sample notebooks. Each links will use git to clone out a working copy of the notebook into your account and open it in your browser, just pick one that intersts you and get started!\n",
    "\n",
    "\n",
    "# Step One\n",
    "\n",
    "Your first task is to fill your directory at https://hub.callysto.ca with content! In order to do that, you can either click [this link](nbgitpuller link here (no need for bitly link, as it'll be hidden). What this link does is fill your directory with the notebooks shown below.\n",
    "\n",
    "# A More Technical Step One (are we removing this?) \n",
    "\n",
    "For those of you curious about what the link above is actually doing, it essentially runs the command below in the background for you. If you would like, you can select the cell below and type `Ctrl + Enter` to execute the cell. There is no danger to running this command; if you've already clicked the link, this command won't download the directory again. "
   ]
  },
  {
   "cell_type": "code",
   "execution_count": 2,
   "metadata": {},
   "outputs": [
    {
     "name": "stdout",
     "output_type": "stream",
     "text": [
      "fatal: destination path 'getting-started' already exists and is not an empty directory.\r\n"
     ]
    }
   ],
   "source": [
    "# Currently a private repo, until that is fixed neither the link or this command will work unless you have \n",
    "# permission to be in the repository. \n",
    "!git clone https://github.com/callysto/getting-started.git"
   ]
  },
  {
   "cell_type": "markdown",
   "metadata": {},
   "source": [
    "Now that you have some starter content, feel free to take a look at the notebooks and links below to get you more familiar with both Jupyter and Callysto. \n",
    "\n",
    "\n",
    "# The Basics\n",
    "* [Learn about how to use the Jupyter notebooks for typesetting documents](tutorials/JupyterTestdrive-MarkDown.ipynb)\n",
    "* [Learn how to typeset equations using Latex in Jupyter Notebooks](tutorials/JupyterTestdrive-LateX.ipynb)\n",
    "* [Learn the very basics of Python in Jupyter](tutorials/JupyterTestDrive-Python.ipynb)\n",
    "\n",
    "# Tutorials\n",
    "* [Jupyter Notebook Quick Start Guide](http://jupyter-notebook-beginner-guide.readthedocs.io/en/latest/)\n",
    "* [Jupyter Notebook: The Definitive Guide](https://www.datacamp.com/community/tutorials/tutorial-jupyter-notebook)\n",
    "\n",
    "# Notebooks\n",
    "\n",
    "## Templates\n",
    "* [Lab Report Template](LabTemplates/Lab Report Template.ipynb)\n",
    "    * [Lab Report Template Tutorial](LabTemplates/Lab Report Template Tutorial.ipynb)\n",
    "* [Web Scraping Template](WebScraping/web-scraping-template.ipynb)\n",
    "    * [Web Scraping Template Tutorial](WebScraping/web-scraping.ipynb)\n",
    "\n",
    "\n",
    "# General Interest\n",
    "economics-data.ipynb - Work through economic data from the World Bank\n",
    "# Math\n",
    "FlippingCoins.ipynb - Random numbers, probability etc.\n",
    "# Physics\n",
    "Nuclear.ipynb - Study radioactive decay\n",
    "# Other Resources\n",
    "There are lots of resources for learning your way around the Jupyter ecosystem, a google (or github) search for your area of interest and \"Jupyter Notebook\" will often turn up something interesting. The links below are some\n",
    "\n",
    "* [The Jupyter Notebook](https://jupyter-notebook.readthedocs.io/en/stable/) (official docs)\n",
    "* [A gallery of interesting Jupyter Notebooks](https://github.com/jupyter/jupyter/wiki/A-gallery-of-interesting-Jupyter-Notebooks)"
   ]
  },
  {
   "cell_type": "markdown",
   "metadata": {},
   "source": [
    "![alt text](https://github.com/callysto/callysto-sample-notebooks/blob/master/notebooks/images/Callysto_Notebook-Banners_Bottom_06.06.18.jpg?raw=true)"
   ]
  }
 ],
 "metadata": {
  "kernelspec": {
   "display_name": "Python 3",
   "language": "python",
   "name": "python3"
  },
  "language_info": {
   "codemirror_mode": {
    "name": "ipython",
    "version": 3
   },
   "file_extension": ".py",
   "mimetype": "text/x-python",
   "name": "python",
   "nbconvert_exporter": "python",
   "pygments_lexer": "ipython3",
   "version": "3.6.4"
  }
 },
 "nbformat": 4,
 "nbformat_minor": 2
}
