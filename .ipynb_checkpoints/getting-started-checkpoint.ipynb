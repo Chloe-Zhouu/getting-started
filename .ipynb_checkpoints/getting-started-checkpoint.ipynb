{
 "cells": [
  {
   "cell_type": "markdown",
   "metadata": {},
   "source": [
    "![alt text](https://github.com/callysto/callysto-sample-notebooks/blob/master/notebooks/images/Callysto_Notebook-Banner_Top_06.06.18.jpg?raw=true)"
   ]
  },
  {
   "cell_type": "markdown",
   "metadata": {
    "lang": "en"
   },
   "source": [
    "# Getting Started\n",
    "\n",
    "So you've logged in to (https://hub.callysto.ca), now what? Typically you'll be looking at the file manager user interface or \"Home\" directory tab and you will only have one file to play with (this one!).\n",
    "\n",
    "If you've used Jupyter notebooks before, feel free to start coding, but if not the resources in this notebook should help you get started. In the sections below, you will find links to exercsies, sample content and tutorials. Follow our steps below to get started!\n",
    "\n",
    "\n",
    "# Step One\n",
    "\n",
    "Your first task is to fill your home directory with content! In order to do that, you can click [this link](https://hub.callysto.ca/jupyter/hub/user-redirect/git-pull?repo=https://github.com/callysto/getting-started&branch=master). What this link does is fill your \"Home\" directory with the notebooks shown below. Once this step has been completed you will have access to the notebooks and can click and interact with them."
   ]
  },
  {
   "cell_type": "markdown",
   "metadata": {
    "lang": "fr"
   },
   "source": [
    "# Commencer\n",
    "\n",
    "Donc, vous vous êtes connecté (https://hub.callysto.ca), et maintenant? En règle générale, vous regarderez l'interface utilisateur du gestionnaire de fichiers ou l'onglet \"Accueil\" du répertoire et vous ne disposerez que d'un seul fichier (celui-ci!).\n",
    "\n",
    "Si vous avez déjà utilisé des ordinateurs portables Jupyter, n'hésitez pas à commencer le codage, mais sinon, les ressources de ce cahier devraient vous aider à démarrer. Dans les sections ci-dessous, vous trouverez des liens vers des exercices, des exemples de contenu et des didacticiels. Suivez nos étapes ci-dessous pour commencer!\n",
    "\n",
    "\n",
    "# La première étape\n",
    "\n",
    "Votre première tâche consiste à remplir votre répertoire personnel avec du contenu! Pour ce faire, vous pouvez cliquer sur [ce lien](https://hub.callysto.ca/jupyter/hub/user-redirect/git-pull?repo=https://github.com/callysto/getting-started&branch=master). Ce que fait ce lien remplit votre répertoire \"Accueil\" avec les cahiers ci-dessous. Une fois cette étape terminée, vous aurez accès aux cahiers et pourrez cliquer et interagir avec eux."
   ]
  },
  {
   "cell_type": "markdown",
   "metadata": {
    "lang": "en"
   },
   "source": [
    "# Step Two\n",
    "\n",
    "Now that you have some starter content, feel free to take a look at the notebooks and links below to get you more familiar with both Jupyter technology and Callysto. \n",
    "\n",
    "## Tutorial Guides (Optional)\n",
    "* [Jupyter Notebook Quick Start Guide](http://jupyter-notebook-beginner-guide.readthedocs.io/en/latest/)\n",
    "* [Jupyter Notebook: The Definitive Guide](https://www.datacamp.com/community/tutorials/tutorial-jupyter-notebook)\n",
    "\n",
    "\n",
    "## The Basics - Exercises to Get Started\n",
    "* [MarkDown - Learn about how to use the Jupyter notebooks for typesetting documents](tutorials/JupyterTestdrive-MarkDown.ipynb)\n",
    "* [Latex - Learn how to typeset equations using Latex in Jupyter Notebooks](tutorials/JupyterTestdrive-LateX.ipynb)\n",
    "* [Python - Learn the very basics of Python in Jupyter](tutorials/JupyterTestdrive-Python.ipynb)\n",
    "\n",
    "\n",
    "## Callysto Notebooks for Your Interest\n",
    "\n",
    "### Math\n",
    "* [Reflections](Math/Reflections/reflections.ipynb) - an example featuring [GeoGebra](https://www.geogebra.org/).\n",
    "\n",
    "### General Science\n",
    "* [Climate Change](General%20Science/Climate%20Change.ipynb) - an example leveraging multiple open data sources.\n",
    "* [Measuring Conductivity](General%20Science/Investigating_electrical_conductivity.ipynb) - a conductivty lab that ties in open data.\n",
    "\n",
    "### Physics\n",
    "* [Nuclear properties of atoms](Physics/Nuclear.ipynb) - an interactive notebook to study radioactive decay.\n",
    "\n",
    "### Social Science\n",
    "* [Source analysis example](Social%20Studies/LATimes_Extension.ipynb) - working through the data in this [L.A. Times article](http://www.latimes.com/projects/la-fi-farms-immigration/) and more.\n",
    "\n",
    "### General Interest\n",
    "* [Gross Domestic Product analysis by province](General%20Interest/provincial-gdp-by-industry.ipynb) - exploring Statistics Canada GDP data.\n",
    "\n",
    "### Open Data Series\n",
    "* [Intro to Open Data Tutorials](OpenDataExamples/Intro%20to%20open%20data.ipynb) - A tutorial series to introduce you to working with open data. \n",
    "\n",
    "### Templates\n",
    "* [Science Lab Report Template](LabTemplates/Lab%20Report%20Template.ipynb)\n",
    "    * [Science Lab Report Template Tutorial](LabTemplates/Lab%20Report%20Template%20Tutorial.ipynb)\n",
    "* [Digital Journal Template](Technology/Digital%20Journal/Summer%20Camp%20Digital%20Journal.ipynb) - A daily digital journal template for youth attending STEM summer camps.\n",
    "* Advanced - [General Web Scraping Template](WebScraping/web-scraping-template.ipynb)\n",
    "    * [General Web Scraping Template Tutorial](WebScraping/web-scraping.ipynb)\n",
    "\n",
    "# Other Resources\n",
    "There are lots of resources for learning your way around the Jupyter ecosystem, a google (or github) search for your area of interest and \"Jupyter Notebook\" will often turn up something interesting. For example:\n",
    "\n",
    "* [A gallery of interesting Jupyter Notebooks](https://github.com/jupyter/jupyter/wiki/A-gallery-of-interesting-Jupyter-Notebooks)"
   ]
  },
  {
   "cell_type": "markdown",
   "metadata": {
    "lang": "fr"
   },
   "source": [
    "# Deuxième étape\n",
    "\n",
    "Maintenant que vous avez un contenu de démarrage, n'hésitez pas à consulter les cahiers et les liens ci-dessous pour vous familiariser davantage avec la technologie Jupyter et Callysto.\n",
    "\n",
    "## Tutorial Guides (Facultatif)\n",
    "* [Guide de démarrage rapide pour ordinateur portable Jupyter](http://jupyter-notebook-beginner-guide.readthedocs.io/en/latest/)\n",
    "* [Notebook Jupyter: le guide définitif](https://www.datacamp.com/community/tutorials/tutorial-jupyter-notebook)\n",
    "\n",
    "\n",
    "## The Basics - Exercices pour commencer\n",
    "* [MarkDown - Découvrez comment utiliser les blocs-notes Jupyter pour la composition de documents](tutorials/JupyterTestdrive-MarkDown.ipynb)\n",
    "* [Latex - Apprenez à composer des équations à l'aide de latex dans les ordinateurs portables Jupyter](tutorials/JupyterTestdrive-LateX.ipynb)\n",
    "* [Python - Apprenez les bases de Python dans Jupyter](tutorials/JupyterTestdrive-Python.ipynb)\n",
    "\n",
    "\n",
    "## Carnets Callysto pour votre intérêt\n",
    "\n",
    "### Math\n",
    "* [Reflections](Math/Reflections/reflections.ipynb) - un exemple de [GeoGebra](https://www.geogebra.org/).\n",
    "\n",
    "### Science générale\n",
    "* [Changement climatique](General%20Science/Climate%20Change.ipynb) - un exemple exploitant plusieurs sources de données ouvertes.\n",
    "* [Mesure de la conductivité](General%20Science/Investigating_electrical_conductivity.ipynb) - un laboratoire de conduite qui intègre des données ouvertes.\n",
    "\n",
    "### La physique\n",
    "* [Propriétés nucléaires des atomes](Physics/Nuclear.ipynb) - un cahier interactif pour étudier la décroissance radioactive.\n",
    "\n",
    "### Science sociale\n",
    "* [Exemple d’analyse de la source](Social%20Studies/LATimes_Extension.ipynb) - Traiter les données de cette [L.A. Times article](http://www.latimes.com/projects/la-fi-farms-immigration/) et plus encore.\n",
    "\n",
    "### Intérêt général\n",
    "* [Analyse du produit intérieur brut par province](General%20Interest/provincial-gdp-by-industry.ipynb) - exploration des données du PIB de Statistique Canada.\n",
    "\n",
    "### Open Data Series\n",
    "* [Introduction aux didacticiels sur les données ouvertes](OpenDataExamples/Intro%20to%20open%20data.ipynb) - Une série de didacticiels pour vous familiariser avec les données ouvertes.\n",
    "\n",
    "### Modèles\n",
    "* [Modèle de rapport Science Lab](LabTemplates/Lab%20Report%20Template.ipynb)\n",
    "* [Didacticiel de modèle de rapport de laboratoire de science](LabTemplates/Lab%20Report%20Template%20Tutorial.ipynb)\n",
    "* [Modèle de revue numérique](Technology/Digital%20Journal/Summer%20Camp%20Digital%20Journal.ipynb) - Un modèle de journal numérique quotidien pour les jeunes participant aux camps d'été STEM.\n",
    "* Avancé - [Modèle de découpage Web général](WebScraping/web-scraping-template.ipynb)\n",
    "* [Tutoriel général sur les modèles de scraping Web](WebScraping/web-scraping.ipynb)\n",
    "\n",
    "# Autres ressources\n",
    "Il existe de nombreuses ressources pour vous familiariser avec l’écosystème Jupyter, une recherche sur Google (ou github) pour votre domaine d’intérêt et «Jupyter Notebook» sera souvent intéressant. Par exemple:\n",
    "\n",
    "* [Une galerie de cahiers Jupyter intéressants](https://github.com/jupyter/jupyter/wiki/A-gallery-of-interesting-Jupyter-Notebooks)"
   ]
  },
  {
   "cell_type": "markdown",
   "metadata": {},
   "source": [
    "![alt text](https://github.com/callysto/callysto-sample-notebooks/blob/master/notebooks/images/Callysto_Notebook-Banners_Bottom_06.06.18.jpg?raw=true)"
   ]
  }
 ],
 "metadata": {
  "kernelspec": {
   "display_name": "Python 3",
   "language": "python",
   "name": "python3"
  },
  "language_info": {
   "codemirror_mode": {
    "name": "ipython",
    "version": 3
   },
   "file_extension": ".py",
   "mimetype": "text/x-python",
   "name": "python",
   "nbconvert_exporter": "python",
   "pygments_lexer": "ipython3",
   "version": "3.6.3"
  },
  "nbTranslate": {
   "displayLangs": [
    "*"
   ],
   "hotkey": "alt-t",
   "langInMainMenu": true,
   "sourceLang": "en",
   "targetLang": "fr",
   "useGoogleTranslate": true
  }
 },
 "nbformat": 4,
 "nbformat_minor": 2
}
